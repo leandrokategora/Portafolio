{
    "cells": [
        {
            "cell_type": "code",
            "execution_count": null,
            "metadata": {
                "azdata_cell_guid": "6dbd04c1-40ea-4629-b1f8-38d6109f4299",
                "language": "python"
            },
            "outputs": [],
            "source": [
                "import pandas as pd\n",
                "import numpy as np\n",
                "# variable_1 = \"\\\\serverarchivos\\archivosGT\\PLANEAMIENTO\\19-POWER BI\\01-Total Bebidas\\TACO GQ\\auxiliar.xlsx\"\n"
            ]
        },
        {
            "cell_type": "code",
            "execution_count": null,
            "metadata": {},
            "outputs": [],
            "source": [
                "df = pd.read_excel(\"\\\\serverarchivos\\archivosGT\\PLANEAMIENTO\\19-POWER BI\\01-Total Bebidas\\TACO GQ\\Algoritmo.xlsb\", sheet_name=\"Export\")\n",
                "ld.head(50)\n"
            ]
        }
    ],
    "metadata": {
        "interpreter": {
            "hash": "897a6d9ead6ccb62961cfc597fe4d29a42b1d13c4cae0e68e38a104014edbaf7"
        },
        "kernelspec": {
            "display_name": "Python 3.10.4 ('venv': venv)",
            "language": "python",
            "name": "python3"
        },
        "language_info": {
            "codemirror_mode": {
                "name": "ipython",
                "version": 3
            },
            "file_extension": ".py",
            "mimetype": "text/x-python",
            "name": "python",
            "nbconvert_exporter": "python",
            "pygments_lexer": "ipython3",
            "version": "3.10.4"
        }
    },
    "nbformat": 4,
    "nbformat_minor": 2
}
