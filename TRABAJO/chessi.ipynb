{
 "cells": [
  {
   "cell_type": "code",
   "execution_count": 37,
   "metadata": {},
   "outputs": [],
   "source": [
    "import psycopg2\n",
    "import pandas as pd\n",
    "import numpy as np"
   ]
  },
  {
   "cell_type": "code",
   "execution_count": 33,
   "metadata": {},
   "outputs": [],
   "source": [
    "# def main():\n",
    "syncro =  pd.read_csv('d:/Usuario/Desktop/Clientes.csv')\n",
    "df_sy = pd.DataFrame(syncro)\n"
   ]
  },
  {
   "cell_type": "code",
   "execution_count": 40,
   "metadata": {},
   "outputs": [
    {
     "data": {
      "text/html": [
       "<div>\n",
       "<style scoped>\n",
       "    .dataframe tbody tr th:only-of-type {\n",
       "        vertical-align: middle;\n",
       "    }\n",
       "\n",
       "    .dataframe tbody tr th {\n",
       "        vertical-align: top;\n",
       "    }\n",
       "\n",
       "    .dataframe thead th {\n",
       "        text-align: right;\n",
       "    }\n",
       "</style>\n",
       "<table border=\"1\" class=\"dataframe\">\n",
       "  <thead>\n",
       "    <tr style=\"text-align: right;\">\n",
       "      <th></th>\n",
       "      <th>codigo</th>\n",
       "      <th>razon_social</th>\n",
       "      <th>direccion</th>\n",
       "      <th>zona</th>\n",
       "      <th>vendedor</th>\n",
       "      <th>telefono</th>\n",
       "      <th>lista</th>\n",
       "      <th>orden</th>\n",
       "      <th>ramo</th>\n",
       "      <th>localidad</th>\n",
       "      <th>...</th>\n",
       "      <th>margen</th>\n",
       "      <th>percepid</th>\n",
       "      <th>esFoco</th>\n",
       "      <th>provincia</th>\n",
       "      <th>condicionVenta</th>\n",
       "      <th>email</th>\n",
       "      <th>periodicidad</th>\n",
       "      <th>semanaVisita</th>\n",
       "      <th>fechaAnclaje</th>\n",
       "      <th>tocaVisitar</th>\n",
       "    </tr>\n",
       "  </thead>\n",
       "  <tbody>\n",
       "    <tr>\n",
       "      <th>364</th>\n",
       "      <td>1524</td>\n",
       "      <td>CORREA DA SILVEIRA PEDRO</td>\n",
       "      <td>LINDOLZO SAENZ 1</td>\n",
       "      <td>102</td>\n",
       "      <td>2</td>\n",
       "      <td>3756416770</td>\n",
       "      <td>2</td>\n",
       "      <td>610</td>\n",
       "      <td>KIOSCOS/MAXIKIOSCOS</td>\n",
       "      <td>GDOR ING V VIRASORO</td>\n",
       "      <td>...</td>\n",
       "      <td>NaN</td>\n",
       "      <td>1524</td>\n",
       "      <td>0</td>\n",
       "      <td>CORRIENTES</td>\n",
       "      <td>CONTADO</td>\n",
       "      <td>DASILVERAPEDRO_52@GMAIL.COM</td>\n",
       "      <td>1</td>\n",
       "      <td>1</td>\n",
       "      <td>7/6/2021</td>\n",
       "      <td>1</td>\n",
       "    </tr>\n",
       "  </tbody>\n",
       "</table>\n",
       "<p>1 rows × 28 columns</p>\n",
       "</div>"
      ],
      "text/plain": [
       "     codigo              razon_social         direccion  zona  vendedor  \\\n",
       "364    1524  CORREA DA SILVEIRA PEDRO  LINDOLZO SAENZ 1   102         2   \n",
       "\n",
       "       telefono  lista  orden                 ramo            localidad  ...  \\\n",
       "364  3756416770      2    610  KIOSCOS/MAXIKIOSCOS  GDOR ING V VIRASORO  ...   \n",
       "\n",
       "     margen  percepid esFoco   provincia  condicionVenta  \\\n",
       "364     NaN      1524      0  CORRIENTES         CONTADO   \n",
       "\n",
       "                           email  periodicidad  semanaVisita  fechaAnclaje  \\\n",
       "364  DASILVERAPEDRO_52@GMAIL.COM             1             1      7/6/2021   \n",
       "\n",
       "     tocaVisitar  \n",
       "364            1  \n",
       "\n",
       "[1 rows x 28 columns]"
      ]
     },
     "execution_count": 40,
     "metadata": {},
     "output_type": "execute_result"
    }
   ],
   "source": [
    "df_sy.columns\n",
    "df_sy.sample()"
   ]
  },
  {
   "cell_type": "code",
   "execution_count": 24,
   "metadata": {},
   "outputs": [
    {
     "data": {
      "text/plain": [
       "codigo              int64\n",
       "razon_social       object\n",
       "direccion          object\n",
       "zona                int64\n",
       "vendedor            int64\n",
       "telefono            int64\n",
       "lista               int64\n",
       "orden               int64\n",
       "ramo               object\n",
       "localidad          object\n",
       "cuit                int64\n",
       "habilitacion        int64\n",
       "vtoReba            object\n",
       "categoria         float64\n",
       "cobraIB             int64\n",
       "condIVA             int64\n",
       "tablaBonifId        int64\n",
       "topeVenta         float64\n",
       "margen            float64\n",
       "percepid            int64\n",
       "esFoco              int64\n",
       "provincia          object\n",
       "condicionVenta     object\n",
       "email              object\n",
       "periodicidad        int64\n",
       "semanaVisita        int64\n",
       "fechaAnclaje       object\n",
       "tocaVisitar         int64\n",
       "dtype: object"
      ]
     },
     "execution_count": 24,
     "metadata": {},
     "output_type": "execute_result"
    }
   ],
   "source": [
    "df_sy.dtypes"
   ]
  },
  {
   "cell_type": "code",
   "execution_count": 41,
   "metadata": {},
   "outputs": [
    {
     "data": {
      "text/plain": [
       "0      False\n",
       "1      False\n",
       "2      False\n",
       "3      False\n",
       "4      False\n",
       "       ...  \n",
       "830    False\n",
       "831    False\n",
       "832    False\n",
       "833    False\n",
       "834    False\n",
       "Name: codigo, Length: 835, dtype: bool"
      ]
     },
     "execution_count": 41,
     "metadata": {},
     "output_type": "execute_result"
    }
   ],
   "source": [
    "df_sy.codigo==1524"
   ]
  }
 ],
 "metadata": {
  "kernelspec": {
   "display_name": "Python 3.10.4 64-bit (system)",
   "language": "python",
   "name": "python3"
  },
  "language_info": {
   "codemirror_mode": {
    "name": "ipython",
    "version": 3
   },
   "file_extension": ".py",
   "mimetype": "text/x-python",
   "name": "python",
   "nbconvert_exporter": "python",
   "pygments_lexer": "ipython3",
   "version": "3.10.4"
  },
  "orig_nbformat": 4,
  "vscode": {
   "interpreter": {
    "hash": "897a6d9ead6ccb62961cfc597fe4d29a42b1d13c4cae0e68e38a104014edbaf7"
   }
  }
 },
 "nbformat": 4,
 "nbformat_minor": 2
}
