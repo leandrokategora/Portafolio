{
 "cells": [
  {
   "cell_type": "code",
   "execution_count": 32,
   "metadata": {},
   "outputs": [],
   "source": [
    "import numpy as np\n",
    "import pandas as pd\n",
    "from conct_db import enginex\n",
    "from sqlalchemy.types import DATE"
   ]
  },
  {
   "cell_type": "code",
   "execution_count": 58,
   "metadata": {},
   "outputs": [],
   "source": [
    "data = pd.read_excel('y:/07-MONITOREO/01-Ventas/01-MASUNO/Bases/VerCheckinCheckout94.xlsx')\n",
    "df_94 = pd.DataFrame(data)\n",
    "# df_chk.sample()\n",
    "data2 = pd.read_excel('y:/07-MONITOREO/01-Ventas/01-MASUNO/Bases/VerCheckinCheckoutTC.xlsx')\n",
    "df_tc = pd.DataFrame(data2)"
   ]
  },
  {
   "cell_type": "code",
   "execution_count": 61,
   "metadata": {},
   "outputs": [],
   "source": [
    "df_94[['Coordenadas CI', 'Coordenadas CO']] = df_94[['Coordenadas CI', 'Coordenadas CO']].astype(str)\n",
    "df_94['COD_DISTRI']=369117\n",
    "df_tc['COD_DISTRI']=369846\n"
   ]
  },
  {
   "cell_type": "code",
   "execution_count": 62,
   "metadata": {},
   "outputs": [
    {
     "data": {
      "text/html": [
       "<div>\n",
       "<style scoped>\n",
       "    .dataframe tbody tr th:only-of-type {\n",
       "        vertical-align: middle;\n",
       "    }\n",
       "\n",
       "    .dataframe tbody tr th {\n",
       "        vertical-align: top;\n",
       "    }\n",
       "\n",
       "    .dataframe thead th {\n",
       "        text-align: right;\n",
       "    }\n",
       "</style>\n",
       "<table border=\"1\" class=\"dataframe\">\n",
       "  <thead>\n",
       "    <tr style=\"text-align: right;\">\n",
       "      <th></th>\n",
       "      <th>Codigo</th>\n",
       "      <th>Cliente</th>\n",
       "      <th>Vendedor</th>\n",
       "      <th>Es Valido</th>\n",
       "      <th>Fecha Checkin</th>\n",
       "      <th>Fecha Checkout</th>\n",
       "      <th>Mot. Invalidez CI</th>\n",
       "      <th>Mot. Invalidez CO</th>\n",
       "      <th>Coordenadas CI</th>\n",
       "      <th>Coordenadas CO</th>\n",
       "      <th>Coordenadas CI Y</th>\n",
       "      <th>Coordenadas CI X</th>\n",
       "      <th>COD_DISTRI</th>\n",
       "    </tr>\n",
       "  </thead>\n",
       "  <tbody>\n",
       "    <tr>\n",
       "      <th>10378</th>\n",
       "      <td>9700</td>\n",
       "      <td>SKIBICKI YANIL ANABEL</td>\n",
       "      <td>14</td>\n",
       "      <td>SI</td>\n",
       "      <td>16/08/2022 09:49:01</td>\n",
       "      <td>16/08/2022 09:49:23</td>\n",
       "      <td>NaN</td>\n",
       "      <td>NaN</td>\n",
       "      <td>-26.994924;-54.4912228</td>\n",
       "      <td>-26.9949704;-54.4911952</td>\n",
       "      <td>-26.994924;</td>\n",
       "      <td>54.4912228</td>\n",
       "      <td>369117</td>\n",
       "    </tr>\n",
       "  </tbody>\n",
       "</table>\n",
       "</div>"
      ],
      "text/plain": [
       "       Codigo                Cliente  Vendedor Es Valido        Fecha Checkin  \\\n",
       "10378    9700  SKIBICKI YANIL ANABEL        14        SI  16/08/2022 09:49:01   \n",
       "\n",
       "            Fecha Checkout Mot. Invalidez CI Mot. Invalidez CO  \\\n",
       "10378  16/08/2022 09:49:23               NaN               NaN   \n",
       "\n",
       "               Coordenadas CI           Coordenadas CO Coordenadas CI Y  \\\n",
       "10378  -26.994924;-54.4912228  -26.9949704;-54.4911952      -26.994924;   \n",
       "\n",
       "      Coordenadas CI X  COD_DISTRI  \n",
       "10378       54.4912228      369117  "
      ]
     },
     "execution_count": 62,
     "metadata": {},
     "output_type": "execute_result"
    }
   ],
   "source": [
    "df_94['Coordenadas CI Y'] = df_94['Coordenadas CI'].str[:11]\n",
    "df_94['Coordenadas CI X'] = df_94['Coordenadas CI'].str[12:]\n",
    "df_94.sample()"
   ]
  }
 ],
 "metadata": {
  "kernelspec": {
   "display_name": "Python 3.10.4 64-bit (system)",
   "language": "python",
   "name": "python3"
  },
  "language_info": {
   "codemirror_mode": {
    "name": "ipython",
    "version": 3
   },
   "file_extension": ".py",
   "mimetype": "text/x-python",
   "name": "python",
   "nbconvert_exporter": "python",
   "pygments_lexer": "ipython3",
   "version": "3.10.4"
  },
  "orig_nbformat": 4,
  "vscode": {
   "interpreter": {
    "hash": "897a6d9ead6ccb62961cfc597fe4d29a42b1d13c4cae0e68e38a104014edbaf7"
   }
  }
 },
 "nbformat": 4,
 "nbformat_minor": 2
}
