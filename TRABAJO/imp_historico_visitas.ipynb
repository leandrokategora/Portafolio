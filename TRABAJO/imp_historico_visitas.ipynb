{
 "cells": [
  {
   "cell_type": "code",
   "execution_count": 1,
   "metadata": {},
   "outputs": [
    {
     "name": "stdout",
     "output_type": "stream",
     "text": [
      "Conect succesfull\n"
     ]
    }
   ],
   "source": [
    "import numpy as np\n",
    "import pandas as pd\n",
    "from conct_db import enginex\n",
    "from sqlalchemy.types import DATE, INTEGER, VARCHAR, DATETIME\n",
    "from datetime import datetime as dt\n",
    "from datetime import date"
   ]
  },
  {
   "cell_type": "code",
   "execution_count": 2,
   "metadata": {},
   "outputs": [],
   "source": [
    "data94 = pd.read_csv('y:/07-MONITOREO/01-Ventas/01-MASUNO/Bases/data_TD.csv', sep=';', encoding='UTF-8')\n",
    "df_94 = pd.DataFrame(data94)\n",
    "# # df_chk.sample()\n",
    "datatc = pd.read_csv('y:/07-MONITOREO/01-Ventas/01-MASUNO/Bases/data_TC.csv', sep=';', encoding='UTF-8')\n",
    "df_tc = pd.DataFrame(datatc)\n",
    "# \n",
    "datakg = pd.read_csv('y:/07-MONITOREO/01-Ventas/01-MASUNO/Bases/data_KG.csv', sep=';', encoding='UTF-8')\n",
    "df_kg = pd.DataFrame(datakg)\n",
    "# # \n",
    "datafs = pd.read_csv('y:/07-MONITOREO/01-Ventas/01-MASUNO/Bases/data_FS.csv', sep=';', encoding='UTF-8')\n",
    "df_fs = pd.DataFrame(datafs)\n",
    "# # \n",
    "datatl = pd.read_csv('y:/07-MONITOREO/01-Ventas/01-MASUNO/Bases/data_TL.csv', sep=';', encoding='UTF-8')\n",
    "df_tl = pd.DataFrame(datatl)"
   ]
  },
  {
   "cell_type": "code",
   "execution_count": 3,
   "metadata": {},
   "outputs": [],
   "source": [
    "df_chk = pd.concat([df_94,df_tc,df_fs,df_kg,df_tl])"
   ]
  },
  {
   "cell_type": "code",
   "execution_count": 4,
   "metadata": {},
   "outputs": [
    {
     "data": {
      "text/plain": [
       "Index(['TenantRegion', 'RegionCode', 'DistributorExternCode',\n",
       "       'DistributorName', 'OrganizationExternCode', 'OrganizationCode',\n",
       "       'LeaderCode', 'LeaderName', 'SupervisorCode', 'SupervisorName',\n",
       "       'SellerCode', 'SellerName', 'Date', 'VisitId', 'CheckinStart',\n",
       "       'CheckinEnd', 'IsVisitValid', 'VisitDuration', 'ClientCode',\n",
       "       'ClientName', 'ClientFantasyName', 'ClientAddress', 'HasBuyed',\n",
       "       'AtWorkingHours', 'IsInRoute', 'EmployeeType', 'IsInUniverse',\n",
       "       'SurveyCampaignsTargetTags', 'SurveyCampaignsAnswersTags',\n",
       "       'HasLicense'],\n",
       "      dtype='object')"
      ]
     },
     "execution_count": 4,
     "metadata": {},
     "output_type": "execute_result"
    }
   ],
   "source": [
    "df_chk.columns"
   ]
  },
  {
   "cell_type": "code",
   "execution_count": 5,
   "metadata": {},
   "outputs": [],
   "source": [
    "try:\n",
    "    df_chk = df_chk.drop(['TenantRegion', 'RegionCode', 'DistributorName', 'OrganizationExternCode',\n",
    "            'OrganizationCode', 'LeaderCode', 'LeaderName', 'SupervisorCode', 'SupervisorName',\n",
    "            'SellerName', 'ClientName', 'ClientFantasyName', \n",
    "            'EmployeeType', 'IsInUniverse', 'SurveyCampaignsTargetTags',\n",
    "            'SurveyCampaignsAnswersTags', 'HasLicense', 'ClientAddress'], axis=1)\n",
    "except:\n",
    "    pass\n",
    "try:\n",
    "    df_chk = df_chk.drop(['HasLicense,,'], axis=1)\n",
    "except:\n",
    "    pass\n",
    "df_chk['IsVisitValid']= df_chk['IsVisitValid'].astype(str)\n",
    "# df_chk.sample(5)"
   ]
  },
  {
   "cell_type": "code",
   "execution_count": 6,
   "metadata": {},
   "outputs": [
    {
     "data": {
      "text/plain": [
       "Index(['DistributorExternCode', 'SellerCode', 'Date', 'VisitId',\n",
       "       'CheckinStart', 'CheckinEnd', 'IsVisitValid', 'VisitDuration',\n",
       "       'ClientCode', 'HasBuyed', 'AtWorkingHours', 'IsInRoute'],\n",
       "      dtype='object')"
      ]
     },
     "execution_count": 6,
     "metadata": {},
     "output_type": "execute_result"
    }
   ],
   "source": [
    "df_chk.columns"
   ]
  },
  {
   "cell_type": "code",
   "execution_count": 7,
   "metadata": {},
   "outputs": [],
   "source": [
    "df_chk = df_chk[['DistributorExternCode', 'SellerCode', 'Date', 'VisitId',\n",
    "       'CheckinStart', 'CheckinEnd', 'IsVisitValid', 'VisitDuration',\n",
    "       'ClientCode', 'HasBuyed', 'AtWorkingHours', 'IsInRoute']]\n",
    "# df_chk.sample(5)"
   ]
  },
  {
   "cell_type": "code",
   "execution_count": 8,
   "metadata": {},
   "outputs": [
    {
     "data": {
      "text/html": [
       "<div>\n",
       "<style scoped>\n",
       "    .dataframe tbody tr th:only-of-type {\n",
       "        vertical-align: middle;\n",
       "    }\n",
       "\n",
       "    .dataframe tbody tr th {\n",
       "        vertical-align: top;\n",
       "    }\n",
       "\n",
       "    .dataframe thead th {\n",
       "        text-align: right;\n",
       "    }\n",
       "</style>\n",
       "<table border=\"1\" class=\"dataframe\">\n",
       "  <thead>\n",
       "    <tr style=\"text-align: right;\">\n",
       "      <th></th>\n",
       "      <th>DistributorExternCode</th>\n",
       "      <th>SellerCode</th>\n",
       "      <th>Date</th>\n",
       "      <th>VisitId</th>\n",
       "      <th>CheckinStart</th>\n",
       "      <th>CheckinEnd</th>\n",
       "      <th>IsVisitValid</th>\n",
       "      <th>VisitDuration</th>\n",
       "      <th>ClientCode</th>\n",
       "      <th>HasBuyed</th>\n",
       "      <th>AtWorkingHours</th>\n",
       "      <th>IsInRoute</th>\n",
       "    </tr>\n",
       "  </thead>\n",
       "  <tbody>\n",
       "    <tr>\n",
       "      <th>110</th>\n",
       "      <td>445625</td>\n",
       "      <td>14</td>\n",
       "      <td>2022-11-01</td>\n",
       "      <td>438490213</td>\n",
       "      <td>1/11/2022 12:06:26</td>\n",
       "      <td>1/11/2022 12:10:57</td>\n",
       "      <td>True</td>\n",
       "      <td>272</td>\n",
       "      <td>632</td>\n",
       "      <td>False</td>\n",
       "      <td>True</td>\n",
       "      <td>True</td>\n",
       "    </tr>\n",
       "    <tr>\n",
       "      <th>283</th>\n",
       "      <td>445625</td>\n",
       "      <td>10</td>\n",
       "      <td>2022-11-01</td>\n",
       "      <td>438490051</td>\n",
       "      <td>1/11/2022 11:09:16</td>\n",
       "      <td>1/11/2022 11:12:04</td>\n",
       "      <td>True</td>\n",
       "      <td>168</td>\n",
       "      <td>194449</td>\n",
       "      <td>False</td>\n",
       "      <td>True</td>\n",
       "      <td>True</td>\n",
       "    </tr>\n",
       "    <tr>\n",
       "      <th>199</th>\n",
       "      <td>328660</td>\n",
       "      <td>1</td>\n",
       "      <td>2022-11-01</td>\n",
       "      <td>438447549</td>\n",
       "      <td>1/11/2022 8:42:32</td>\n",
       "      <td>1/11/2022 8:46:05</td>\n",
       "      <td>True</td>\n",
       "      <td>212</td>\n",
       "      <td>10225</td>\n",
       "      <td>False</td>\n",
       "      <td>True</td>\n",
       "      <td>True</td>\n",
       "    </tr>\n",
       "  </tbody>\n",
       "</table>\n",
       "</div>"
      ],
      "text/plain": [
       "     DistributorExternCode  SellerCode        Date    VisitId  \\\n",
       "110                 445625          14  2022-11-01  438490213   \n",
       "283                 445625          10  2022-11-01  438490051   \n",
       "199                 328660           1  2022-11-01  438447549   \n",
       "\n",
       "           CheckinStart          CheckinEnd IsVisitValid  VisitDuration  \\\n",
       "110  1/11/2022 12:06:26  1/11/2022 12:10:57         True            272   \n",
       "283  1/11/2022 11:09:16  1/11/2022 11:12:04         True            168   \n",
       "199   1/11/2022 8:42:32   1/11/2022 8:46:05         True            212   \n",
       "\n",
       "     ClientCode  HasBuyed  AtWorkingHours  IsInRoute  \n",
       "110         632     False            True       True  \n",
       "283      194449     False            True       True  \n",
       "199       10225     False            True       True  "
      ]
     },
     "execution_count": 8,
     "metadata": {},
     "output_type": "execute_result"
    }
   ],
   "source": [
    "df_chk['Date'] = pd.to_datetime(df_chk['Date'],\n",
    "                                format='%d/%m/%Y %H:%M:%S'\n",
    "                                )\n",
    "                                # errors = 'coerce',\n",
    "                                # )\n",
    "# def fecha(df,columna):\n",
    "#     return (df\n",
    "#             .apply(lambda row: for row in columna, dt.date.strftime(row, '%d/%m/%y'))\n",
    "#             )\n",
    "df_chk['Date'] = df_chk['Date'].apply(lambda row: dt.strftime(row, '%Y-%m-%d'))\n",
    "df_chk = df_chk.sort_values(['Date'], ascending=True)\n",
    "df_chk.sample(3)"
   ]
  },
  {
   "cell_type": "code",
   "execution_count": 9,
   "metadata": {},
   "outputs": [],
   "source": [
    "# df_chk[['Coordenadas CI Y', 'Coordenadas CI X']] = df_chk['Coordenadas CI'].str.split(';', expand=True)\n",
    "# # \n",
    "# df_chk[['Coordenadas CO Y', 'Coordenadas CO X']] = df_chk['Coordenadas CO'].str.split(';', expand=True)\n",
    "# # \n",
    "# df_chk['Fecha'] = pd.to_datetime(df_chk['Fecha Checkin'])\n",
    "# df_chk.sample(5)"
   ]
  },
  {
   "cell_type": "code",
   "execution_count": 10,
   "metadata": {},
   "outputs": [],
   "source": [
    "df_chk.rename({'DistributorExternCode':'CodigoDistribuidor',\n",
    "                'SellerCode':'CodigoVendedor',\n",
    "                'Date':'Fecha',\n",
    "                'ClientCode':'Cliente'},\n",
    "                 axis=1, inplace=True)"
   ]
  },
  {
   "cell_type": "code",
   "execution_count": 11,
   "metadata": {},
   "outputs": [
    {
     "data": {
      "text/html": [
       "<div>\n",
       "<style scoped>\n",
       "    .dataframe tbody tr th:only-of-type {\n",
       "        vertical-align: middle;\n",
       "    }\n",
       "\n",
       "    .dataframe tbody tr th {\n",
       "        vertical-align: top;\n",
       "    }\n",
       "\n",
       "    .dataframe thead th {\n",
       "        text-align: right;\n",
       "    }\n",
       "</style>\n",
       "<table border=\"1\" class=\"dataframe\">\n",
       "  <thead>\n",
       "    <tr style=\"text-align: right;\">\n",
       "      <th></th>\n",
       "      <th>CodigoDistribuidor</th>\n",
       "      <th>CodigoVendedor</th>\n",
       "      <th>Fecha</th>\n",
       "      <th>VisitId</th>\n",
       "      <th>CheckinStart</th>\n",
       "      <th>CheckinEnd</th>\n",
       "      <th>IsVisitValid</th>\n",
       "      <th>VisitDuration</th>\n",
       "      <th>Cliente</th>\n",
       "      <th>HasBuyed</th>\n",
       "      <th>AtWorkingHours</th>\n",
       "      <th>IsInRoute</th>\n",
       "    </tr>\n",
       "  </thead>\n",
       "  <tbody>\n",
       "    <tr>\n",
       "      <th>279</th>\n",
       "      <td>369846</td>\n",
       "      <td>7</td>\n",
       "      <td>2022-11-01</td>\n",
       "      <td>438365821</td>\n",
       "      <td>1/11/2022 9:39:10</td>\n",
       "      <td>1/11/2022 9:46:42</td>\n",
       "      <td>True</td>\n",
       "      <td>452</td>\n",
       "      <td>567</td>\n",
       "      <td>False</td>\n",
       "      <td>True</td>\n",
       "      <td>True</td>\n",
       "    </tr>\n",
       "    <tr>\n",
       "      <th>121</th>\n",
       "      <td>445625</td>\n",
       "      <td>14</td>\n",
       "      <td>2022-11-01</td>\n",
       "      <td>438489931</td>\n",
       "      <td>1/11/2022 13:27:04</td>\n",
       "      <td>1/11/2022 13:31:21</td>\n",
       "      <td>True</td>\n",
       "      <td>257</td>\n",
       "      <td>8810</td>\n",
       "      <td>False</td>\n",
       "      <td>True</td>\n",
       "      <td>True</td>\n",
       "    </tr>\n",
       "    <tr>\n",
       "      <th>478</th>\n",
       "      <td>369117</td>\n",
       "      <td>9</td>\n",
       "      <td>2022-11-01</td>\n",
       "      <td>438550094</td>\n",
       "      <td>1/11/2022 10:22:42</td>\n",
       "      <td>1/11/2022 10:27:57</td>\n",
       "      <td>True</td>\n",
       "      <td>315</td>\n",
       "      <td>8741</td>\n",
       "      <td>False</td>\n",
       "      <td>True</td>\n",
       "      <td>True</td>\n",
       "    </tr>\n",
       "  </tbody>\n",
       "</table>\n",
       "</div>"
      ],
      "text/plain": [
       "     CodigoDistribuidor  CodigoVendedor       Fecha    VisitId  \\\n",
       "279              369846               7  2022-11-01  438365821   \n",
       "121              445625              14  2022-11-01  438489931   \n",
       "478              369117               9  2022-11-01  438550094   \n",
       "\n",
       "           CheckinStart          CheckinEnd IsVisitValid  VisitDuration  \\\n",
       "279   1/11/2022 9:39:10   1/11/2022 9:46:42         True            452   \n",
       "121  1/11/2022 13:27:04  1/11/2022 13:31:21         True            257   \n",
       "478  1/11/2022 10:22:42  1/11/2022 10:27:57         True            315   \n",
       "\n",
       "     Cliente  HasBuyed  AtWorkingHours  IsInRoute  \n",
       "279      567     False            True       True  \n",
       "121     8810     False            True       True  \n",
       "478     8741     False            True       True  "
      ]
     },
     "execution_count": 11,
     "metadata": {},
     "output_type": "execute_result"
    }
   ],
   "source": [
    "# df_chk.DistributorExternCode[1]\n",
    "df_chk.sample(3)"
   ]
  },
  {
   "cell_type": "code",
   "execution_count": 12,
   "metadata": {},
   "outputs": [
    {
     "data": {
      "text/plain": [
       "'2022-11-01'"
      ]
     },
     "execution_count": 12,
     "metadata": {},
     "output_type": "execute_result"
    }
   ],
   "source": [
    "Periodo = pd.to_datetime(df_chk['Fecha'].values[1])\n",
    "Periodo = pd.to_datetime(date(Periodo.year, Periodo.month, 1))\n",
    "Periodo_query = str(Periodo)[:10]\n",
    "Periodo_query"
   ]
  },
  {
   "cell_type": "code",
   "execution_count": 13,
   "metadata": {},
   "outputs": [],
   "source": [
    "# text=(\"\"\"DELETE FROM VisitasMasuno WHERE Fecha >= {}\"\"\".format(\"'\"+Periodo_query+\"'\"))\n",
    "# # (\"\"\"DELETE FROM BASE_CCC WHERE PERIODO = {} \"\"\".format(\"'\"+periodo_query+\"'\"))\n",
    "# enginex.execute(text)"
   ]
  },
  {
   "cell_type": "code",
   "execution_count": 14,
   "metadata": {},
   "outputs": [],
   "source": [
    "# df_chk.iloc[11:12,11].values\n",
    "df_chk[['IsVisitValid', 'HasBuyed', 'AtWorkingHours', 'IsInRoute']] = df_chk[['IsVisitValid', 'HasBuyed', 'AtWorkingHours', 'IsInRoute']].astype('str')"
   ]
  },
  {
   "cell_type": "code",
   "execution_count": 15,
   "metadata": {},
   "outputs": [],
   "source": [
    "# df_chk.to_sql('VisitasMasuno', dtype=({'Fecha':DATE, 'CodigoDistribuidor':INTEGER, 'IsVisitValid':VARCHAR, 'Cliente':INTEGER, 'CodigoVendedor':INTEGER}), con=enginex, if_exists='append', index=False)"
   ]
  },
  {
   "cell_type": "code",
   "execution_count": 16,
   "metadata": {},
   "outputs": [],
   "source": [
    "# text = \"\"\"SELECT [CodigoDistribuidor]\n",
    "#       ,[CodigoVendedor]\n",
    "#       ,[Fecha]\n",
    "#       ,[VisitId]\n",
    "#       ,[CheckinStart]\n",
    "#       ,[CheckinEnd]\n",
    "#       ,[IsVisitValid]\n",
    "#       ,[VisitDuration]\n",
    "#       ,[Cliente]\n",
    "#       ,[HasBuyed]\n",
    "#       ,[AtWorkingHours]\n",
    "#       ,[IsInRoute]\n",
    "#   FROM [DW_Central].[dbo].[VisitasMasuno]\n",
    "#   ;\"\"\"\n",
    "# rg = pd.read_sql(text, enginex)\n",
    "# rg.sample(5)"
   ]
  },
  {
   "cell_type": "code",
   "execution_count": 17,
   "metadata": {},
   "outputs": [],
   "source": [
    "# rg.to_csv('./resguardo_VisitasMauno.csv')"
   ]
  },
  {
   "cell_type": "code",
   "execution_count": 18,
   "metadata": {},
   "outputs": [
    {
     "name": "stdout",
     "output_type": "stream",
     "text": [
      "Carga Exitosa Wednesday, 02 of November 2022 a las 10:38:15\n"
     ]
    }
   ],
   "source": [
    "def run():\n",
    "        try:\n",
    "                df_chk.to_sql('VisitasMasuno', dtype=({'CodigoDistribuidor':INTEGER,'CodigoVendedor': INTEGER, 'Fecha':DATE, \n",
    "                                'VisitId':INTEGER, 'CheckinStart':DATETIME, 'CheckinEnd':DATETIME,\n",
    "                                'IsVisitValid':VARCHAR,'VisitDuration':INTEGER, 'Cliente':INTEGER, 'HasBuyed':VARCHAR, \n",
    "                                'AtWorkingHours':VARCHAR, 'IsInRoute':VARCHAR }), con=enginex, if_exists='append', index=False)\n",
    "                print('Carga Exitosa ' + dt.now().strftime('%A, %d of %B %Y a las %I:%M:%S'))\n",
    "        except Exception as ex:\n",
    "                print(\"Error al cargar los datos \" + ex)\n",
    "\n",
    "text=(\"\"\"DELETE FROM VisitasMasuno WHERE Fecha >= {}\"\"\".format(\"'\"+Periodo_query+\"'\"))\n",
    "\n",
    "enginex.execute(text)\n",
    "run()\n"
   ]
  }
 ],
 "metadata": {
  "kernelspec": {
   "display_name": "Python 3.10.4 ('venv')",
   "language": "python",
   "name": "python3"
  },
  "language_info": {
   "codemirror_mode": {
    "name": "ipython",
    "version": 3
   },
   "file_extension": ".py",
   "mimetype": "text/x-python",
   "name": "python",
   "nbconvert_exporter": "python",
   "pygments_lexer": "ipython3",
   "version": "3.10.4"
  },
  "orig_nbformat": 4,
  "vscode": {
   "interpreter": {
    "hash": "897a6d9ead6ccb62961cfc597fe4d29a42b1d13c4cae0e68e38a104014edbaf7"
   }
  }
 },
 "nbformat": 4,
 "nbformat_minor": 2
}
