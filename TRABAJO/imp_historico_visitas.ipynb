{
 "cells": [
  {
   "cell_type": "code",
   "execution_count": 92,
   "metadata": {},
   "outputs": [],
   "source": [
    "import numpy as np\n",
    "import pandas as pd\n",
    "from conct_db import enginex\n",
    "from sqlalchemy.types import DATE, INTEGER, VARCHAR, DATETIME\n",
    "from datetime import datetime as dt\n",
    "from datetime import date"
   ]
  },
  {
   "cell_type": "code",
   "execution_count": 93,
   "metadata": {},
   "outputs": [],
   "source": [
    "data94 = pd.read_csv('y:/07-MONITOREO/01-Ventas/01-MASUNO/Bases/data_TD.csv', sep=';', encoding='UTF-8')\n",
    "df_94 = pd.DataFrame(data94)\n",
    "# # df_chk.sample()\n",
    "datatc = pd.read_csv('y:/07-MONITOREO/01-Ventas/01-MASUNO/Bases/data_TC.csv', sep=';', encoding='UTF-8')\n",
    "df_tc = pd.DataFrame(datatc)\n",
    "# \n",
    "datakg = pd.read_csv('y:/07-MONITOREO/01-Ventas/01-MASUNO/Bases/data_KG.csv', sep=';', encoding='UTF-8')\n",
    "df_kg = pd.DataFrame(datakg)\n",
    "# # \n",
    "datafs = pd.read_csv('y:/07-MONITOREO/01-Ventas/01-MASUNO/Bases/data_FS.csv', sep=';', encoding='UTF-8')\n",
    "df_fs = pd.DataFrame(datafs)\n",
    "# # \n",
    "datatl = pd.read_csv('y:/07-MONITOREO/01-Ventas/01-MASUNO/Bases/data_TL.csv', sep=';', encoding='UTF-8')\n",
    "df_tl = pd.DataFrame(datatl)"
   ]
  },
  {
   "cell_type": "code",
   "execution_count": 94,
   "metadata": {},
   "outputs": [],
   "source": [
    "df_chk = pd.concat([df_94,df_tc,df_fs,df_kg,df_tl])"
   ]
  },
  {
   "cell_type": "code",
   "execution_count": 95,
   "metadata": {},
   "outputs": [
    {
     "data": {
      "text/plain": [
       "Index(['TenantRegion', 'RegionCode', 'DistributorExternCode',\n",
       "       'DistributorName', 'OrganizationExternCode', 'OrganizationCode',\n",
       "       'LeaderCode', 'LeaderName', 'SupervisorCode', 'SupervisorName',\n",
       "       'SellerCode', 'SellerName', 'Date', 'VisitId', 'CheckinStart',\n",
       "       'CheckinEnd', 'IsVisitValid', 'VisitDuration', 'ClientCode',\n",
       "       'ClientName', 'ClientFantasyName', 'ClientAddress', 'HasBuyed',\n",
       "       'AtWorkingHours', 'IsInRoute', 'EmployeeType', 'IsInUniverse',\n",
       "       'SurveyCampaignsTargetTags', 'SurveyCampaignsAnswersTags', 'HasLicense',\n",
       "       'HasLicense,,'],\n",
       "      dtype='object')"
      ]
     },
     "execution_count": 95,
     "metadata": {},
     "output_type": "execute_result"
    }
   ],
   "source": [
    "df_chk.columns"
   ]
  },
  {
   "cell_type": "code",
   "execution_count": 96,
   "metadata": {},
   "outputs": [],
   "source": [
    "try:\n",
    "    df_chk = df_chk.drop(['TenantRegion', 'RegionCode', 'DistributorName', 'OrganizationExternCode',\n",
    "            'OrganizationCode', 'LeaderCode', 'LeaderName', 'SupervisorCode', 'SupervisorName',\n",
    "            'SellerName', 'ClientName', 'ClientFantasyName', \n",
    "            'EmployeeType', 'IsInUniverse', 'SurveyCampaignsTargetTags',\n",
    "            'SurveyCampaignsAnswersTags', 'HasLicense', 'ClientAddress'], axis=1)\n",
    "except:\n",
    "    pass\n",
    "try:\n",
    "    df_chk = df_chk.drop(['HasLicense,,'], axis=1)\n",
    "except:\n",
    "    pass\n",
    "df_chk['IsVisitValid']= df_chk['IsVisitValid'].astype(str)\n",
    "# df_chk.sample(5)"
   ]
  },
  {
   "cell_type": "code",
   "execution_count": 97,
   "metadata": {},
   "outputs": [
    {
     "data": {
      "text/plain": [
       "Index(['DistributorExternCode', 'SellerCode', 'Date', 'VisitId',\n",
       "       'CheckinStart', 'CheckinEnd', 'IsVisitValid', 'VisitDuration',\n",
       "       'ClientCode', 'HasBuyed', 'AtWorkingHours', 'IsInRoute'],\n",
       "      dtype='object')"
      ]
     },
     "execution_count": 97,
     "metadata": {},
     "output_type": "execute_result"
    }
   ],
   "source": [
    "df_chk.columns"
   ]
  },
  {
   "cell_type": "code",
   "execution_count": 98,
   "metadata": {},
   "outputs": [],
   "source": [
    "df_chk = df_chk[['DistributorExternCode', 'SellerCode', 'Date', 'VisitId',\n",
    "       'CheckinStart', 'CheckinEnd', 'IsVisitValid', 'VisitDuration',\n",
    "       'ClientCode', 'HasBuyed', 'AtWorkingHours', 'IsInRoute']]\n",
    "# df_chk.sample(5)"
   ]
  },
  {
   "cell_type": "code",
   "execution_count": 99,
   "metadata": {},
   "outputs": [
    {
     "data": {
      "text/html": [
       "<div>\n",
       "<style scoped>\n",
       "    .dataframe tbody tr th:only-of-type {\n",
       "        vertical-align: middle;\n",
       "    }\n",
       "\n",
       "    .dataframe tbody tr th {\n",
       "        vertical-align: top;\n",
       "    }\n",
       "\n",
       "    .dataframe thead th {\n",
       "        text-align: right;\n",
       "    }\n",
       "</style>\n",
       "<table border=\"1\" class=\"dataframe\">\n",
       "  <thead>\n",
       "    <tr style=\"text-align: right;\">\n",
       "      <th></th>\n",
       "      <th>DistributorExternCode</th>\n",
       "      <th>SellerCode</th>\n",
       "      <th>Date</th>\n",
       "      <th>VisitId</th>\n",
       "      <th>CheckinStart</th>\n",
       "      <th>CheckinEnd</th>\n",
       "      <th>IsVisitValid</th>\n",
       "      <th>VisitDuration</th>\n",
       "      <th>ClientCode</th>\n",
       "      <th>HasBuyed</th>\n",
       "      <th>AtWorkingHours</th>\n",
       "      <th>IsInRoute</th>\n",
       "    </tr>\n",
       "  </thead>\n",
       "  <tbody>\n",
       "    <tr>\n",
       "      <th>620</th>\n",
       "      <td>369117</td>\n",
       "      <td>16</td>\n",
       "      <td>2022-10-01</td>\n",
       "      <td>407570780</td>\n",
       "      <td>1/10/2022 10:41:49</td>\n",
       "      <td>1/10/2022 10:43:04</td>\n",
       "      <td>True</td>\n",
       "      <td>75</td>\n",
       "      <td>6708</td>\n",
       "      <td>False</td>\n",
       "      <td>True</td>\n",
       "      <td>True</td>\n",
       "    </tr>\n",
       "    <tr>\n",
       "      <th>2645</th>\n",
       "      <td>445625</td>\n",
       "      <td>12</td>\n",
       "      <td>2022-10-05</td>\n",
       "      <td>412890902</td>\n",
       "      <td>5/10/2022 11:20:45</td>\n",
       "      <td>5/10/2022 11:20:57</td>\n",
       "      <td>False</td>\n",
       "      <td>12</td>\n",
       "      <td>110007</td>\n",
       "      <td>False</td>\n",
       "      <td>True</td>\n",
       "      <td>True</td>\n",
       "    </tr>\n",
       "    <tr>\n",
       "      <th>6222</th>\n",
       "      <td>369117</td>\n",
       "      <td>9</td>\n",
       "      <td>2022-10-11</td>\n",
       "      <td>417256490</td>\n",
       "      <td>11/10/2022 8:37:42</td>\n",
       "      <td>11/10/2022 8:50:23</td>\n",
       "      <td>True</td>\n",
       "      <td>761</td>\n",
       "      <td>1028</td>\n",
       "      <td>False</td>\n",
       "      <td>True</td>\n",
       "      <td>True</td>\n",
       "    </tr>\n",
       "  </tbody>\n",
       "</table>\n",
       "</div>"
      ],
      "text/plain": [
       "      DistributorExternCode  SellerCode        Date    VisitId  \\\n",
       "620                  369117          16  2022-10-01  407570780   \n",
       "2645                 445625          12  2022-10-05  412890902   \n",
       "6222                 369117           9  2022-10-11  417256490   \n",
       "\n",
       "            CheckinStart          CheckinEnd IsVisitValid  VisitDuration  \\\n",
       "620   1/10/2022 10:41:49  1/10/2022 10:43:04         True             75   \n",
       "2645  5/10/2022 11:20:45  5/10/2022 11:20:57        False             12   \n",
       "6222  11/10/2022 8:37:42  11/10/2022 8:50:23         True            761   \n",
       "\n",
       "      ClientCode  HasBuyed  AtWorkingHours  IsInRoute  \n",
       "620         6708     False            True       True  \n",
       "2645      110007     False            True       True  \n",
       "6222        1028     False            True       True  "
      ]
     },
     "execution_count": 99,
     "metadata": {},
     "output_type": "execute_result"
    }
   ],
   "source": [
    "df_chk['Date'] = pd.to_datetime(df_chk['Date'],\n",
    "                                format='%d/%m/%Y %H:%M:%S'\n",
    "                                )\n",
    "                                # errors = 'coerce',\n",
    "                                # )\n",
    "# def fecha(df,columna):\n",
    "#     return (df\n",
    "#             .apply(lambda row: for row in columna, dt.date.strftime(row, '%d/%m/%y'))\n",
    "#             )\n",
    "df_chk['Date'] = df_chk['Date'].apply(lambda row: dt.strftime(row, '%Y-%m-%d'))\n",
    "df_chk = df_chk.sort_values(['Date'], ascending=True)\n",
    "df_chk.sample(3)"
   ]
  },
  {
   "cell_type": "code",
   "execution_count": 100,
   "metadata": {},
   "outputs": [],
   "source": [
    "# df_chk[['Coordenadas CI Y', 'Coordenadas CI X']] = df_chk['Coordenadas CI'].str.split(';', expand=True)\n",
    "# # \n",
    "# df_chk[['Coordenadas CO Y', 'Coordenadas CO X']] = df_chk['Coordenadas CO'].str.split(';', expand=True)\n",
    "# # \n",
    "# df_chk['Fecha'] = pd.to_datetime(df_chk['Fecha Checkin'])\n",
    "# df_chk.sample(5)"
   ]
  },
  {
   "cell_type": "code",
   "execution_count": 101,
   "metadata": {},
   "outputs": [],
   "source": [
    "df_chk.rename({'DistributorExternCode':'CodigoDistribuidor',\n",
    "                'SellerCode':'CodigoVendedor',\n",
    "                'Date':'Fecha',\n",
    "                'ClientCode':'Cliente'},\n",
    "                 axis=1, inplace=True)"
   ]
  },
  {
   "cell_type": "code",
   "execution_count": 102,
   "metadata": {},
   "outputs": [
    {
     "data": {
      "text/html": [
       "<div>\n",
       "<style scoped>\n",
       "    .dataframe tbody tr th:only-of-type {\n",
       "        vertical-align: middle;\n",
       "    }\n",
       "\n",
       "    .dataframe tbody tr th {\n",
       "        vertical-align: top;\n",
       "    }\n",
       "\n",
       "    .dataframe thead th {\n",
       "        text-align: right;\n",
       "    }\n",
       "</style>\n",
       "<table border=\"1\" class=\"dataframe\">\n",
       "  <thead>\n",
       "    <tr style=\"text-align: right;\">\n",
       "      <th></th>\n",
       "      <th>CodigoDistribuidor</th>\n",
       "      <th>CodigoVendedor</th>\n",
       "      <th>Fecha</th>\n",
       "      <th>VisitId</th>\n",
       "      <th>CheckinStart</th>\n",
       "      <th>CheckinEnd</th>\n",
       "      <th>IsVisitValid</th>\n",
       "      <th>VisitDuration</th>\n",
       "      <th>Cliente</th>\n",
       "      <th>HasBuyed</th>\n",
       "      <th>AtWorkingHours</th>\n",
       "      <th>IsInRoute</th>\n",
       "    </tr>\n",
       "  </thead>\n",
       "  <tbody>\n",
       "    <tr>\n",
       "      <th>9543</th>\n",
       "      <td>445625</td>\n",
       "      <td>8</td>\n",
       "      <td>2022-10-18</td>\n",
       "      <td>424952401</td>\n",
       "      <td>18/10/2022 10:37:16</td>\n",
       "      <td>18/10/2022 10:41:07</td>\n",
       "      <td>True</td>\n",
       "      <td>231</td>\n",
       "      <td>10350</td>\n",
       "      <td>False</td>\n",
       "      <td>True</td>\n",
       "      <td>True</td>\n",
       "    </tr>\n",
       "    <tr>\n",
       "      <th>2949</th>\n",
       "      <td>328660</td>\n",
       "      <td>4</td>\n",
       "      <td>2022-10-22</td>\n",
       "      <td>429396090</td>\n",
       "      <td>22/10/2022 12:35:33</td>\n",
       "      <td>22/10/2022 12:36:43</td>\n",
       "      <td>True</td>\n",
       "      <td>70</td>\n",
       "      <td>1333</td>\n",
       "      <td>False</td>\n",
       "      <td>True</td>\n",
       "      <td>True</td>\n",
       "    </tr>\n",
       "    <tr>\n",
       "      <th>1072</th>\n",
       "      <td>328660</td>\n",
       "      <td>4</td>\n",
       "      <td>2022-10-11</td>\n",
       "      <td>417308292</td>\n",
       "      <td>11/10/2022 13:48:52</td>\n",
       "      <td>11/10/2022 13:49:01</td>\n",
       "      <td>True</td>\n",
       "      <td>9</td>\n",
       "      <td>735</td>\n",
       "      <td>False</td>\n",
       "      <td>True</td>\n",
       "      <td>True</td>\n",
       "    </tr>\n",
       "  </tbody>\n",
       "</table>\n",
       "</div>"
      ],
      "text/plain": [
       "      CodigoDistribuidor  CodigoVendedor       Fecha    VisitId  \\\n",
       "9543              445625               8  2022-10-18  424952401   \n",
       "2949              328660               4  2022-10-22  429396090   \n",
       "1072              328660               4  2022-10-11  417308292   \n",
       "\n",
       "             CheckinStart           CheckinEnd IsVisitValid  VisitDuration  \\\n",
       "9543  18/10/2022 10:37:16  18/10/2022 10:41:07         True            231   \n",
       "2949  22/10/2022 12:35:33  22/10/2022 12:36:43         True             70   \n",
       "1072  11/10/2022 13:48:52  11/10/2022 13:49:01         True              9   \n",
       "\n",
       "      Cliente  HasBuyed  AtWorkingHours  IsInRoute  \n",
       "9543    10350     False            True       True  \n",
       "2949     1333     False            True       True  \n",
       "1072      735     False            True       True  "
      ]
     },
     "execution_count": 102,
     "metadata": {},
     "output_type": "execute_result"
    }
   ],
   "source": [
    "# df_chk.DistributorExternCode[1]\n",
    "df_chk.sample(3)"
   ]
  },
  {
   "cell_type": "code",
   "execution_count": 103,
   "metadata": {},
   "outputs": [
    {
     "data": {
      "text/plain": [
       "'2022-10-01'"
      ]
     },
     "execution_count": 103,
     "metadata": {},
     "output_type": "execute_result"
    }
   ],
   "source": [
    "Periodo = pd.to_datetime(df_chk['Fecha'].values[1])\n",
    "Periodo = pd.to_datetime(date(Periodo.year, Periodo.month, 1))\n",
    "Periodo_query = str(Periodo)[:10]\n",
    "Periodo_query"
   ]
  },
  {
   "cell_type": "code",
   "execution_count": 104,
   "metadata": {},
   "outputs": [],
   "source": [
    "# text=(\"\"\"DELETE FROM VisitasMasuno WHERE Fecha >= {}\"\"\".format(\"'\"+Periodo_query+\"'\"))\n",
    "# # (\"\"\"DELETE FROM BASE_CCC WHERE PERIODO = {} \"\"\".format(\"'\"+periodo_query+\"'\"))\n",
    "# enginex.execute(text)"
   ]
  },
  {
   "cell_type": "code",
   "execution_count": 105,
   "metadata": {},
   "outputs": [],
   "source": [
    "# df_chk.iloc[11:12,11].values\n",
    "df_chk[['IsVisitValid', 'HasBuyed', 'AtWorkingHours', 'IsInRoute']] = df_chk[['IsVisitValid', 'HasBuyed', 'AtWorkingHours', 'IsInRoute']].astype('str')"
   ]
  },
  {
   "cell_type": "code",
   "execution_count": 106,
   "metadata": {},
   "outputs": [],
   "source": [
    "# df_chk.to_sql('VisitasMasuno', dtype=({'Fecha':DATE, 'CodigoDistribuidor':INTEGER, 'IsVisitValid':VARCHAR, 'Cliente':INTEGER, 'CodigoVendedor':INTEGER}), con=enginex, if_exists='append', index=False)"
   ]
  },
  {
   "cell_type": "code",
   "execution_count": 107,
   "metadata": {},
   "outputs": [],
   "source": [
    "# text = \"\"\"SELECT [CodigoDistribuidor]\n",
    "#       ,[CodigoVendedor]\n",
    "#       ,[Fecha]\n",
    "#       ,[VisitId]\n",
    "#       ,[CheckinStart]\n",
    "#       ,[CheckinEnd]\n",
    "#       ,[IsVisitValid]\n",
    "#       ,[VisitDuration]\n",
    "#       ,[Cliente]\n",
    "#       ,[HasBuyed]\n",
    "#       ,[AtWorkingHours]\n",
    "#       ,[IsInRoute]\n",
    "#   FROM [DW_Central].[dbo].[VisitasMasuno]\n",
    "#   ;\"\"\"\n",
    "# rg = pd.read_sql(text, enginex)\n",
    "# rg.sample(5)"
   ]
  },
  {
   "cell_type": "code",
   "execution_count": 108,
   "metadata": {},
   "outputs": [],
   "source": [
    "# rg.to_csv('./resguardo_VisitasMauno.csv')"
   ]
  },
  {
   "cell_type": "code",
   "execution_count": 109,
   "metadata": {},
   "outputs": [
    {
     "name": "stdout",
     "output_type": "stream",
     "text": [
      "Carga Exitosa Thursday, 27 of October 2022 a las 04:09:41\n"
     ]
    }
   ],
   "source": [
    "def run():\n",
    "        try:\n",
    "                df_chk.to_sql('VisitasMasuno', dtype=({'CodigoDistribuidor':INTEGER,'CodigoVendedor': INTEGER, 'Fecha':DATE, \n",
    "                                'VisitId':INTEGER, 'CheckinStart':DATETIME, 'CheckinEnd':DATETIME,\n",
    "                                'IsVisitValid':VARCHAR,'VisitDuration':INTEGER, 'Cliente':INTEGER, 'HasBuyed':VARCHAR, \n",
    "                                'AtWorkingHours':VARCHAR, 'IsInRoute':VARCHAR }), con=enginex, if_exists='append', index=False)\n",
    "                print('Carga Exitosa ' + dt.now().strftime('%A, %d of %B %Y a las %I:%M:%S'))\n",
    "        except Exception as ex:\n",
    "                print(\"Error al cargar los datos \" + ex)\n",
    "\n",
    "text=(\"\"\"DELETE FROM VisitasMasuno WHERE Fecha >= {}\"\"\".format(\"'\"+Periodo_query+\"'\"))\n",
    "\n",
    "enginex.execute(text)\n",
    "run()\n"
   ]
  }
 ],
 "metadata": {
  "kernelspec": {
   "display_name": "Python 3.10.4 ('venv')",
   "language": "python",
   "name": "python3"
  },
  "language_info": {
   "codemirror_mode": {
    "name": "ipython",
    "version": 3
   },
   "file_extension": ".py",
   "mimetype": "text/x-python",
   "name": "python",
   "nbconvert_exporter": "python",
   "pygments_lexer": "ipython3",
   "version": "3.10.4"
  },
  "orig_nbformat": 4,
  "vscode": {
   "interpreter": {
    "hash": "897a6d9ead6ccb62961cfc597fe4d29a42b1d13c4cae0e68e38a104014edbaf7"
   }
  }
 },
 "nbformat": 4,
 "nbformat_minor": 2
}
