{
 "cells": [
  {
   "cell_type": "code",
   "execution_count": 31,
   "metadata": {},
   "outputs": [],
   "source": [
    "from logging import exception\n",
    "from conct_db import enginex\n",
    "import pandas as pd\n",
    "import numpy as np\n",
    "import datetime\n",
    "import urllib\n",
    "from datetime import date\n",
    "\n"
   ]
  },
  {
   "cell_type": "code",
   "execution_count": 32,
   "metadata": {},
   "outputs": [],
   "source": [
    "# from sqlalchemy.types import Integer\n",
    "from sqlalchemy.types import DATE\n",
    "# from sqlalchemy.types import VARCHAR \n",
    "# from sqlalchemy.types import INTEGER\n",
    "# from sqlalchemy.types import Text\n",
    "# from sqlalchemy.types import DATETIME"
   ]
  },
  {
   "cell_type": "code",
   "execution_count": 33,
   "metadata": {},
   "outputs": [],
   "source": [
    "# parameters = urllib.parse.quote_plus(\"DRIVER={SQL Server Native Client 11.0};\"\n",
    "#                                     \"SERVER=WIN-SERVIDOR-BD\\DWGRUPOTOTAL;\"\n",
    "#                                     \"DATABASE=DW_Central;\"\n",
    "#                                     \"UID=sa;\"\n",
    "#                                     \"PWD=DWpln21\")\n",
    "periodo = datetime.datetime.now()"
   ]
  },
  {
   "cell_type": "markdown",
   "metadata": {},
   "source": [
    "**UTILIZAR EL METODO CONNECT PARA EJECUTAR COSNULTAS**\n",
    "\n",
    "\n",
    "Utilizo el text= para construir el query y ejecutarlo"
   ]
  },
  {
   "cell_type": "code",
   "execution_count": 34,
   "metadata": {},
   "outputs": [],
   "source": [
    "# text=(\"\"\"SELECT *\n",
    "#         FROM BEES_Algoritmo\n",
    "#         WHERE Periodo = '2022-07-01'\"\"\")\n",
    "# with enginex.connect() as conn:\n",
    "#     # conn.execute(text)\n",
    "#     conn.exec_driver_sql(text)\n",
    "\n"
   ]
  },
  {
   "cell_type": "markdown",
   "metadata": {},
   "source": [
    "**PARA BORRAR LOS DATOS DEL MES EN CURSO**"
   ]
  },
  {
   "cell_type": "code",
   "execution_count": 35,
   "metadata": {},
   "outputs": [],
   "source": [
    "# text=(\"\"\"DELETE BEES_Algoritmo\n",
    "#     WHERE Periodo = '2022-07-01'\"\"\")\n",
    "# enginex.execute(text)"
   ]
  },
  {
   "cell_type": "markdown",
   "metadata": {},
   "source": [
    "**PARA LEER DESDE LA BASE DE DATOS**"
   ]
  },
  {
   "cell_type": "code",
   "execution_count": 36,
   "metadata": {},
   "outputs": [],
   "source": [
    "# text=(\"\"\"SELECT *\n",
    "#         FROM BEES_Algoritmo\n",
    "#         WHERE Periodo = '2022-07-01'\"\"\")\n",
    "# \n",
    "# dataframendo= pd.DataFrame(enginex.execute(text))\n",
    "# dataframendo.head(3)"
   ]
  },
  {
   "cell_type": "code",
   "execution_count": 37,
   "metadata": {},
   "outputs": [],
   "source": [
    "df_original = pd.read_excel(\"y:/19-POWER BI/01-Total Bebidas/TACO GQ/Algoritmo_Julio.xlsx\", sheet_name='Export', skipfooter=3)\n",
    "df = pd.DataFrame(df_original)\n",
    "df['POC_ID'] = df['POC_ID'].astype('string')\n",
    "# df.dtypes\n",
    "# df.sample(10)"
   ]
  },
  {
   "cell_type": "code",
   "execution_count": 38,
   "metadata": {},
   "outputs": [],
   "source": [
    "# if df.POC_ID.str.extract('(\\d{6,6}(?:\\.\\d+)?)') == '704250':\n",
    "#     df['COD_DISTRI'] = '70425'\n",
    "# else:\n",
    "#     df['COD_DISTRI'] = df.POC_ID.str.extract('(\\d{6,6}(?:\\.\\d+)?)')"
   ]
  },
  {
   "cell_type": "code",
   "execution_count": 39,
   "metadata": {},
   "outputs": [],
   "source": [
    "df['COD_CLIENTE'] = df.POC_ID.str.extract('(0{2,}\\d+)')\n",
    "df['COD_DISTRI'] = df.POC_ID.str.extract('(\\d{6,6}(?:\\.\\d+)?)')\n",
    "df = df[df.COD_DISTRI.isin(['704250','328660','369117','369846','445625'])]\n",
    "df['COD_DISTRI'] = df['COD_DISTRI'].astype('Int64')\n",
    "df['COD_DISTRI'] = np.where(df['COD_DISTRI']==704250, 70425, df['COD_DISTRI'])\n",
    "df['COD_CLIENTE'] = df['COD_CLIENTE'].astype('Int64')\n",
    "df['Periodo'] = pd.to_datetime(date(periodo.year, periodo.month, 1))\n",
    "\n",
    "# df.nunique()\n",
    "# df.sample(5)"
   ]
  },
  {
   "cell_type": "code",
   "execution_count": 40,
   "metadata": {},
   "outputs": [
    {
     "data": {
      "text/plain": [
       "POC_ID                             string\n",
       "Ordenes Influenciadas               int64\n",
       "Ordenes inf. Upsell                 int64\n",
       "Ordenes inf.Quick Order             int64\n",
       "Ordenes totales                     int64\n",
       "COD_CLIENTE                         Int64\n",
       "COD_DISTRI                         object\n",
       "Periodo                    datetime64[ns]\n",
       "dtype: object"
      ]
     },
     "execution_count": 40,
     "metadata": {},
     "output_type": "execute_result"
    }
   ],
   "source": [
    "# df['Periodo'] = df[['Periodo']].astype(Date)\n",
    "df.dtypes"
   ]
  },
  {
   "cell_type": "code",
   "execution_count": 41,
   "metadata": {},
   "outputs": [],
   "source": [
    "# df['Periodo'] = pd.to_datetime('1/6/2022')\n",
    "# df.convert_dtypes()\n",
    "# df['POC_ID'].astype('Int64')\n",
    "# df.dtypes"
   ]
  },
  {
   "cell_type": "code",
   "execution_count": 42,
   "metadata": {},
   "outputs": [],
   "source": [
    "# conditionlist = [\n",
    "#     (df['POC_ID']>=7042500000000) & (df['POC_ID']<7042600000000),\n",
    "#     (df['POC_ID']>=32866000000000) & (df['POC_ID']<32866100000000),\n",
    "#     (df['POC_ID']>=36911700000000) & (df['POC_ID']<36911800000000),\n",
    "#     (df['POC_ID']>=36984600000000) & (df['POC_ID']<36984700000000),\n",
    "#     (df['POC_ID']>=44562500000000) & (df['POC_ID']<44562600000000)]\n",
    "# choicelist = ['70425', '328660', '369117', '369846', '445625']\n",
    "# df['DISTRI'] = np.select(conditionlist, choicelist, default = 'OTRO DISTRI')\n",
    "# df.sample"
   ]
  },
  {
   "cell_type": "markdown",
   "metadata": {},
   "source": [
    "**BORRAMOS LAS COLUMNAS INECESARIAS Y REORDENAMOS EL DATAFRAME**"
   ]
  },
  {
   "cell_type": "code",
   "execution_count": 43,
   "metadata": {},
   "outputs": [],
   "source": [
    "try: \n",
    "    df.drop(columns=['POC_ID'], inplace=True)\n",
    "    df = df[['Periodo', 'COD_DISTRI', 'COD_CLIENTE', 'Ordenes inf.Quick Order', 'Ordenes inf. Upsell', 'Ordenes Influenciadas', 'Ordenes totales',]]\n",
    "except: \n",
    "    print(\"Oh rallos y centellas, a ocurrido un error catastrofico! \")\n",
    "# df.groupby(['DISTRI', 'Periodo']).sum()\n",
    "# df.sample(10)"
   ]
  },
  {
   "cell_type": "code",
   "execution_count": 44,
   "metadata": {},
   "outputs": [],
   "source": [
    "# df.drop(columns='DISTRI'=='OTRO DISTRI',axis=0)\n",
    "# df\n",
    "# df = df[df['DISTRI']!='OTRO DISTRI']\n",
    "# df"
   ]
  },
  {
   "cell_type": "code",
   "execution_count": 45,
   "metadata": {},
   "outputs": [
    {
     "name": "stdout",
     "output_type": "stream",
     "text": [
      "carga exitosa\n"
     ]
    }
   ],
   "source": [
    "def run():\n",
    "    # try:\n",
    "    #     engine = sa.create_engine(\"mssql+pyodbc:///?odbc_connect={}\".format(parameters))\n",
    "    #     print(\"Conect succesfull\")\n",
    "    # except Exception:\n",
    "    #     print(\"Errora in DataBase conection\")\n",
    "    try:    \n",
    "        df.to_excel('y:/19-POWER BI/01-Total Bebidas/TACO GQ/Algoritmo_Julio_procesado.xlsx')\n",
    "        df.to_sql('BEES_Algoritmo', con = enginex, if_exists= 'append', index=False, dtype={'Periodo': DATE})\n",
    "        print(\"carga exitosa\")\n",
    "    except Exception:\n",
    "        print(\"Error fatal irrecuperable\")\n",
    "text=(\"\"\"DELETE BEES_Algoritmo\n",
    "    WHERE Periodo = '2022-07-01'\"\"\")\n",
    "enginex.execute(text)\n",
    "run()"
   ]
  }
 ],
 "metadata": {
  "kernelspec": {
   "display_name": "Python 3.10.4 ('venv': venv)",
   "language": "python",
   "name": "python3"
  },
  "language_info": {
   "codemirror_mode": {
    "name": "ipython",
    "version": 3
   },
   "file_extension": ".py",
   "mimetype": "text/x-python",
   "name": "python",
   "nbconvert_exporter": "python",
   "pygments_lexer": "ipython3",
   "version": "3.10.4"
  },
  "orig_nbformat": 4,
  "vscode": {
   "interpreter": {
    "hash": "897a6d9ead6ccb62961cfc597fe4d29a42b1d13c4cae0e68e38a104014edbaf7"
   }
  }
 },
 "nbformat": 4,
 "nbformat_minor": 2
}
