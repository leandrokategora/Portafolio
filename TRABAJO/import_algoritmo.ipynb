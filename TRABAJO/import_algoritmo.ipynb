{
 "cells": [
  {
   "cell_type": "code",
   "execution_count": 3,
   "metadata": {},
   "outputs": [],
   "source": [
    "from logging import exception\n",
    "import sqlalchemy as sa\n",
    "import urllib\n",
    "import pandas as pd\n",
    "import numpy as np\n",
    "parameters = urllib.parse.quote_plus(\"DRIVER={SQL Server Native Client 11.0};\"\n",
    "                                    \"SERVER=WIN-SERVIDOR-BD\\DWGRUPOTOTAL;\"\n",
    "                                    \"DATABASE=DW_Central;\"\n",
    "                                    \"UID=sa;\"\n",
    "                                    \"PWD=DWpln21\")"
   ]
  },
  {
   "cell_type": "code",
   "execution_count": 60,
   "metadata": {},
   "outputs": [],
   "source": [
    "df_original = pd.read_excel(\"y:/19-POWER BI/01-Total Bebidas/TACO GQ/Algoritmo Mayo.xlsb\", sheet_name='Export', skipfooter=3)\n",
    "df = df_original.copy(deep=True)\n",
    "df = pd.DataFrame(df_original)\n",
    "df['POC_ID'] = df['POC_ID'].astype('string')\n",
    "# df.dtypes\n",
    "# df.sample(10)"
   ]
  },
  {
   "cell_type": "code",
   "execution_count": 61,
   "metadata": {},
   "outputs": [],
   "source": [
    "df['COD_CLIENTE'] = df.POC_ID.str.extract('(0{2,}\\d+)')"
   ]
  },
  {
   "cell_type": "code",
   "execution_count": 63,
   "metadata": {},
   "outputs": [
    {
     "data": {
      "text/html": [
       "<div>\n",
       "<style scoped>\n",
       "    .dataframe tbody tr th:only-of-type {\n",
       "        vertical-align: middle;\n",
       "    }\n",
       "\n",
       "    .dataframe tbody tr th {\n",
       "        vertical-align: top;\n",
       "    }\n",
       "\n",
       "    .dataframe thead th {\n",
       "        text-align: right;\n",
       "    }\n",
       "</style>\n",
       "<table border=\"1\" class=\"dataframe\">\n",
       "  <thead>\n",
       "    <tr style=\"text-align: right;\">\n",
       "      <th></th>\n",
       "      <th>POC_ID</th>\n",
       "      <th>Ordenes Influenciadas</th>\n",
       "      <th>Ordenes inf. Upsell</th>\n",
       "      <th>Ordenes inf.Quick Order</th>\n",
       "      <th>Ordenes totales</th>\n",
       "      <th>COD_CLIENTE</th>\n",
       "    </tr>\n",
       "  </thead>\n",
       "  <tbody>\n",
       "    <tr>\n",
       "      <th>0</th>\n",
       "      <td>4755100000004</td>\n",
       "      <td>0</td>\n",
       "      <td>0</td>\n",
       "      <td>0</td>\n",
       "      <td>10</td>\n",
       "      <td>00000004</td>\n",
       "    </tr>\n",
       "    <tr>\n",
       "      <th>1</th>\n",
       "      <td>4755100000006</td>\n",
       "      <td>2</td>\n",
       "      <td>1</td>\n",
       "      <td>2</td>\n",
       "      <td>2</td>\n",
       "      <td>00000006</td>\n",
       "    </tr>\n",
       "    <tr>\n",
       "      <th>2</th>\n",
       "      <td>4755100000010</td>\n",
       "      <td>1</td>\n",
       "      <td>0</td>\n",
       "      <td>1</td>\n",
       "      <td>2</td>\n",
       "      <td>00000010</td>\n",
       "    </tr>\n",
       "    <tr>\n",
       "      <th>3</th>\n",
       "      <td>4755100000019</td>\n",
       "      <td>1</td>\n",
       "      <td>0</td>\n",
       "      <td>1</td>\n",
       "      <td>3</td>\n",
       "      <td>00000019</td>\n",
       "    </tr>\n",
       "    <tr>\n",
       "      <th>4</th>\n",
       "      <td>4755100000023</td>\n",
       "      <td>3</td>\n",
       "      <td>1</td>\n",
       "      <td>3</td>\n",
       "      <td>3</td>\n",
       "      <td>00000023</td>\n",
       "    </tr>\n",
       "    <tr>\n",
       "      <th>...</th>\n",
       "      <td>...</td>\n",
       "      <td>...</td>\n",
       "      <td>...</td>\n",
       "      <td>...</td>\n",
       "      <td>...</td>\n",
       "      <td>...</td>\n",
       "    </tr>\n",
       "    <tr>\n",
       "      <th>112344</th>\n",
       "      <td>89955200021361</td>\n",
       "      <td>0</td>\n",
       "      <td>0</td>\n",
       "      <td>0</td>\n",
       "      <td>10</td>\n",
       "      <td>00021361</td>\n",
       "    </tr>\n",
       "    <tr>\n",
       "      <th>112345</th>\n",
       "      <td>89955200021362</td>\n",
       "      <td>0</td>\n",
       "      <td>0</td>\n",
       "      <td>0</td>\n",
       "      <td>8</td>\n",
       "      <td>00021362</td>\n",
       "    </tr>\n",
       "    <tr>\n",
       "      <th>112346</th>\n",
       "      <td>89955200021363</td>\n",
       "      <td>0</td>\n",
       "      <td>0</td>\n",
       "      <td>0</td>\n",
       "      <td>10</td>\n",
       "      <td>00021363</td>\n",
       "    </tr>\n",
       "    <tr>\n",
       "      <th>112347</th>\n",
       "      <td>89955200021364</td>\n",
       "      <td>2</td>\n",
       "      <td>2</td>\n",
       "      <td>0</td>\n",
       "      <td>11</td>\n",
       "      <td>00021364</td>\n",
       "    </tr>\n",
       "    <tr>\n",
       "      <th>112348</th>\n",
       "      <td>89955200021365</td>\n",
       "      <td>0</td>\n",
       "      <td>0</td>\n",
       "      <td>0</td>\n",
       "      <td>11</td>\n",
       "      <td>00021365</td>\n",
       "    </tr>\n",
       "  </tbody>\n",
       "</table>\n",
       "<p>112349 rows × 6 columns</p>\n",
       "</div>"
      ],
      "text/plain": [
       "                POC_ID  Ordenes Influenciadas  Ordenes inf. Upsell  \\\n",
       "0        4755100000004                      0                    0   \n",
       "1        4755100000006                      2                    1   \n",
       "2        4755100000010                      1                    0   \n",
       "3        4755100000019                      1                    0   \n",
       "4        4755100000023                      3                    1   \n",
       "...                ...                    ...                  ...   \n",
       "112344  89955200021361                      0                    0   \n",
       "112345  89955200021362                      0                    0   \n",
       "112346  89955200021363                      0                    0   \n",
       "112347  89955200021364                      2                    2   \n",
       "112348  89955200021365                      0                    0   \n",
       "\n",
       "        Ordenes inf.Quick Order  Ordenes totales COD_CLIENTE  \n",
       "0                             0               10    00000004  \n",
       "1                             2                2    00000006  \n",
       "2                             1                2    00000010  \n",
       "3                             1                3    00000019  \n",
       "4                             3                3    00000023  \n",
       "...                         ...              ...         ...  \n",
       "112344                        0               10    00021361  \n",
       "112345                        0                8    00021362  \n",
       "112346                        0               10    00021363  \n",
       "112347                        0               11    00021364  \n",
       "112348                        0               11    00021365  \n",
       "\n",
       "[112349 rows x 6 columns]"
      ]
     },
     "execution_count": 63,
     "metadata": {},
     "output_type": "execute_result"
    }
   ],
   "source": [
    "df"
   ]
  },
  {
   "cell_type": "code",
   "execution_count": null,
   "metadata": {},
   "outputs": [],
   "source": [
    "# df_m = df.loc[0:4,['POC_ID', 'Ordenes Influenciadas', 'Ordenes totales']] \n",
    "# df_m"
   ]
  },
  {
   "cell_type": "code",
   "execution_count": 203,
   "metadata": {},
   "outputs": [
    {
     "data": {
      "text/plain": [
       "POC_ID                              int64\n",
       "Ordenes Influenciadas               int64\n",
       "Ordenes inf. Upsell                 int64\n",
       "Ordenes inf.Quick Order             int64\n",
       "Ordenes totales                     int64\n",
       "Periodo                    datetime64[ns]\n",
       "dtype: object"
      ]
     },
     "execution_count": 203,
     "metadata": {},
     "output_type": "execute_result"
    }
   ],
   "source": [
    "df['Periodo'] = pd.to_datetime('1/6/2022')\n",
    "df.convert_dtypes()\n",
    "# df['POC_ID'].astype('Int64')\n",
    "# df.dtypes"
   ]
  },
  {
   "cell_type": "code",
   "execution_count": null,
   "metadata": {},
   "outputs": [],
   "source": []
  },
  {
   "cell_type": "code",
   "execution_count": 204,
   "metadata": {},
   "outputs": [],
   "source": [
    "conditionlist = [\n",
    "    (df['POC_ID']>=7042500000000) & (df['POC_ID']<7042600000000),\n",
    "    (df['POC_ID']>=32866000000000) & (df['POC_ID']<32866100000000),\n",
    "    (df['POC_ID']>=36911700000000) & (df['POC_ID']<36911800000000),\n",
    "    (df['POC_ID']>=36984600000000) & (df['POC_ID']<36984700000000),\n",
    "    (df['POC_ID']>=44562500000000) & (df['POC_ID']<44562600000000)]\n",
    "choicelist = ['70425', '328660', '369117', '369846', '445625']\n",
    "df['DISTRI'] = np.select(conditionlist, choicelist, default = 'OTRO DISTRI')\n",
    "# df.sample"
   ]
  },
  {
   "cell_type": "code",
   "execution_count": 206,
   "metadata": {},
   "outputs": [],
   "source": [
    "try: \n",
    "    df.drop('Ordenes inf. Upsell', axis=1, inplace=True)\n",
    "except: \n",
    "    pass \n",
    "# df.groupby(['DISTRI', 'Periodo']).sum()\n",
    "# df\n"
   ]
  },
  {
   "cell_type": "code",
   "execution_count": 207,
   "metadata": {},
   "outputs": [],
   "source": [
    "# df.drop(columns='DISTRI'=='OTRO DISTRI',axis=0)\n",
    "# df\n",
    "df = df[df['DISTRI']!='OTRO DISTRI']\n",
    "# df"
   ]
  },
  {
   "cell_type": "code",
   "execution_count": 214,
   "metadata": {},
   "outputs": [
    {
     "name": "stdout",
     "output_type": "stream",
     "text": [
      "Errora in DataBase conection\n",
      "Error fatal irrecuperable\n"
     ]
    }
   ],
   "source": [
    "def run():\n",
    "    try:\n",
    "        engine = sa.create_engine(\"mssql+pyodbc:///?odbc_connect={}\".format(parameters))\n",
    "        print(\"Conect succesfull\")\n",
    "    except Exception:\n",
    "        print(\"Errora in DataBase conection\")\n",
    "    try:    \n",
    "        df.to_sql('Algoritmo', con = engine, if_exists= 'append', index=False)\n",
    "        print(\"carga exitosa\")\n",
    "    except Exception:\n",
    "        print(\"Error fatal irrecuperable\")\n",
    "\n",
    "run()\n"
   ]
  }
 ],
 "metadata": {
  "kernelspec": {
   "display_name": "Python 3.10.4 64-bit",
   "language": "python",
   "name": "python3"
  },
  "language_info": {
   "codemirror_mode": {
    "name": "ipython",
    "version": 3
   },
   "file_extension": ".py",
   "mimetype": "text/x-python",
   "name": "python",
   "nbconvert_exporter": "python",
   "pygments_lexer": "ipython3",
   "version": "3.10.4"
  },
  "orig_nbformat": 4,
  "vscode": {
   "interpreter": {
    "hash": "d3e10ef16274dd72e574b8fa73b58450b957d8421a2901baded3cca26fcf5dda"
   }
  }
 },
 "nbformat": 4,
 "nbformat_minor": 2
}
