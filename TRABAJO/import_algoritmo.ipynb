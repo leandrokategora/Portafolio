{
 "cells": [
  {
   "cell_type": "code",
   "execution_count": 1,
   "metadata": {},
   "outputs": [
    {
     "name": "stdout",
     "output_type": "stream",
     "text": [
      "Conect succesfull\n"
     ]
    }
   ],
   "source": [
    "from logging import exception\n",
    "from conct_db import enginex\n",
    "import pandas as pd\n",
    "import numpy as np\n",
    "import datetime\n",
    "import urllib\n",
    "from datetime import date, datetime\n"
   ]
  },
  {
   "cell_type": "code",
   "execution_count": 2,
   "metadata": {},
   "outputs": [],
   "source": [
    "# from sqlalchemy.types import Integer\n",
    "from sqlalchemy.types import DATE\n",
    "# from sqlalchemy.types import VARCHAR \n",
    "# from sqlalchemy.types import INTEGER\n",
    "# from sqlalchemy.types import Text\n",
    "# from sqlalchemy.types import DATETIME"
   ]
  },
  {
   "cell_type": "code",
   "execution_count": 3,
   "metadata": {},
   "outputs": [],
   "source": [
    "# parameters = urllib.parse.quote_plus(\"DRIVER={SQL Server Native Client 11.0};\"\n",
    "#                                     \"SERVER=WIN-SERVIDOR-BD\\DWGRUPOTOTAL;\"\n",
    "#                                     \"DATABASE=DW_Central;\"\n",
    "#                                     \"UID=sa;\"\n",
    "#                                     \"PWD=DWpln21\")\n",
    "periodo = datetime.now()\n",
    "periodo_real = date(periodo.year, periodo.month,1)\n",
    "diccionario = {'Periodo':[periodo_real]}\n",
    "df_periodo = pd.DataFrame(diccionario)"
   ]
  },
  {
   "cell_type": "code",
   "execution_count": 4,
   "metadata": {},
   "outputs": [
    {
     "data": {
      "text/plain": [
       "'September'"
      ]
     },
     "execution_count": 4,
     "metadata": {},
     "output_type": "execute_result"
    }
   ],
   "source": [
    "# MES = pd.to_datetime(\n",
    "# df['Date'],\n",
    "# errors = 'coerce',\n",
    "# format = '%d/%m/%Y %H:%M:%S',\n",
    "# )\n",
    "df_periodo['mes'] = pd.DatetimeIndex(df_periodo['Periodo']).month\n",
    "df_periodo['Month'] = pd.to_datetime(df_periodo['mes'], format='%m').dt.month_name()\n",
    "nombre_mes = str(df_periodo['Month'].values[0])\n",
    "periodo_query = str(df_periodo.Periodo.values[0])[:10]\n",
    "periodo_query\n",
    "nombre_mes\n"
   ]
  },
  {
   "cell_type": "markdown",
   "metadata": {},
   "source": [
    "**UTILIZAR EL METODO CONNECT PARA EJECUTAR COSNULTAS**\n",
    "\n",
    "\n",
    "Utilizo el text= para construir el query y ejecutarlo"
   ]
  },
  {
   "cell_type": "code",
   "execution_count": 5,
   "metadata": {},
   "outputs": [],
   "source": [
    "# text=(\"\"\"SELECT *\n",
    "#         FROM BEES_Algoritmo\n",
    "#         WHERE Periodo = '2022-07-01'\"\"\")\n",
    "# with enginex.connect() as conn:\n",
    "#     # conn.execute(text)\n",
    "#     conn.exec_driver_sql(text)\n",
    "\n"
   ]
  },
  {
   "cell_type": "markdown",
   "metadata": {},
   "source": [
    "**PARA BORRAR LOS DATOS DEL MES EN CURSO**"
   ]
  },
  {
   "cell_type": "code",
   "execution_count": 6,
   "metadata": {},
   "outputs": [],
   "source": [
    "# text=(\"\"\"DELETE BEES_Algoritmo\n",
    "#     WHERE Periodo = '2022-07-01'\"\"\")\n",
    "# enginex.execute(text)"
   ]
  },
  {
   "cell_type": "markdown",
   "metadata": {},
   "source": [
    "**PARA LEER DESDE LA BASE DE DATOS**"
   ]
  },
  {
   "cell_type": "code",
   "execution_count": 7,
   "metadata": {},
   "outputs": [],
   "source": [
    "# text=(\"\"\"SELECT *\n",
    "#         FROM BEES_Algoritmo\n",
    "#         WHERE Periodo = '2022-07-01'\"\"\")\n",
    "# \n",
    "# dataframendo= pd.DataFrame(enginex.execute(text))\n",
    "# dataframendo.head(3)"
   ]
  },
  {
   "cell_type": "code",
   "execution_count": 8,
   "metadata": {},
   "outputs": [],
   "source": [
    "df_original = pd.read_excel(\"y:/19-POWER BI/01-Total Bebidas/TACO GQ/Algoritmo_{}.xlsx\".format(nombre_mes), sheet_name='Export', skipfooter=3)\n",
    "df = pd.DataFrame(df_original)\n",
    "df['POC_ID'] = df['POC_ID'].astype('string')\n",
    "# df.dtypes\n",
    "# df.sample(10)"
   ]
  },
  {
   "cell_type": "code",
   "execution_count": 9,
   "metadata": {},
   "outputs": [],
   "source": [
    "# if df.POC_ID.str.extract('(\\d{6,6}(?:\\.\\d+)?)') == '704250':\n",
    "#     df['COD_DISTRI'] = '70425'\n",
    "# else:\n",
    "#     df['COD_DISTRI'] = df.POC_ID.str.extract('(\\d{6,6}(?:\\.\\d+)?)')"
   ]
  },
  {
   "cell_type": "code",
   "execution_count": 10,
   "metadata": {},
   "outputs": [],
   "source": [
    "df['COD_CLIENTE'] = df.POC_ID.str.extract('(0{2,}\\d+)')\n",
    "df['COD_DISTRI'] = df.POC_ID.str.extract('(\\d{6,6}(?:\\.\\d+)?)')\n",
    "df = df[df.COD_DISTRI.isin(['704250','328660','369117','369846','445625'])]\n",
    "df['COD_DISTRI'] = df['COD_DISTRI'].astype('Int64')\n",
    "df['COD_DISTRI'] = np.where(df['COD_DISTRI']==704250, 70425, df['COD_DISTRI'])\n",
    "df['COD_CLIENTE'] = df['COD_CLIENTE'].astype('Int64')\n",
    "df['Periodo'] = pd.to_datetime(date(periodo.year, periodo.month, 1))\n",
    "\n",
    "# df.nunique()\n",
    "# df.sample(5)"
   ]
  },
  {
   "cell_type": "code",
   "execution_count": 11,
   "metadata": {},
   "outputs": [
    {
     "data": {
      "text/plain": [
       "POC_ID                           string\n",
       "Ordenes Influenciadas             int64\n",
       "Ord inf. Oportunidad              int64\n",
       "Ord inf.Pedido facil              int64\n",
       "Ordenes totales                   int64\n",
       "COD_CLIENTE                       Int64\n",
       "COD_DISTRI                       object\n",
       "Periodo                  datetime64[ns]\n",
       "dtype: object"
      ]
     },
     "execution_count": 11,
     "metadata": {},
     "output_type": "execute_result"
    }
   ],
   "source": [
    "# df['Periodo'] = df[['Periodo']].astype(Date)\n",
    "df.dtypes"
   ]
  },
  {
   "cell_type": "code",
   "execution_count": 12,
   "metadata": {},
   "outputs": [],
   "source": [
    "# df['Periodo'] = pd.to_datetime('1/6/2022')\n",
    "# df.convert_dtypes()\n",
    "# df['POC_ID'].astype('Int64')\n",
    "# df.dtypes"
   ]
  },
  {
   "cell_type": "code",
   "execution_count": 13,
   "metadata": {},
   "outputs": [],
   "source": [
    "# conditionlist = [\n",
    "#     (df['POC_ID']>=7042500000000) & (df['POC_ID']<7042600000000),\n",
    "#     (df['POC_ID']>=32866000000000) & (df['POC_ID']<32866100000000),\n",
    "#     (df['POC_ID']>=36911700000000) & (df['POC_ID']<36911800000000),\n",
    "#     (df['POC_ID']>=36984600000000) & (df['POC_ID']<36984700000000),\n",
    "#     (df['POC_ID']>=44562500000000) & (df['POC_ID']<44562600000000)]\n",
    "# choicelist = ['70425', '328660', '369117', '369846', '445625']\n",
    "# df['DISTRI'] = np.select(conditionlist, choicelist, default = 'OTRO DISTRI')\n",
    "# df.sample"
   ]
  },
  {
   "cell_type": "code",
   "execution_count": 14,
   "metadata": {},
   "outputs": [],
   "source": [
    "df.rename({'Ord inf.Pedido facil':'Ordenes inf.Quick Order', 'Ord inf. Oportunidad':'Ordenes inf. Upsell'}, axis=1, inplace=True)"
   ]
  },
  {
   "cell_type": "markdown",
   "metadata": {},
   "source": [
    "**BORRAMOS LAS COLUMNAS INECESARIAS Y REORDENAMOS EL DATAFRAME**"
   ]
  },
  {
   "cell_type": "code",
   "execution_count": 15,
   "metadata": {},
   "outputs": [],
   "source": [
    "try: \n",
    "    df.drop(columns=['POC_ID'], inplace=True)\n",
    "    # df = df[['Periodo', 'COD_DISTRI', 'COD_CLIENTE', 'Ordenes inf.Quick Order', 'Ordenes inf. Upsell', 'Ordenes Influenciadas', 'Ordenes totales',]]\n",
    "except Exception as ex: \n",
    "    print(\"Oh rallos y centellas, a ocurrido un error catastrofico! \", ex)\n",
    "try:\n",
    "    df = df[['Periodo', 'COD_DISTRI', 'COD_CLIENTE', 'Ordenes inf.Quick Order', 'Ordenes inf. Upsell', 'Ordenes Influenciadas', 'Ordenes totales',]]\n",
    "except Exception as ex: \n",
    "    print(\"Oh rallos y centellas, a ocurrido un error catastrofico! \", ex)\n",
    "# df.groupby(['DISTRI', 'Periodo']).sum()\n",
    "# df.sample(10)"
   ]
  },
  {
   "cell_type": "code",
   "execution_count": 16,
   "metadata": {},
   "outputs": [
    {
     "data": {
      "text/html": [
       "<div>\n",
       "<style scoped>\n",
       "    .dataframe tbody tr th:only-of-type {\n",
       "        vertical-align: middle;\n",
       "    }\n",
       "\n",
       "    .dataframe tbody tr th {\n",
       "        vertical-align: top;\n",
       "    }\n",
       "\n",
       "    .dataframe thead th {\n",
       "        text-align: right;\n",
       "    }\n",
       "</style>\n",
       "<table border=\"1\" class=\"dataframe\">\n",
       "  <thead>\n",
       "    <tr style=\"text-align: right;\">\n",
       "      <th></th>\n",
       "      <th>Periodo</th>\n",
       "      <th>COD_DISTRI</th>\n",
       "      <th>COD_CLIENTE</th>\n",
       "      <th>Ordenes inf.Quick Order</th>\n",
       "      <th>Ordenes inf. Upsell</th>\n",
       "      <th>Ordenes Influenciadas</th>\n",
       "      <th>Ordenes totales</th>\n",
       "    </tr>\n",
       "  </thead>\n",
       "  <tbody>\n",
       "    <tr>\n",
       "      <th>68471</th>\n",
       "      <td>2022-09-01</td>\n",
       "      <td>369846</td>\n",
       "      <td>5225</td>\n",
       "      <td>2</td>\n",
       "      <td>1</td>\n",
       "      <td>3</td>\n",
       "      <td>3</td>\n",
       "    </tr>\n",
       "    <tr>\n",
       "      <th>67918</th>\n",
       "      <td>2022-09-01</td>\n",
       "      <td>369117</td>\n",
       "      <td>409</td>\n",
       "      <td>2</td>\n",
       "      <td>1</td>\n",
       "      <td>2</td>\n",
       "      <td>3</td>\n",
       "    </tr>\n",
       "    <tr>\n",
       "      <th>90669</th>\n",
       "      <td>2022-09-01</td>\n",
       "      <td>369846</td>\n",
       "      <td>4569</td>\n",
       "      <td>0</td>\n",
       "      <td>1</td>\n",
       "      <td>1</td>\n",
       "      <td>2</td>\n",
       "    </tr>\n",
       "  </tbody>\n",
       "</table>\n",
       "</div>"
      ],
      "text/plain": [
       "         Periodo COD_DISTRI  COD_CLIENTE  Ordenes inf.Quick Order  \\\n",
       "68471 2022-09-01     369846         5225                        2   \n",
       "67918 2022-09-01     369117          409                        2   \n",
       "90669 2022-09-01     369846         4569                        0   \n",
       "\n",
       "       Ordenes inf. Upsell  Ordenes Influenciadas  Ordenes totales  \n",
       "68471                    1                      3                3  \n",
       "67918                    1                      2                3  \n",
       "90669                    1                      1                2  "
      ]
     },
     "execution_count": 16,
     "metadata": {},
     "output_type": "execute_result"
    }
   ],
   "source": [
    "# df.drop(columns='DISTRI'=='OTRO DISTRI',axis=0)\n",
    "# df\n",
    "# df = df[df['DISTRI']!='OTRO DISTRI']\n",
    "df.sample(3)"
   ]
  },
  {
   "cell_type": "code",
   "execution_count": 17,
   "metadata": {},
   "outputs": [
    {
     "name": "stdout",
     "output_type": "stream",
     "text": [
      "Carga Exitosa Friday, 30 of September 2022 a las 08:48:31\n"
     ]
    }
   ],
   "source": [
    "def run():\n",
    "    # try:\n",
    "    #     engine = sa.create_engine(\"mssql+pyodbc:///?odbc_connect={}\".format(parameters))\n",
    "    #     print(\"Conect succesfull\")\n",
    "    # except Exception:\n",
    "    #     print(\"Errora in DataBase conection\")\n",
    "    try:    \n",
    "        df.to_excel('y:/19-POWER BI/01-Total Bebidas/TACO GQ/Algoritmo_{}_procesado.xlsx'.format(nombre_mes))\n",
    "        df.to_sql('BEES_Algoritmo', con = enginex, if_exists= 'append', index=False, dtype={'Periodo': DATE})\n",
    "        print('Carga Exitosa ' + datetime.now().strftime('%A, %d of %B %Y a las %I:%M:%S'))\n",
    "    except Exception:\n",
    "        print(\"Error fatal irrecuperable\")\n",
    "text=(\"\"\"DELETE FROM BEES_Algoritmo\n",
    "    WHERE Periodo = {}\"\"\").format(\"'\"+periodo_query+\"'\")\n",
    "enginex.execute(text)\n",
    "run()"
   ]
  }
 ],
 "metadata": {
  "kernelspec": {
   "display_name": "Python 3.10.4 ('venv': venv)",
   "language": "python",
   "name": "python3"
  },
  "language_info": {
   "codemirror_mode": {
    "name": "ipython",
    "version": 3
   },
   "file_extension": ".py",
   "mimetype": "text/x-python",
   "name": "python",
   "nbconvert_exporter": "python",
   "pygments_lexer": "ipython3",
   "version": "3.10.4"
  },
  "orig_nbformat": 4,
  "vscode": {
   "interpreter": {
    "hash": "897a6d9ead6ccb62961cfc597fe4d29a42b1d13c4cae0e68e38a104014edbaf7"
   }
  }
 },
 "nbformat": 4,
 "nbformat_minor": 2
}
