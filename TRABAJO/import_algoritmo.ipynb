{
 "cells": [
  {
   "cell_type": "code",
   "execution_count": 212,
   "metadata": {},
   "outputs": [],
   "source": [
    "from logging import exception\n",
    "import sqlalchemy as sa\n",
    "import urllib\n",
    "\n",
    "\n",
    "\n",
    "parameters = urllib.parse.quote_plus(\"DRIVER={SQL Server Native Client 11.0};\"\n",
    "                                    \"SERVER=WIN-SERVIDOR-BD\\DWGRUPOTOTAL;\"\n",
    "                                    \"DATABASE=DW_Central;\"\n",
    "                                    \"UID=sa;\"\n",
    "                                    \"PWD=DWpln21\")"
   ]
  },
  {
   "cell_type": "code",
   "execution_count": 201,
   "metadata": {},
   "outputs": [],
   "source": [
    "import pandas as pd\n",
    "import numpy as np\n",
    "\n",
    "df_original = pd.read_excel(\"/mnt/compartido/PLANEAMIENTO/19-POWER BI/01-Total Bebidas/TACO GQ/Algoritmo.xlsb\", sheet_name='Export', skipfooter=3)\n",
    "# df.head()"
   ]
  },
  {
   "cell_type": "code",
   "execution_count": null,
   "metadata": {},
   "outputs": [],
   "source": [
    "df = df_original.copy(deep=True)\n",
    "# df.drop(df[:-1],axis=0, inplace=True)\n",
    "# df.head(-10)"
   ]
  },
  {
   "cell_type": "code",
   "execution_count": null,
   "metadata": {},
   "outputs": [],
   "source": [
    "# df_m = df.loc[0:4,['POC_ID', 'Ordenes Influenciadas', 'Ordenes totales']] \n",
    "# df_m"
   ]
  },
  {
   "cell_type": "code",
   "execution_count": 203,
   "metadata": {},
   "outputs": [
    {
     "data": {
      "text/plain": [
       "POC_ID                              int64\n",
       "Ordenes Influenciadas               int64\n",
       "Ordenes inf. Upsell                 int64\n",
       "Ordenes inf.Quick Order             int64\n",
       "Ordenes totales                     int64\n",
       "Periodo                    datetime64[ns]\n",
       "dtype: object"
      ]
     },
     "execution_count": 203,
     "metadata": {},
     "output_type": "execute_result"
    }
   ],
   "source": [
    "df['Periodo'] = pd.to_datetime('1/6/2022')\n",
    "df.convert_dtypes()\n",
    "# df['POC_ID'].astype('Int64')\n",
    "# df.dtypes"
   ]
  },
  {
   "cell_type": "code",
   "execution_count": 204,
   "metadata": {},
   "outputs": [],
   "source": [
    "conditionlist = [\n",
    "    (df['POC_ID']>=7042500000000) & (df['POC_ID']<7042600000000),\n",
    "    (df['POC_ID']>=32866000000000) & (df['POC_ID']<32866100000000),\n",
    "    (df['POC_ID']>=36911700000000) & (df['POC_ID']<36911800000000),\n",
    "    (df['POC_ID']>=36984600000000) & (df['POC_ID']<36984700000000),\n",
    "    (df['POC_ID']>=44562500000000) & (df['POC_ID']<44562600000000)]\n",
    "choicelist = ['70425', '328660', '369117', '369846', '445625']\n",
    "df['DISTRI'] = np.select(conditionlist, choicelist, default = 'OTRO DISTRI')\n",
    "# df.sample"
   ]
  },
  {
   "cell_type": "code",
   "execution_count": 206,
   "metadata": {},
   "outputs": [],
   "source": [
    "try: \n",
    "    df.drop('Ordenes inf. Upsell', axis=1, inplace=True)\n",
    "except: \n",
    "    pass \n",
    "# df.groupby(['DISTRI', 'Periodo']).sum()\n",
    "# df\n"
   ]
  },
  {
   "cell_type": "code",
   "execution_count": 207,
   "metadata": {},
   "outputs": [],
   "source": [
    "# df.drop(columns='DISTRI'=='OTRO DISTRI',axis=0)\n",
    "# df\n",
    "df = df[df['DISTRI']!='OTRO DISTRI']\n",
    "# df"
   ]
  },
  {
   "cell_type": "code",
   "execution_count": 214,
   "metadata": {},
   "outputs": [
    {
     "name": "stdout",
     "output_type": "stream",
     "text": [
      "Errora in DataBase conection\n",
      "Error fatal irrecuperable\n"
     ]
    }
   ],
   "source": [
    "def run():\n",
    "    try:\n",
    "        engine = sa.create_engine(\"mssql+pyodbc:///?odbc_connect={}\".format(parameters))\n",
    "        print(\"Conect succesfull\")\n",
    "    except Exception:\n",
    "        print(\"Errora in DataBase conection\")\n",
    "    try:    \n",
    "        df.to_sql('Algoritmo', con = engine, if_exists= 'append', index=False)\n",
    "        print(\"carga exitosa\")\n",
    "    except Exception:\n",
    "        print(\"Error fatal irrecuperable\")\n",
    "\n",
    "run()\n"
   ]
  }
 ],
 "metadata": {
  "kernelspec": {
   "display_name": "Python 3.8.10 ('venv': venv)",
   "language": "python",
   "name": "python3"
  },
  "language_info": {
   "codemirror_mode": {
    "name": "ipython",
    "version": 3
   },
   "file_extension": ".py",
   "mimetype": "text/x-python",
   "name": "python",
   "nbconvert_exporter": "python",
   "pygments_lexer": "ipython3",
   "version": "3.8.10"
  },
  "orig_nbformat": 4,
  "vscode": {
   "interpreter": {
    "hash": "f5a0d3b40e8eafbaa9aa967d7a322d354660ee950ef8febfecd916721dc2f33c"
   }
  }
 },
 "nbformat": 4,
 "nbformat_minor": 2
}
