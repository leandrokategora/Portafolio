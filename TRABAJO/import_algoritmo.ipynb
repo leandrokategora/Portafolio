{
 "cells": [
  {
   "cell_type": "code",
   "execution_count": 3,
   "metadata": {},
   "outputs": [],
   "source": [
    "from logging import exception\n",
    "import sqlalchemy as sa\n",
    "import urllib\n",
    "import pandas as pd\n",
    "import numpy as np\n",
    "parameters = urllib.parse.quote_plus(\"DRIVER={SQL Server Native Client 11.0};\"\n",
    "                                    \"SERVER=WIN-SERVIDOR-BD\\DWGRUPOTOTAL;\"\n",
    "                                    \"DATABASE=DW_Central;\"\n",
    "                                    \"UID=sa;\"\n",
    "                                    \"PWD=DWpln21\")"
   ]
  },
  {
   "cell_type": "code",
   "execution_count": 96,
   "metadata": {},
   "outputs": [],
   "source": [
    "df_original = pd.read_excel(\"y:/19-POWER BI/01-Total Bebidas/TACO GQ/Algoritmo Mayo.xlsb\", sheet_name='Export', skipfooter=3)\n",
    "df = df_original.copy(deep=True)\n",
    "df = pd.DataFrame(df_original)\n",
    "df['POC_ID'] = df['POC_ID'].astype('string')\n",
    "# df.dtypes\n",
    "# df.sample(10)"
   ]
  },
  {
   "cell_type": "code",
   "execution_count": 97,
   "metadata": {},
   "outputs": [],
   "source": [
    "df['COD_CLIENTE'] = df.POC_ID.str.extract('(0{2,}\\d+)')\n",
    "df['COD_DISTRI'] = df.POC_ID.str.extract('(\\d{6,6}(?:\\.\\d+)?)')\n",
    "df = df[df.COD_DISTRI.isin(['704250','328660','369117','369846','445625'])]\n",
    "df['COD_DISTRI'] = df['COD_DISTRI'].astype('Int64')\n",
    "df['COD_CLIENTE'] = df['COD_CLIENTE'].astype('Int64')\n",
    "df.drop(columns=['Ordenes inf. Upsell','POC_ID','Ordenes inf.Quick Order'], inplace=True)\n",
    "# df.nunique()\n",
    "# df.sample(10)"
   ]
  },
  {
   "cell_type": "code",
   "execution_count": 98,
   "metadata": {},
   "outputs": [
    {
     "data": {
      "text/html": [
       "<div>\n",
       "<style scoped>\n",
       "    .dataframe tbody tr th:only-of-type {\n",
       "        vertical-align: middle;\n",
       "    }\n",
       "\n",
       "    .dataframe tbody tr th {\n",
       "        vertical-align: top;\n",
       "    }\n",
       "\n",
       "    .dataframe thead th {\n",
       "        text-align: right;\n",
       "    }\n",
       "</style>\n",
       "<table border=\"1\" class=\"dataframe\">\n",
       "  <thead>\n",
       "    <tr style=\"text-align: right;\">\n",
       "      <th></th>\n",
       "      <th>Ordenes Influenciadas</th>\n",
       "      <th>Ordenes totales</th>\n",
       "      <th>COD_CLIENTE</th>\n",
       "      <th>COD_DISTRI</th>\n",
       "    </tr>\n",
       "  </thead>\n",
       "  <tbody>\n",
       "    <tr>\n",
       "      <th>7645</th>\n",
       "      <td>2</td>\n",
       "      <td>2</td>\n",
       "      <td>16</td>\n",
       "      <td>704250</td>\n",
       "    </tr>\n",
       "    <tr>\n",
       "      <th>7646</th>\n",
       "      <td>0</td>\n",
       "      <td>3</td>\n",
       "      <td>17</td>\n",
       "      <td>704250</td>\n",
       "    </tr>\n",
       "    <tr>\n",
       "      <th>7647</th>\n",
       "      <td>0</td>\n",
       "      <td>2</td>\n",
       "      <td>19</td>\n",
       "      <td>704250</td>\n",
       "    </tr>\n",
       "    <tr>\n",
       "      <th>7648</th>\n",
       "      <td>0</td>\n",
       "      <td>4</td>\n",
       "      <td>24</td>\n",
       "      <td>704250</td>\n",
       "    </tr>\n",
       "    <tr>\n",
       "      <th>7649</th>\n",
       "      <td>2</td>\n",
       "      <td>4</td>\n",
       "      <td>31</td>\n",
       "      <td>704250</td>\n",
       "    </tr>\n",
       "    <tr>\n",
       "      <th>...</th>\n",
       "      <td>...</td>\n",
       "      <td>...</td>\n",
       "      <td>...</td>\n",
       "      <td>...</td>\n",
       "    </tr>\n",
       "    <tr>\n",
       "      <th>102212</th>\n",
       "      <td>0</td>\n",
       "      <td>4</td>\n",
       "      <td>987625</td>\n",
       "      <td>445625</td>\n",
       "    </tr>\n",
       "    <tr>\n",
       "      <th>102213</th>\n",
       "      <td>5</td>\n",
       "      <td>5</td>\n",
       "      <td>987633</td>\n",
       "      <td>445625</td>\n",
       "    </tr>\n",
       "    <tr>\n",
       "      <th>102214</th>\n",
       "      <td>0</td>\n",
       "      <td>3</td>\n",
       "      <td>987638</td>\n",
       "      <td>445625</td>\n",
       "    </tr>\n",
       "    <tr>\n",
       "      <th>102215</th>\n",
       "      <td>2</td>\n",
       "      <td>4</td>\n",
       "      <td>999111</td>\n",
       "      <td>445625</td>\n",
       "    </tr>\n",
       "    <tr>\n",
       "      <th>102216</th>\n",
       "      <td>0</td>\n",
       "      <td>1</td>\n",
       "      <td>999212</td>\n",
       "      <td>445625</td>\n",
       "    </tr>\n",
       "  </tbody>\n",
       "</table>\n",
       "<p>6352 rows × 4 columns</p>\n",
       "</div>"
      ],
      "text/plain": [
       "        Ordenes Influenciadas  Ordenes totales  COD_CLIENTE  COD_DISTRI\n",
       "7645                        2                2           16      704250\n",
       "7646                        0                3           17      704250\n",
       "7647                        0                2           19      704250\n",
       "7648                        0                4           24      704250\n",
       "7649                        2                4           31      704250\n",
       "...                       ...              ...          ...         ...\n",
       "102212                      0                4       987625      445625\n",
       "102213                      5                5       987633      445625\n",
       "102214                      0                3       987638      445625\n",
       "102215                      2                4       999111      445625\n",
       "102216                      0                1       999212      445625\n",
       "\n",
       "[6352 rows x 4 columns]"
      ]
     },
     "execution_count": 98,
     "metadata": {},
     "output_type": "execute_result"
    }
   ],
   "source": [
    "df"
   ]
  },
  {
   "cell_type": "code",
   "execution_count": null,
   "metadata": {},
   "outputs": [],
   "source": [
    "# df_m = df.loc[0:4,['POC_ID', 'Ordenes Influenciadas', 'Ordenes totales']] \n",
    "# df_m"
   ]
  },
  {
   "cell_type": "code",
   "execution_count": 203,
   "metadata": {},
   "outputs": [
    {
     "data": {
      "text/plain": [
       "POC_ID                              int64\n",
       "Ordenes Influenciadas               int64\n",
       "Ordenes inf. Upsell                 int64\n",
       "Ordenes inf.Quick Order             int64\n",
       "Ordenes totales                     int64\n",
       "Periodo                    datetime64[ns]\n",
       "dtype: object"
      ]
     },
     "execution_count": 203,
     "metadata": {},
     "output_type": "execute_result"
    }
   ],
   "source": [
    "df['Periodo'] = pd.to_datetime('1/6/2022')\n",
    "df.convert_dtypes()\n",
    "# df['POC_ID'].astype('Int64')\n",
    "# df.dtypes"
   ]
  },
  {
   "cell_type": "code",
   "execution_count": 204,
   "metadata": {},
   "outputs": [],
   "source": [
    "# conditionlist = [\n",
    "#     (df['POC_ID']>=7042500000000) & (df['POC_ID']<7042600000000),\n",
    "#     (df['POC_ID']>=32866000000000) & (df['POC_ID']<32866100000000),\n",
    "#     (df['POC_ID']>=36911700000000) & (df['POC_ID']<36911800000000),\n",
    "#     (df['POC_ID']>=36984600000000) & (df['POC_ID']<36984700000000),\n",
    "#     (df['POC_ID']>=44562500000000) & (df['POC_ID']<44562600000000)]\n",
    "# choicelist = ['70425', '328660', '369117', '369846', '445625']\n",
    "# df['DISTRI'] = np.select(conditionlist, choicelist, default = 'OTRO DISTRI')\n",
    "# df.sample"
   ]
  },
  {
   "cell_type": "code",
   "execution_count": 206,
   "metadata": {},
   "outputs": [],
   "source": [
    "try: \n",
    "    df.drop('Ordenes inf. Upsell', axis=1, inplace=True)\n",
    "except: \n",
    "    pass \n",
    "# df.groupby(['DISTRI', 'Periodo']).sum()\n",
    "# df\n"
   ]
  },
  {
   "cell_type": "code",
   "execution_count": 207,
   "metadata": {},
   "outputs": [],
   "source": [
    "# df.drop(columns='DISTRI'=='OTRO DISTRI',axis=0)\n",
    "# df\n",
    "df = df[df['DISTRI']!='OTRO DISTRI']\n",
    "# df"
   ]
  },
  {
   "cell_type": "code",
   "execution_count": 214,
   "metadata": {},
   "outputs": [
    {
     "name": "stdout",
     "output_type": "stream",
     "text": [
      "Errora in DataBase conection\n",
      "Error fatal irrecuperable\n"
     ]
    }
   ],
   "source": [
    "def run():\n",
    "    try:\n",
    "        engine = sa.create_engine(\"mssql+pyodbc:///?odbc_connect={}\".format(parameters))\n",
    "        print(\"Conect succesfull\")\n",
    "    except Exception:\n",
    "        print(\"Errora in DataBase conection\")\n",
    "    try:    \n",
    "        df.to_sql('Algoritmo', con = engine, if_exists= 'append', index=False)\n",
    "        print(\"carga exitosa\")\n",
    "    except Exception:\n",
    "        print(\"Error fatal irrecuperable\")\n",
    "\n",
    "run()\n"
   ]
  }
 ],
 "metadata": {
  "kernelspec": {
   "display_name": "Python 3.10.4 64-bit",
   "language": "python",
   "name": "python3"
  },
  "language_info": {
   "codemirror_mode": {
    "name": "ipython",
    "version": 3
   },
   "file_extension": ".py",
   "mimetype": "text/x-python",
   "name": "python",
   "nbconvert_exporter": "python",
   "pygments_lexer": "ipython3",
   "version": "3.10.4"
  },
  "orig_nbformat": 4,
  "vscode": {
   "interpreter": {
    "hash": "d3e10ef16274dd72e574b8fa73b58450b957d8421a2901baded3cca26fcf5dda"
   }
  }
 },
 "nbformat": 4,
 "nbformat_minor": 2
}
