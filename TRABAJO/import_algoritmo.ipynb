{
 "cells": [
  {
   "cell_type": "code",
   "execution_count": 119,
   "metadata": {},
   "outputs": [],
   "source": [
    "from logging import exception\n",
    "import sqlalchemy as sa\n",
    "import urllib\n",
    "import pandas as pd\n",
    "import numpy as np\n",
    "import datetime\n",
    "from datetime import date\n"
   ]
  },
  {
   "cell_type": "code",
   "execution_count": 122,
   "metadata": {},
   "outputs": [],
   "source": [
    "parameters = urllib.parse.quote_plus(\"DRIVER={SQL Server Native Client 11.0};\"\n",
    "                                    \"SERVER=WIN-SERVIDOR-BD\\DWGRUPOTOTAL;\"\n",
    "                                    \"DATABASE=DW_Central;\"\n",
    "                                    \"UID=sa;\"\n",
    "                                    \"PWD=DWpln21\")\n",
    "periodo = datetime.datetime.now()"
   ]
  },
  {
   "cell_type": "code",
   "execution_count": 126,
   "metadata": {},
   "outputs": [],
   "source": [
    "df_original = pd.read_excel(\"y:/19-POWER BI/01-Total Bebidas/TACO GQ/Algoritmo Junio.xlsb\", sheet_name='Export', skipfooter=3)\n",
    "df = df_original.copy(deep=True)\n",
    "df = pd.DataFrame(df_original)\n",
    "df['POC_ID'] = df['POC_ID'].astype('string')\n",
    "# df.dtypes\n",
    "# df.sample(10)"
   ]
  },
  {
   "cell_type": "code",
   "execution_count": 127,
   "metadata": {},
   "outputs": [
    {
     "data": {
      "text/html": [
       "<div>\n",
       "<style scoped>\n",
       "    .dataframe tbody tr th:only-of-type {\n",
       "        vertical-align: middle;\n",
       "    }\n",
       "\n",
       "    .dataframe tbody tr th {\n",
       "        vertical-align: top;\n",
       "    }\n",
       "\n",
       "    .dataframe thead th {\n",
       "        text-align: right;\n",
       "    }\n",
       "</style>\n",
       "<table border=\"1\" class=\"dataframe\">\n",
       "  <thead>\n",
       "    <tr style=\"text-align: right;\">\n",
       "      <th></th>\n",
       "      <th>POC_ID</th>\n",
       "      <th>Ordenes Influenciadas</th>\n",
       "      <th>Ordenes inf. Upsell</th>\n",
       "      <th>Ordenes inf.Quick Order</th>\n",
       "      <th>Ordenes totales</th>\n",
       "      <th>COD_CLIENTE</th>\n",
       "      <th>COD_DISTRI</th>\n",
       "      <th>Periodo</th>\n",
       "    </tr>\n",
       "  </thead>\n",
       "  <tbody>\n",
       "    <tr>\n",
       "      <th>75584</th>\n",
       "      <td>32866000000141</td>\n",
       "      <td>1</td>\n",
       "      <td>1</td>\n",
       "      <td>1</td>\n",
       "      <td>1</td>\n",
       "      <td>141</td>\n",
       "      <td>328660</td>\n",
       "      <td>2022-06-01</td>\n",
       "    </tr>\n",
       "    <tr>\n",
       "      <th>84633</th>\n",
       "      <td>36984600006868</td>\n",
       "      <td>1</td>\n",
       "      <td>1</td>\n",
       "      <td>1</td>\n",
       "      <td>1</td>\n",
       "      <td>6868</td>\n",
       "      <td>369846</td>\n",
       "      <td>2022-06-01</td>\n",
       "    </tr>\n",
       "    <tr>\n",
       "      <th>81261</th>\n",
       "      <td>36911700001918</td>\n",
       "      <td>1</td>\n",
       "      <td>1</td>\n",
       "      <td>1</td>\n",
       "      <td>2</td>\n",
       "      <td>1918</td>\n",
       "      <td>369117</td>\n",
       "      <td>2022-06-01</td>\n",
       "    </tr>\n",
       "    <tr>\n",
       "      <th>81188</th>\n",
       "      <td>36911700001330</td>\n",
       "      <td>3</td>\n",
       "      <td>0</td>\n",
       "      <td>3</td>\n",
       "      <td>4</td>\n",
       "      <td>1330</td>\n",
       "      <td>369117</td>\n",
       "      <td>2022-06-01</td>\n",
       "    </tr>\n",
       "    <tr>\n",
       "      <th>83481</th>\n",
       "      <td>36984600000430</td>\n",
       "      <td>2</td>\n",
       "      <td>0</td>\n",
       "      <td>2</td>\n",
       "      <td>2</td>\n",
       "      <td>430</td>\n",
       "      <td>369846</td>\n",
       "      <td>2022-06-01</td>\n",
       "    </tr>\n",
       "  </tbody>\n",
       "</table>\n",
       "</div>"
      ],
      "text/plain": [
       "               POC_ID  Ordenes Influenciadas  Ordenes inf. Upsell  \\\n",
       "75584  32866000000141                      1                    1   \n",
       "84633  36984600006868                      1                    1   \n",
       "81261  36911700001918                      1                    1   \n",
       "81188  36911700001330                      3                    0   \n",
       "83481  36984600000430                      2                    0   \n",
       "\n",
       "       Ordenes inf.Quick Order  Ordenes totales  COD_CLIENTE  COD_DISTRI  \\\n",
       "75584                        1                1          141      328660   \n",
       "84633                        1                1         6868      369846   \n",
       "81261                        1                2         1918      369117   \n",
       "81188                        3                4         1330      369117   \n",
       "83481                        2                2          430      369846   \n",
       "\n",
       "         Periodo  \n",
       "75584 2022-06-01  \n",
       "84633 2022-06-01  \n",
       "81261 2022-06-01  \n",
       "81188 2022-06-01  \n",
       "83481 2022-06-01  "
      ]
     },
     "execution_count": 127,
     "metadata": {},
     "output_type": "execute_result"
    }
   ],
   "source": [
    "df['COD_CLIENTE'] = df.POC_ID.str.extract('(0{2,}\\d+)')\n",
    "df['COD_DISTRI'] = df.POC_ID.str.extract('(\\d{6,6}(?:\\.\\d+)?)')\n",
    "df = df[df.COD_DISTRI.isin(['704250','328660','369117','369846','445625'])]\n",
    "df['COD_DISTRI'] = df['COD_DISTRI'].astype('Int64')\n",
    "df['COD_CLIENTE'] = df['COD_CLIENTE'].astype('Int64')\n",
    "df['Periodo'] = pd.to_datetime(date(periodo.year, periodo.month, 1))\n",
    "# df.nunique()\n",
    "df.sample(5)"
   ]
  },
  {
   "cell_type": "code",
   "execution_count": null,
   "metadata": {},
   "outputs": [],
   "source": [
    "# df_m = df.loc[0:4,['POC_ID', 'Ordenes Influenciadas', 'Ordenes totales']] \n",
    "# df_m"
   ]
  },
  {
   "cell_type": "code",
   "execution_count": 203,
   "metadata": {},
   "outputs": [
    {
     "data": {
      "text/plain": [
       "POC_ID                              int64\n",
       "Ordenes Influenciadas               int64\n",
       "Ordenes inf. Upsell                 int64\n",
       "Ordenes inf.Quick Order             int64\n",
       "Ordenes totales                     int64\n",
       "Periodo                    datetime64[ns]\n",
       "dtype: object"
      ]
     },
     "execution_count": 203,
     "metadata": {},
     "output_type": "execute_result"
    }
   ],
   "source": [
    "# df['Periodo'] = pd.to_datetime('1/6/2022')\n",
    "# df.convert_dtypes()\n",
    "# df['POC_ID'].astype('Int64')\n",
    "# df.dtypes"
   ]
  },
  {
   "cell_type": "code",
   "execution_count": 204,
   "metadata": {},
   "outputs": [],
   "source": [
    "# conditionlist = [\n",
    "#     (df['POC_ID']>=7042500000000) & (df['POC_ID']<7042600000000),\n",
    "#     (df['POC_ID']>=32866000000000) & (df['POC_ID']<32866100000000),\n",
    "#     (df['POC_ID']>=36911700000000) & (df['POC_ID']<36911800000000),\n",
    "#     (df['POC_ID']>=36984600000000) & (df['POC_ID']<36984700000000),\n",
    "#     (df['POC_ID']>=44562500000000) & (df['POC_ID']<44562600000000)]\n",
    "# choicelist = ['70425', '328660', '369117', '369846', '445625']\n",
    "# df['DISTRI'] = np.select(conditionlist, choicelist, default = 'OTRO DISTRI')\n",
    "# df.sample"
   ]
  },
  {
   "cell_type": "code",
   "execution_count": 128,
   "metadata": {},
   "outputs": [],
   "source": [
    "try: \n",
    "    df.drop(columns=['Ordenes inf. Upsell','POC_ID','Ordenes inf.Quick Order'], inplace=True)\n",
    "    df = df[['Periodo', 'COD_DISTRI', 'COD_CLIENTE', 'Ordenes Influenciadas', 'Ordenes totales',]]\n",
    "except: \n",
    "    print(\"Oh rallos y centellas, a ocurrido un error catastrofico! \")\n",
    "# df.groupby(['DISTRI', 'Periodo']).sum()\n",
    "# df\n"
   ]
  },
  {
   "cell_type": "code",
   "execution_count": 207,
   "metadata": {},
   "outputs": [],
   "source": [
    "# df.drop(columns='DISTRI'=='OTRO DISTRI',axis=0)\n",
    "# df\n",
    "# df = df[df['DISTRI']!='OTRO DISTRI']\n",
    "# df"
   ]
  },
  {
   "cell_type": "code",
   "execution_count": 129,
   "metadata": {},
   "outputs": [
    {
     "name": "stdout",
     "output_type": "stream",
     "text": [
      "Conect succesfull\n",
      "carga exitosa\n"
     ]
    }
   ],
   "source": [
    "def run():\n",
    "    try:\n",
    "        engine = sa.create_engine(\"mssql+pyodbc:///?odbc_connect={}\".format(parameters))\n",
    "        print(\"Conect succesfull\")\n",
    "    except Exception:\n",
    "        print(\"Errora in DataBase conection\")\n",
    "    try:    \n",
    "        df.to_excel('y:/19-POWER BI/01-Total Bebidas/TACO GQ/Algoritmo_Junio_procesado.xlsx')\n",
    "        df.to_sql('BEES_Algoritmo', con = engine, if_exists= 'append', index=False)\n",
    "        print(\"carga exitosa\")\n",
    "    except Exception:\n",
    "        print(\"Error fatal irrecuperable\")\n",
    "\n",
    "run()\n"
   ]
  }
 ],
 "metadata": {
  "kernelspec": {
   "display_name": "Python 3.10.4 ('venv': venv)",
   "language": "python",
   "name": "python3"
  },
  "language_info": {
   "codemirror_mode": {
    "name": "ipython",
    "version": 3
   },
   "file_extension": ".py",
   "mimetype": "text/x-python",
   "name": "python",
   "nbconvert_exporter": "python",
   "pygments_lexer": "ipython3",
   "version": "3.10.4"
  },
  "orig_nbformat": 4,
  "vscode": {
   "interpreter": {
    "hash": "897a6d9ead6ccb62961cfc597fe4d29a42b1d13c4cae0e68e38a104014edbaf7"
   }
  }
 },
 "nbformat": 4,
 "nbformat_minor": 2
}
