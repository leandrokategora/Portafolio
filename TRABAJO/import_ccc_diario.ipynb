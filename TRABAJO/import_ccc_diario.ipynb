{
 "cells": [
  {
   "cell_type": "code",
   "execution_count": 111,
   "metadata": {},
   "outputs": [],
   "source": [
    "import pandas as pd\n",
    "import numpy as np\n",
    "from sqlalchemy import INTEGER\n",
    "from conct_db import enginex\n",
    "from datetime import datetime, date\n",
    "from sqlalchemy.types import DATE, INTEGER\n"
   ]
  },
  {
   "cell_type": "code",
   "execution_count": null,
   "metadata": {},
   "outputs": [],
   "source": [
    "# base_ccc = pd.read_excel('y:/02-VENTAS/14-Base de Ventas Grupo Total/2016/02-Avance/01-Cierres Avance/2022/07.-Julio/BASE CCC MES ACT.xlsx', skipfooter=1)\n",
    "base_ccc = pd.read_excel('y:/02-VENTAS/14-Base de Ventas Grupo Total/2016/02-Avance/BASE CCC MES ACT.xlsx', skipfooter=1)\n",
    "df_ccc = pd.DataFrame(base_ccc)\n",
    "df_ccc.sample(3)\n"
   ]
  },
  {
   "cell_type": "code",
   "execution_count": null,
   "metadata": {},
   "outputs": [],
   "source": [
    "df_ccc.rename({'Código Distribuidor':'COD DISTRI', 'Código Cliente': 'COD PDV', 'Código Producto': 'ARTICULO', 'Clientes con Compra Totales': 'CCC'}, axis=1, inplace=True)\n",
    "df_ccc.sample(3)"
   ]
  },
  {
   "cell_type": "code",
   "execution_count": 129,
   "metadata": {},
   "outputs": [
    {
     "data": {
      "text/plain": [
       "Timestamp('2022-08-01 00:00:00')"
      ]
     },
     "execution_count": 129,
     "metadata": {},
     "output_type": "execute_result"
    }
   ],
   "source": [
    "# fecha = datetime.today()\n",
    "# periodo = pd.to_datetime(date(fecha.year, fecha.month, 1))\n",
    "# periodo\n",
    "fecha_real = pd.to_datetime(df_ccc['Fecha'].values[1])\n",
    "periodo_real = pd.to_datetime(date(fecha_real.year, fecha_real.month, 1))\n",
    "periodo_real"
   ]
  },
  {
   "cell_type": "code",
   "execution_count": 130,
   "metadata": {},
   "outputs": [
    {
     "data": {
      "text/html": [
       "<div>\n",
       "<style scoped>\n",
       "    .dataframe tbody tr th:only-of-type {\n",
       "        vertical-align: middle;\n",
       "    }\n",
       "\n",
       "    .dataframe tbody tr th {\n",
       "        vertical-align: top;\n",
       "    }\n",
       "\n",
       "    .dataframe thead th {\n",
       "        text-align: right;\n",
       "    }\n",
       "</style>\n",
       "<table border=\"1\" class=\"dataframe\">\n",
       "  <thead>\n",
       "    <tr style=\"text-align: right;\">\n",
       "      <th></th>\n",
       "      <th>COD DISTRI</th>\n",
       "      <th>COD PDV</th>\n",
       "      <th>ARTICULO</th>\n",
       "      <th>PERIODO</th>\n",
       "      <th>CCC</th>\n",
       "    </tr>\n",
       "  </thead>\n",
       "  <tbody>\n",
       "    <tr>\n",
       "      <th>7818</th>\n",
       "      <td>369117</td>\n",
       "      <td>11006</td>\n",
       "      <td>24880</td>\n",
       "      <td>2022-08-01</td>\n",
       "      <td>1</td>\n",
       "    </tr>\n",
       "    <tr>\n",
       "      <th>5684</th>\n",
       "      <td>369117</td>\n",
       "      <td>6840</td>\n",
       "      <td>21849</td>\n",
       "      <td>2022-08-01</td>\n",
       "      <td>1</td>\n",
       "    </tr>\n",
       "    <tr>\n",
       "      <th>6576</th>\n",
       "      <td>369117</td>\n",
       "      <td>9656</td>\n",
       "      <td>25120</td>\n",
       "      <td>2022-08-01</td>\n",
       "      <td>1</td>\n",
       "    </tr>\n",
       "  </tbody>\n",
       "</table>\n",
       "</div>"
      ],
      "text/plain": [
       "      COD DISTRI  COD PDV  ARTICULO    PERIODO  CCC\n",
       "7818      369117    11006     24880 2022-08-01    1\n",
       "5684      369117     6840     21849 2022-08-01    1\n",
       "6576      369117     9656     25120 2022-08-01    1"
      ]
     },
     "execution_count": 130,
     "metadata": {},
     "output_type": "execute_result"
    }
   ],
   "source": [
    "df_ccc['PERIODO'] = periodo_real\n",
    "df_ccc.drop(['Fecha', 'Año', 'Mes'], axis=1, inplace=True)\n",
    "df_ccc = df_ccc[['COD DISTRI', 'COD PDV', 'ARTICULO', 'PERIODO', 'CCC']]\n",
    "periodo_query = str(periodo_real)[:10]\n",
    "df_ccc.sample(3)\n",
    "# periodo_query"
   ]
  },
  {
   "cell_type": "code",
   "execution_count": 132,
   "metadata": {},
   "outputs": [],
   "source": [
    "# periodo_real\n",
    "# text=(\"\"\"SELECT * FROM BASE_CCC WHERE PERIODO = {} \"\"\".format(\"'\"+periodo_query+\"'\"))\n",
    "# # enginex.execute(text)\n",
    "# muestreo = pd.DataFrame(enginex.execute(text))\n",
    "# muestreo"
   ]
  },
  {
   "cell_type": "code",
   "execution_count": 133,
   "metadata": {},
   "outputs": [
    {
     "name": "stdout",
     "output_type": "stream",
     "text": [
      "Carga Exitosa\n"
     ]
    }
   ],
   "source": [
    "def run():\n",
    "    try:\n",
    "        df_ccc.to_sql('BASE_CCC', if_exists='append', con=enginex, index=False, dtype={'COD DISTRI':INTEGER, 'COD PDV':INTEGER, 'ARTICULO':INTEGER,\t'PERIODO':DATE,\t'CCC':INTEGER})\n",
    "        print('Carga Exitosa')\n",
    "    except Exception as ex:\n",
    "        print('OH RALLOS Y CENTELLAS A OCURRIDO UN ERROR ESPANTOSO' + '\\n' + ex)\n",
    "text=(\"\"\"DELETE FROM BASE_CCC WHERE PERIODO = {} \"\"\".format(\"'\"+periodo_query+\"'\"))\n",
    "enginex.execute(text)\n",
    "run()"
   ]
  }
 ],
 "metadata": {
  "kernelspec": {
   "display_name": "Python 3.10.4 64-bit (system)",
   "language": "python",
   "name": "python3"
  },
  "language_info": {
   "codemirror_mode": {
    "name": "ipython",
    "version": 3
   },
   "file_extension": ".py",
   "mimetype": "text/x-python",
   "name": "python",
   "nbconvert_exporter": "python",
   "pygments_lexer": "ipython3",
   "version": "3.10.4"
  },
  "orig_nbformat": 4,
  "vscode": {
   "interpreter": {
    "hash": "897a6d9ead6ccb62961cfc597fe4d29a42b1d13c4cae0e68e38a104014edbaf7"
   }
  }
 },
 "nbformat": 4,
 "nbformat_minor": 2
}
