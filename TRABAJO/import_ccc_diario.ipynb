{
 "cells": [
  {
   "cell_type": "code",
   "execution_count": 34,
   "metadata": {},
   "outputs": [],
   "source": [
    "import pandas as pd\n",
    "import numpy as np\n",
    "from sqlalchemy import INTEGER\n",
    "from conct_db import enginex\n",
    "from datetime import datetime, date\n",
    "from sqlalchemy.types import DATE, INTEGER\n"
   ]
  },
  {
   "cell_type": "code",
   "execution_count": 35,
   "metadata": {},
   "outputs": [
    {
     "data": {
      "text/html": [
       "<div>\n",
       "<style scoped>\n",
       "    .dataframe tbody tr th:only-of-type {\n",
       "        vertical-align: middle;\n",
       "    }\n",
       "\n",
       "    .dataframe tbody tr th {\n",
       "        vertical-align: top;\n",
       "    }\n",
       "\n",
       "    .dataframe thead th {\n",
       "        text-align: right;\n",
       "    }\n",
       "</style>\n",
       "<table border=\"1\" class=\"dataframe\">\n",
       "  <thead>\n",
       "    <tr style=\"text-align: right;\">\n",
       "      <th></th>\n",
       "      <th>Código Distribuidor</th>\n",
       "      <th>Código Cliente</th>\n",
       "      <th>Código Producto</th>\n",
       "      <th>Fecha</th>\n",
       "      <th>Año</th>\n",
       "      <th>Mes</th>\n",
       "      <th>Clientes con Compra Totales</th>\n",
       "    </tr>\n",
       "  </thead>\n",
       "  <tbody>\n",
       "    <tr>\n",
       "      <th>92139</th>\n",
       "      <td>445625</td>\n",
       "      <td>999111.0</td>\n",
       "      <td>7476.0</td>\n",
       "      <td>2022-10-31 00:00:00</td>\n",
       "      <td>2022.0</td>\n",
       "      <td>Octubre</td>\n",
       "      <td>1.0</td>\n",
       "    </tr>\n",
       "    <tr>\n",
       "      <th>92140</th>\n",
       "      <td>445625</td>\n",
       "      <td>999111.0</td>\n",
       "      <td>21967.0</td>\n",
       "      <td>2022-10-31 00:00:00</td>\n",
       "      <td>2022.0</td>\n",
       "      <td>Octubre</td>\n",
       "      <td>1.0</td>\n",
       "    </tr>\n",
       "    <tr>\n",
       "      <th>92141</th>\n",
       "      <td>445625</td>\n",
       "      <td>999212.0</td>\n",
       "      <td>627.0</td>\n",
       "      <td>2022-10-31 00:00:00</td>\n",
       "      <td>2022.0</td>\n",
       "      <td>Octubre</td>\n",
       "      <td>1.0</td>\n",
       "    </tr>\n",
       "  </tbody>\n",
       "</table>\n",
       "</div>"
      ],
      "text/plain": [
       "      Código Distribuidor  Código Cliente  Código Producto  \\\n",
       "92139              445625        999111.0           7476.0   \n",
       "92140              445625        999111.0          21967.0   \n",
       "92141              445625        999212.0            627.0   \n",
       "\n",
       "                     Fecha     Año      Mes  Clientes con Compra Totales  \n",
       "92139  2022-10-31 00:00:00  2022.0  Octubre                          1.0  \n",
       "92140  2022-10-31 00:00:00  2022.0  Octubre                          1.0  \n",
       "92141  2022-10-31 00:00:00  2022.0  Octubre                          1.0  "
      ]
     },
     "execution_count": 35,
     "metadata": {},
     "output_type": "execute_result"
    }
   ],
   "source": [
    "base_ccc = pd.read_excel('y:/02-VENTAS/14-Base de Ventas Grupo Total/2016/02-Avance/BASE CCC MES ACT.xlsx')\n",
    "df_ccc = pd.DataFrame(base_ccc)\n",
    "# df_ccc[1:1].values\n",
    "if  df_ccc.iloc[0:0, 3].size <= 0:\n",
    "    base_ccc = pd.read_excel('y:/02-VENTAS/14-Base de Ventas Grupo Total/2016/02-Avance/BASE CCC MES ACT.xlsx', header=1)\n",
    "    df_ccc = pd.DataFrame(base_ccc)\n",
    "    \n",
    "else:\n",
    "    pass\n",
    "if df_ccc.iloc[-1:, 3].values == 1:\n",
    "    df_ccc.drop(df_ccc[-1:].index, axis=0, inplace=True)\n",
    "else:\n",
    "    pass\n",
    "df_ccc.tail(3)\n"
   ]
  },
  {
   "cell_type": "code",
   "execution_count": 36,
   "metadata": {},
   "outputs": [
    {
     "data": {
      "text/plain": [
       "array([datetime.datetime(2022, 10, 31, 0, 0)], dtype=object)"
      ]
     },
     "execution_count": 36,
     "metadata": {},
     "output_type": "execute_result"
    }
   ],
   "source": [
    "df_ccc.iloc[0:0, 3].size\n",
    "df_ccc.iloc[-1:, 3].values"
   ]
  },
  {
   "cell_type": "code",
   "execution_count": 37,
   "metadata": {},
   "outputs": [],
   "source": [
    "# from operator import index\n",
    "\n",
    "\n",
    "# if df_ccc.iloc[-1:, 3].values == 1:\n",
    "#     df_ccc.drop(df_ccc[-1:].index, axis=0, inplace=True)\n",
    "# else:\n",
    "#     pass\n",
    "# df_ccc.head(3)"
   ]
  },
  {
   "cell_type": "code",
   "execution_count": 38,
   "metadata": {},
   "outputs": [],
   "source": [
    "# base_ccc = pd.read_excel('y:/02-VENTAS/14-Base de Ventas Grupo Total/2016/02-Avance/01-Cierres Avance/2022/07.-Julio/BASE CCC MES ACT.xlsx', skipfooter=1)\n",
    "# base_ccc = pd.read_excel('y:/02-VENTAS/14-Base de Ventas Grupo Total/2016/02-Avance/BASE CCC MES ACT.xlsx', skipfooter=1)\n",
    "# df_ccc = pd.DataFrame(base_ccc)\n",
    "# df_ccc.sample(3)\n"
   ]
  },
  {
   "cell_type": "code",
   "execution_count": 39,
   "metadata": {},
   "outputs": [
    {
     "data": {
      "text/html": [
       "<div>\n",
       "<style scoped>\n",
       "    .dataframe tbody tr th:only-of-type {\n",
       "        vertical-align: middle;\n",
       "    }\n",
       "\n",
       "    .dataframe tbody tr th {\n",
       "        vertical-align: top;\n",
       "    }\n",
       "\n",
       "    .dataframe thead th {\n",
       "        text-align: right;\n",
       "    }\n",
       "</style>\n",
       "<table border=\"1\" class=\"dataframe\">\n",
       "  <thead>\n",
       "    <tr style=\"text-align: right;\">\n",
       "      <th></th>\n",
       "      <th>COD DISTRI</th>\n",
       "      <th>COD PDV</th>\n",
       "      <th>ARTICULO</th>\n",
       "      <th>Fecha</th>\n",
       "      <th>Año</th>\n",
       "      <th>Mes</th>\n",
       "      <th>CCC</th>\n",
       "    </tr>\n",
       "  </thead>\n",
       "  <tbody>\n",
       "    <tr>\n",
       "      <th>91399</th>\n",
       "      <td>445625</td>\n",
       "      <td>11265.0</td>\n",
       "      <td>13502.0</td>\n",
       "      <td>2022-10-31 00:00:00</td>\n",
       "      <td>2022.0</td>\n",
       "      <td>Octubre</td>\n",
       "      <td>1.0</td>\n",
       "    </tr>\n",
       "    <tr>\n",
       "      <th>21861</th>\n",
       "      <td>369117</td>\n",
       "      <td>5310.0</td>\n",
       "      <td>7038.0</td>\n",
       "      <td>2022-10-31 00:00:00</td>\n",
       "      <td>2022.0</td>\n",
       "      <td>Octubre</td>\n",
       "      <td>1.0</td>\n",
       "    </tr>\n",
       "    <tr>\n",
       "      <th>26853</th>\n",
       "      <td>369117</td>\n",
       "      <td>9980.0</td>\n",
       "      <td>7030.0</td>\n",
       "      <td>2022-10-31 00:00:00</td>\n",
       "      <td>2022.0</td>\n",
       "      <td>Octubre</td>\n",
       "      <td>1.0</td>\n",
       "    </tr>\n",
       "  </tbody>\n",
       "</table>\n",
       "</div>"
      ],
      "text/plain": [
       "      COD DISTRI  COD PDV  ARTICULO                Fecha     Año      Mes  CCC\n",
       "91399     445625  11265.0   13502.0  2022-10-31 00:00:00  2022.0  Octubre  1.0\n",
       "21861     369117   5310.0    7038.0  2022-10-31 00:00:00  2022.0  Octubre  1.0\n",
       "26853     369117   9980.0    7030.0  2022-10-31 00:00:00  2022.0  Octubre  1.0"
      ]
     },
     "execution_count": 39,
     "metadata": {},
     "output_type": "execute_result"
    }
   ],
   "source": [
    "df_ccc.rename({'Código Distribuidor':'COD DISTRI', 'Código Cliente': 'COD PDV', 'Código Producto': 'ARTICULO', 'Clientes con Compra Totales': 'CCC'}, axis=1, inplace=True)\n",
    "df_ccc.sample(3)"
   ]
  },
  {
   "cell_type": "code",
   "execution_count": 40,
   "metadata": {},
   "outputs": [],
   "source": [
    "# fecha = datetime.today()\n",
    "# periodo = pd.to_datetime(date(fecha.year, fecha.month, 1))\n",
    "# periodo\n",
    "fecha_real = pd.to_datetime(df_ccc['Fecha'].values[1])\n",
    "periodo_real = pd.to_datetime(date(fecha_real.year, fecha_real.month, 1))\n",
    "periodo_real\n",
    "periodo_query = str(periodo_real)[:10]"
   ]
  },
  {
   "cell_type": "code",
   "execution_count": 41,
   "metadata": {},
   "outputs": [
    {
     "data": {
      "text/html": [
       "<div>\n",
       "<style scoped>\n",
       "    .dataframe tbody tr th:only-of-type {\n",
       "        vertical-align: middle;\n",
       "    }\n",
       "\n",
       "    .dataframe tbody tr th {\n",
       "        vertical-align: top;\n",
       "    }\n",
       "\n",
       "    .dataframe thead th {\n",
       "        text-align: right;\n",
       "    }\n",
       "</style>\n",
       "<table border=\"1\" class=\"dataframe\">\n",
       "  <thead>\n",
       "    <tr style=\"text-align: right;\">\n",
       "      <th></th>\n",
       "      <th>COD DISTRI</th>\n",
       "      <th>COD PDV</th>\n",
       "      <th>ARTICULO</th>\n",
       "      <th>PERIODO</th>\n",
       "      <th>CCC</th>\n",
       "    </tr>\n",
       "  </thead>\n",
       "  <tbody>\n",
       "    <tr>\n",
       "      <th>92139</th>\n",
       "      <td>445625</td>\n",
       "      <td>999111.0</td>\n",
       "      <td>7476.0</td>\n",
       "      <td>2022-10-01</td>\n",
       "      <td>1.0</td>\n",
       "    </tr>\n",
       "    <tr>\n",
       "      <th>92140</th>\n",
       "      <td>445625</td>\n",
       "      <td>999111.0</td>\n",
       "      <td>21967.0</td>\n",
       "      <td>2022-10-01</td>\n",
       "      <td>1.0</td>\n",
       "    </tr>\n",
       "    <tr>\n",
       "      <th>92141</th>\n",
       "      <td>445625</td>\n",
       "      <td>999212.0</td>\n",
       "      <td>627.0</td>\n",
       "      <td>2022-10-01</td>\n",
       "      <td>1.0</td>\n",
       "    </tr>\n",
       "  </tbody>\n",
       "</table>\n",
       "</div>"
      ],
      "text/plain": [
       "      COD DISTRI   COD PDV  ARTICULO    PERIODO  CCC\n",
       "92139     445625  999111.0    7476.0 2022-10-01  1.0\n",
       "92140     445625  999111.0   21967.0 2022-10-01  1.0\n",
       "92141     445625  999212.0     627.0 2022-10-01  1.0"
      ]
     },
     "execution_count": 41,
     "metadata": {},
     "output_type": "execute_result"
    }
   ],
   "source": [
    "df_ccc['PERIODO'] = periodo_real\n",
    "df_ccc.drop(['Fecha', 'Año', 'Mes'], axis=1, inplace=True)\n",
    "df_ccc = df_ccc[['COD DISTRI', 'COD PDV', 'ARTICULO', 'PERIODO', 'CCC']]\n",
    "df_ccc.tail(3)\n",
    "# periodo_query"
   ]
  },
  {
   "cell_type": "code",
   "execution_count": 42,
   "metadata": {},
   "outputs": [],
   "source": [
    "# periodo_real\n",
    "# text=(\"\"\"SELECT * FROM BASE_CCC WHERE PERIODO = {} \"\"\".format(\"'\"+periodo_query+\"'\"))\n",
    "# # enginex.execute(text)\n",
    "# muestreo = pd.DataFrame(enginex.execute(text))\n",
    "# muestreo"
   ]
  },
  {
   "cell_type": "code",
   "execution_count": 43,
   "metadata": {},
   "outputs": [],
   "source": [
    "#  import locale\n",
    "# >>> locale.setlocale(locale.LC_TIME, \"es_ES\")"
   ]
  },
  {
   "cell_type": "code",
   "execution_count": 44,
   "metadata": {},
   "outputs": [
    {
     "name": "stdout",
     "output_type": "stream",
     "text": [
      "Carga Exitosa Thursday, 27 of October 2022 a las 08:41:27\n"
     ]
    }
   ],
   "source": [
    "def run():\n",
    "    try:\n",
    "        df_ccc.to_sql('BASE_CCC', if_exists='append', con=enginex, index=False, dtype={'COD DISTRI':INTEGER, 'COD PDV':INTEGER, 'ARTICULO':INTEGER,\t'PERIODO':DATE,\t'CCC':INTEGER})\n",
    "        print('Carga Exitosa ' + datetime.now().strftime('%A, %d of %B %Y a las %I:%M:%S'))\n",
    "    except Exception as ex:\n",
    "        print('OH RALLOS Y CENTELLAS A OCURRIDO UN ERROR ESPANTOSO' + '\\n' + ex)\n",
    "text=(\"\"\"DELETE FROM BASE_CCC WHERE PERIODO = {} \"\"\".format(\"'\"+periodo_query+\"'\"))\n",
    "enginex.execute(text)\n",
    "run()"
   ]
  }
 ],
 "metadata": {
  "kernelspec": {
   "display_name": "Python 3.10.4 64-bit (system)",
   "language": "python",
   "name": "python3"
  },
  "language_info": {
   "codemirror_mode": {
    "name": "ipython",
    "version": 3
   },
   "file_extension": ".py",
   "mimetype": "text/x-python",
   "name": "python",
   "nbconvert_exporter": "python",
   "pygments_lexer": "ipython3",
   "version": "3.10.4"
  },
  "orig_nbformat": 4,
  "vscode": {
   "interpreter": {
    "hash": "897a6d9ead6ccb62961cfc597fe4d29a42b1d13c4cae0e68e38a104014edbaf7"
   }
  }
 },
 "nbformat": 4,
 "nbformat_minor": 2
}
