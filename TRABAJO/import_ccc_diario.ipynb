{
 "cells": [
  {
   "cell_type": "code",
   "execution_count": 1,
   "metadata": {},
   "outputs": [
    {
     "name": "stdout",
     "output_type": "stream",
     "text": [
      "Conect succesfull\n"
     ]
    }
   ],
   "source": [
    "import pandas as pd\n",
    "import numpy as np\n",
    "from sqlalchemy import INTEGER\n",
    "from conct_db import enginex\n",
    "from datetime import datetime, date\n",
    "from sqlalchemy.types import DATE, INTEGER\n"
   ]
  },
  {
   "cell_type": "code",
   "execution_count": 2,
   "metadata": {},
   "outputs": [
    {
     "data": {
      "text/html": [
       "<div>\n",
       "<style scoped>\n",
       "    .dataframe tbody tr th:only-of-type {\n",
       "        vertical-align: middle;\n",
       "    }\n",
       "\n",
       "    .dataframe tbody tr th {\n",
       "        vertical-align: top;\n",
       "    }\n",
       "\n",
       "    .dataframe thead th {\n",
       "        text-align: right;\n",
       "    }\n",
       "</style>\n",
       "<table border=\"1\" class=\"dataframe\">\n",
       "  <thead>\n",
       "    <tr style=\"text-align: right;\">\n",
       "      <th></th>\n",
       "      <th>Código Distribuidor</th>\n",
       "      <th>Código Cliente</th>\n",
       "      <th>Código Producto</th>\n",
       "      <th>Fecha</th>\n",
       "      <th>Año</th>\n",
       "      <th>Mes</th>\n",
       "      <th>Clientes con Compra Totales</th>\n",
       "    </tr>\n",
       "  </thead>\n",
       "  <tbody>\n",
       "    <tr>\n",
       "      <th>103663</th>\n",
       "      <td>445625</td>\n",
       "      <td>999111.0</td>\n",
       "      <td>1416.0</td>\n",
       "      <td>2022-09-30 00:00:00</td>\n",
       "      <td>2022.0</td>\n",
       "      <td>Septiembre</td>\n",
       "      <td>1.0</td>\n",
       "    </tr>\n",
       "    <tr>\n",
       "      <th>103664</th>\n",
       "      <td>445625</td>\n",
       "      <td>999111.0</td>\n",
       "      <td>19253.0</td>\n",
       "      <td>2022-09-30 00:00:00</td>\n",
       "      <td>2022.0</td>\n",
       "      <td>Septiembre</td>\n",
       "      <td>1.0</td>\n",
       "    </tr>\n",
       "    <tr>\n",
       "      <th>103665</th>\n",
       "      <td>445625</td>\n",
       "      <td>999212.0</td>\n",
       "      <td>7465.0</td>\n",
       "      <td>2022-09-30 00:00:00</td>\n",
       "      <td>2022.0</td>\n",
       "      <td>Septiembre</td>\n",
       "      <td>1.0</td>\n",
       "    </tr>\n",
       "  </tbody>\n",
       "</table>\n",
       "</div>"
      ],
      "text/plain": [
       "       Código Distribuidor  Código Cliente  Código Producto  \\\n",
       "103663              445625        999111.0           1416.0   \n",
       "103664              445625        999111.0          19253.0   \n",
       "103665              445625        999212.0           7465.0   \n",
       "\n",
       "                      Fecha     Año         Mes  Clientes con Compra Totales  \n",
       "103663  2022-09-30 00:00:00  2022.0  Septiembre                          1.0  \n",
       "103664  2022-09-30 00:00:00  2022.0  Septiembre                          1.0  \n",
       "103665  2022-09-30 00:00:00  2022.0  Septiembre                          1.0  "
      ]
     },
     "execution_count": 2,
     "metadata": {},
     "output_type": "execute_result"
    }
   ],
   "source": [
    "base_ccc = pd.read_excel('y:/02-VENTAS/14-Base de Ventas Grupo Total/2016/02-Avance/BASE CCC MES ACT.xlsx')\n",
    "df_ccc = pd.DataFrame(base_ccc)\n",
    "# df_ccc[1:1].values\n",
    "if  df_ccc.iloc[0:0, 3].size <= 0:\n",
    "    base_ccc = pd.read_excel('y:/02-VENTAS/14-Base de Ventas Grupo Total/2016/02-Avance/BASE CCC MES ACT.xlsx', header=1)\n",
    "    df_ccc = pd.DataFrame(base_ccc)\n",
    "    \n",
    "else:\n",
    "    pass\n",
    "if df_ccc.iloc[-1:, 3].values == 1:\n",
    "    df_ccc.drop(df_ccc[-1:].index, axis=0, inplace=True)\n",
    "else:\n",
    "    pass\n",
    "df_ccc.tail(3)\n"
   ]
  },
  {
   "cell_type": "code",
   "execution_count": 3,
   "metadata": {},
   "outputs": [
    {
     "data": {
      "text/plain": [
       "array([datetime.datetime(2022, 9, 30, 0, 0)], dtype=object)"
      ]
     },
     "execution_count": 3,
     "metadata": {},
     "output_type": "execute_result"
    }
   ],
   "source": [
    "df_ccc.iloc[0:0, 3].size\n",
    "df_ccc.iloc[-1:, 3].values"
   ]
  },
  {
   "cell_type": "code",
   "execution_count": 4,
   "metadata": {},
   "outputs": [],
   "source": [
    "# from operator import index\n",
    "\n",
    "\n",
    "# if df_ccc.iloc[-1:, 3].values == 1:\n",
    "#     df_ccc.drop(df_ccc[-1:].index, axis=0, inplace=True)\n",
    "# else:\n",
    "#     pass\n",
    "# df_ccc.head(3)"
   ]
  },
  {
   "cell_type": "code",
   "execution_count": 5,
   "metadata": {},
   "outputs": [],
   "source": [
    "# base_ccc = pd.read_excel('y:/02-VENTAS/14-Base de Ventas Grupo Total/2016/02-Avance/01-Cierres Avance/2022/07.-Julio/BASE CCC MES ACT.xlsx', skipfooter=1)\n",
    "# base_ccc = pd.read_excel('y:/02-VENTAS/14-Base de Ventas Grupo Total/2016/02-Avance/BASE CCC MES ACT.xlsx', skipfooter=1)\n",
    "# df_ccc = pd.DataFrame(base_ccc)\n",
    "# df_ccc.sample(3)\n"
   ]
  },
  {
   "cell_type": "code",
   "execution_count": 6,
   "metadata": {},
   "outputs": [
    {
     "data": {
      "text/html": [
       "<div>\n",
       "<style scoped>\n",
       "    .dataframe tbody tr th:only-of-type {\n",
       "        vertical-align: middle;\n",
       "    }\n",
       "\n",
       "    .dataframe tbody tr th {\n",
       "        vertical-align: top;\n",
       "    }\n",
       "\n",
       "    .dataframe thead th {\n",
       "        text-align: right;\n",
       "    }\n",
       "</style>\n",
       "<table border=\"1\" class=\"dataframe\">\n",
       "  <thead>\n",
       "    <tr style=\"text-align: right;\">\n",
       "      <th></th>\n",
       "      <th>COD DISTRI</th>\n",
       "      <th>COD PDV</th>\n",
       "      <th>ARTICULO</th>\n",
       "      <th>Fecha</th>\n",
       "      <th>Año</th>\n",
       "      <th>Mes</th>\n",
       "      <th>CCC</th>\n",
       "    </tr>\n",
       "  </thead>\n",
       "  <tbody>\n",
       "    <tr>\n",
       "      <th>8088</th>\n",
       "      <td>369117</td>\n",
       "      <td>1623.0</td>\n",
       "      <td>24999.0</td>\n",
       "      <td>2022-09-30 00:00:00</td>\n",
       "      <td>2022.0</td>\n",
       "      <td>Septiembre</td>\n",
       "      <td>1.0</td>\n",
       "    </tr>\n",
       "    <tr>\n",
       "      <th>80922</th>\n",
       "      <td>445625</td>\n",
       "      <td>12049.0</td>\n",
       "      <td>26567.0</td>\n",
       "      <td>2022-09-30 00:00:00</td>\n",
       "      <td>2022.0</td>\n",
       "      <td>Septiembre</td>\n",
       "      <td>1.0</td>\n",
       "    </tr>\n",
       "    <tr>\n",
       "      <th>21807</th>\n",
       "      <td>369117</td>\n",
       "      <td>6760.0</td>\n",
       "      <td>7634.0</td>\n",
       "      <td>2022-09-30 00:00:00</td>\n",
       "      <td>2022.0</td>\n",
       "      <td>Septiembre</td>\n",
       "      <td>1.0</td>\n",
       "    </tr>\n",
       "  </tbody>\n",
       "</table>\n",
       "</div>"
      ],
      "text/plain": [
       "      COD DISTRI  COD PDV  ARTICULO                Fecha     Año         Mes  \\\n",
       "8088      369117   1623.0   24999.0  2022-09-30 00:00:00  2022.0  Septiembre   \n",
       "80922     445625  12049.0   26567.0  2022-09-30 00:00:00  2022.0  Septiembre   \n",
       "21807     369117   6760.0    7634.0  2022-09-30 00:00:00  2022.0  Septiembre   \n",
       "\n",
       "       CCC  \n",
       "8088   1.0  \n",
       "80922  1.0  \n",
       "21807  1.0  "
      ]
     },
     "execution_count": 6,
     "metadata": {},
     "output_type": "execute_result"
    }
   ],
   "source": [
    "df_ccc.rename({'Código Distribuidor':'COD DISTRI', 'Código Cliente': 'COD PDV', 'Código Producto': 'ARTICULO', 'Clientes con Compra Totales': 'CCC'}, axis=1, inplace=True)\n",
    "df_ccc.sample(3)"
   ]
  },
  {
   "cell_type": "code",
   "execution_count": 7,
   "metadata": {},
   "outputs": [],
   "source": [
    "# fecha = datetime.today()\n",
    "# periodo = pd.to_datetime(date(fecha.year, fecha.month, 1))\n",
    "# periodo\n",
    "fecha_real = pd.to_datetime(df_ccc['Fecha'].values[1])\n",
    "periodo_real = pd.to_datetime(date(fecha_real.year, fecha_real.month, 1))\n",
    "periodo_real\n",
    "periodo_query = str(periodo_real)[:10]"
   ]
  },
  {
   "cell_type": "code",
   "execution_count": 8,
   "metadata": {},
   "outputs": [
    {
     "data": {
      "text/html": [
       "<div>\n",
       "<style scoped>\n",
       "    .dataframe tbody tr th:only-of-type {\n",
       "        vertical-align: middle;\n",
       "    }\n",
       "\n",
       "    .dataframe tbody tr th {\n",
       "        vertical-align: top;\n",
       "    }\n",
       "\n",
       "    .dataframe thead th {\n",
       "        text-align: right;\n",
       "    }\n",
       "</style>\n",
       "<table border=\"1\" class=\"dataframe\">\n",
       "  <thead>\n",
       "    <tr style=\"text-align: right;\">\n",
       "      <th></th>\n",
       "      <th>COD DISTRI</th>\n",
       "      <th>COD PDV</th>\n",
       "      <th>ARTICULO</th>\n",
       "      <th>PERIODO</th>\n",
       "      <th>CCC</th>\n",
       "    </tr>\n",
       "  </thead>\n",
       "  <tbody>\n",
       "    <tr>\n",
       "      <th>103663</th>\n",
       "      <td>445625</td>\n",
       "      <td>999111.0</td>\n",
       "      <td>1416.0</td>\n",
       "      <td>2022-09-01</td>\n",
       "      <td>1.0</td>\n",
       "    </tr>\n",
       "    <tr>\n",
       "      <th>103664</th>\n",
       "      <td>445625</td>\n",
       "      <td>999111.0</td>\n",
       "      <td>19253.0</td>\n",
       "      <td>2022-09-01</td>\n",
       "      <td>1.0</td>\n",
       "    </tr>\n",
       "    <tr>\n",
       "      <th>103665</th>\n",
       "      <td>445625</td>\n",
       "      <td>999212.0</td>\n",
       "      <td>7465.0</td>\n",
       "      <td>2022-09-01</td>\n",
       "      <td>1.0</td>\n",
       "    </tr>\n",
       "  </tbody>\n",
       "</table>\n",
       "</div>"
      ],
      "text/plain": [
       "       COD DISTRI   COD PDV  ARTICULO    PERIODO  CCC\n",
       "103663     445625  999111.0    1416.0 2022-09-01  1.0\n",
       "103664     445625  999111.0   19253.0 2022-09-01  1.0\n",
       "103665     445625  999212.0    7465.0 2022-09-01  1.0"
      ]
     },
     "execution_count": 8,
     "metadata": {},
     "output_type": "execute_result"
    }
   ],
   "source": [
    "df_ccc['PERIODO'] = periodo_real\n",
    "df_ccc.drop(['Fecha', 'Año', 'Mes'], axis=1, inplace=True)\n",
    "df_ccc = df_ccc[['COD DISTRI', 'COD PDV', 'ARTICULO', 'PERIODO', 'CCC']]\n",
    "df_ccc.tail(3)\n",
    "# periodo_query"
   ]
  },
  {
   "cell_type": "code",
   "execution_count": 9,
   "metadata": {},
   "outputs": [],
   "source": [
    "# periodo_real\n",
    "# text=(\"\"\"SELECT * FROM BASE_CCC WHERE PERIODO = {} \"\"\".format(\"'\"+periodo_query+\"'\"))\n",
    "# # enginex.execute(text)\n",
    "# muestreo = pd.DataFrame(enginex.execute(text))\n",
    "# muestreo"
   ]
  },
  {
   "cell_type": "code",
   "execution_count": 10,
   "metadata": {},
   "outputs": [],
   "source": [
    "#  import locale\n",
    "# >>> locale.setlocale(locale.LC_TIME, \"es_ES\")"
   ]
  },
  {
   "cell_type": "code",
   "execution_count": 11,
   "metadata": {},
   "outputs": [
    {
     "name": "stdout",
     "output_type": "stream",
     "text": [
      "Carga Exitosa Friday, 30 of September 2022 a las 08:50:13\n"
     ]
    }
   ],
   "source": [
    "def run():\n",
    "    try:\n",
    "        df_ccc.to_sql('BASE_CCC', if_exists='append', con=enginex, index=False, dtype={'COD DISTRI':INTEGER, 'COD PDV':INTEGER, 'ARTICULO':INTEGER,\t'PERIODO':DATE,\t'CCC':INTEGER})\n",
    "        print('Carga Exitosa ' + datetime.now().strftime('%A, %d of %B %Y a las %I:%M:%S'))\n",
    "    except Exception as ex:\n",
    "        print('OH RALLOS Y CENTELLAS A OCURRIDO UN ERROR ESPANTOSO' + '\\n' + ex)\n",
    "text=(\"\"\"DELETE FROM BASE_CCC WHERE PERIODO = {} \"\"\".format(\"'\"+periodo_query+\"'\"))\n",
    "enginex.execute(text)\n",
    "run()"
   ]
  }
 ],
 "metadata": {
  "kernelspec": {
   "display_name": "Python 3.10.4 64-bit (system)",
   "language": "python",
   "name": "python3"
  },
  "language_info": {
   "codemirror_mode": {
    "name": "ipython",
    "version": 3
   },
   "file_extension": ".py",
   "mimetype": "text/x-python",
   "name": "python",
   "nbconvert_exporter": "python",
   "pygments_lexer": "ipython3",
   "version": "3.10.4"
  },
  "orig_nbformat": 4,
  "vscode": {
   "interpreter": {
    "hash": "897a6d9ead6ccb62961cfc597fe4d29a42b1d13c4cae0e68e38a104014edbaf7"
   }
  }
 },
 "nbformat": 4,
 "nbformat_minor": 2
}
