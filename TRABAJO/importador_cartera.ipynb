{
 "cells": [
  {
   "cell_type": "code",
   "execution_count": 6,
   "metadata": {},
   "outputs": [],
   "source": [
    "import pandas as pd\n",
    "import numpy as np\n",
    "import sqlalchemy as sa\n",
    "from conct_db import enginex\n",
    "from datetime import date"
   ]
  },
  {
   "cell_type": "markdown",
   "metadata": {},
   "source": [
    "**LEER LOS DATOS DE ORIGIEN //CARTERA DE REGISTROS//**"
   ]
  },
  {
   "cell_type": "code",
   "execution_count": 7,
   "metadata": {},
   "outputs": [
    {
     "data": {
      "text/html": [
       "<div>\n",
       "<style scoped>\n",
       "    .dataframe tbody tr th:only-of-type {\n",
       "        vertical-align: middle;\n",
       "    }\n",
       "\n",
       "    .dataframe tbody tr th {\n",
       "        vertical-align: top;\n",
       "    }\n",
       "\n",
       "    .dataframe thead th {\n",
       "        text-align: right;\n",
       "    }\n",
       "</style>\n",
       "<table border=\"1\" class=\"dataframe\">\n",
       "  <thead>\n",
       "    <tr style=\"text-align: right;\">\n",
       "      <th></th>\n",
       "      <th>Código Distribuidor</th>\n",
       "      <th>Distribuidor</th>\n",
       "      <th>POC</th>\n",
       "      <th>Clientes</th>\n",
       "      <th>Registrado</th>\n",
       "      <th>Fecha registro</th>\n",
       "      <th>Adherible</th>\n",
       "      <th>Adherido</th>\n",
       "      <th>Fecha adhesion</th>\n",
       "      <th>CanjeL3M</th>\n",
       "      <th>Puntos Disponibles</th>\n",
       "    </tr>\n",
       "  </thead>\n",
       "  <tbody>\n",
       "    <tr>\n",
       "      <th>0</th>\n",
       "      <td>70425</td>\n",
       "      <td>FANK Y SCHERF SRL.-</td>\n",
       "      <td>7.042500e+12</td>\n",
       "      <td>1.0</td>\n",
       "      <td>0.0</td>\n",
       "      <td>NaN</td>\n",
       "      <td>0.0</td>\n",
       "      <td>NaN</td>\n",
       "      <td>NaN</td>\n",
       "      <td>NO</td>\n",
       "      <td>NaN</td>\n",
       "    </tr>\n",
       "    <tr>\n",
       "      <th>1</th>\n",
       "      <td>70425</td>\n",
       "      <td>FANK Y SCHERF SRL.-</td>\n",
       "      <td>7.042500e+12</td>\n",
       "      <td>1.0</td>\n",
       "      <td>0.0</td>\n",
       "      <td>NaN</td>\n",
       "      <td>0.0</td>\n",
       "      <td>NaN</td>\n",
       "      <td>NaN</td>\n",
       "      <td>NO</td>\n",
       "      <td>NaN</td>\n",
       "    </tr>\n",
       "    <tr>\n",
       "      <th>2</th>\n",
       "      <td>70425</td>\n",
       "      <td>FANK Y SCHERF SRL.-</td>\n",
       "      <td>7.042500e+12</td>\n",
       "      <td>1.0</td>\n",
       "      <td>0.0</td>\n",
       "      <td>NaN</td>\n",
       "      <td>0.0</td>\n",
       "      <td>NaN</td>\n",
       "      <td>NaN</td>\n",
       "      <td>NO</td>\n",
       "      <td>NaN</td>\n",
       "    </tr>\n",
       "    <tr>\n",
       "      <th>3</th>\n",
       "      <td>70425</td>\n",
       "      <td>FANK Y SCHERF SRL.-</td>\n",
       "      <td>7.042500e+12</td>\n",
       "      <td>1.0</td>\n",
       "      <td>1.0</td>\n",
       "      <td>16/6/2022</td>\n",
       "      <td>1.0</td>\n",
       "      <td>1.0</td>\n",
       "      <td>16/6/2022</td>\n",
       "      <td>NO</td>\n",
       "      <td>2037.0</td>\n",
       "    </tr>\n",
       "    <tr>\n",
       "      <th>4</th>\n",
       "      <td>70425</td>\n",
       "      <td>FANK Y SCHERF SRL.-</td>\n",
       "      <td>7.042500e+12</td>\n",
       "      <td>1.0</td>\n",
       "      <td>0.0</td>\n",
       "      <td>NaN</td>\n",
       "      <td>0.0</td>\n",
       "      <td>NaN</td>\n",
       "      <td>NaN</td>\n",
       "      <td>NO</td>\n",
       "      <td>NaN</td>\n",
       "    </tr>\n",
       "  </tbody>\n",
       "</table>\n",
       "</div>"
      ],
      "text/plain": [
       "  Código Distribuidor         Distribuidor           POC  Clientes  \\\n",
       "0               70425  FANK Y SCHERF SRL.-  7.042500e+12       1.0   \n",
       "1               70425  FANK Y SCHERF SRL.-  7.042500e+12       1.0   \n",
       "2               70425  FANK Y SCHERF SRL.-  7.042500e+12       1.0   \n",
       "3               70425  FANK Y SCHERF SRL.-  7.042500e+12       1.0   \n",
       "4               70425  FANK Y SCHERF SRL.-  7.042500e+12       1.0   \n",
       "\n",
       "   Registrado Fecha registro  Adherible  Adherido Fecha adhesion CanjeL3M  \\\n",
       "0         0.0            NaN        0.0       NaN            NaN       NO   \n",
       "1         0.0            NaN        0.0       NaN            NaN       NO   \n",
       "2         0.0            NaN        0.0       NaN            NaN       NO   \n",
       "3         1.0      16/6/2022        1.0       1.0      16/6/2022       NO   \n",
       "4         0.0            NaN        0.0       NaN            NaN       NO   \n",
       "\n",
       "   Puntos Disponibles  \n",
       "0                 NaN  \n",
       "1                 NaN  \n",
       "2                 NaN  \n",
       "3              2037.0  \n",
       "4                 NaN  "
      ]
     },
     "execution_count": 7,
     "metadata": {},
     "output_type": "execute_result"
    }
   ],
   "source": [
    "file = pd.read_excel('z://PLANEAMIENTO/02-VENTAS/30-BEES/Cartera Registros.xlsb', skipfooter=3, sheet_name='Export')\n",
    "file.to_csv('z://PLANEAMIENTO/02-VENTAS/30-BEES/Cartera Registros.xlsx', encoding='UTF-8')\n",
    "data1 = pd.read_csv('z://PLANEAMIENTO/02-VENTAS/30-BEES/Cartera Registros.csv', encoding='UTF-8')\n",
    "df = pd.DataFrame(data1)\n",
    "# df.loc[[2134]]\n",
    "# df.sample(3)\n",
    "df.head()"
   ]
  },
  {
   "cell_type": "markdown",
   "metadata": {},
   "source": [
    "**TRANSFORMAR LOS DATOS PARA PODER CARGARLOS A LA BASE**"
   ]
  },
  {
   "cell_type": "code",
   "execution_count": 8,
   "metadata": {},
   "outputs": [],
   "source": [
    "df['POC'] = df['POC'].astype(str)\n",
    "# df['Fecha adhesion'] = df['Fecha adhesion'].convert_dtypes(int)\n",
    "df['Fecha adhesion'] = pd.to_datetime(df['Fecha adhesion'],  format='%d/%m/%Y', errors='coerce')\n",
    "df['Fecha registro'] = pd.to_datetime(df['Fecha registro'], format='%d/%m/%Y', errors='coerce', )\n",
    "# df['Fecha adhesion'] = df['Fecha adhesion'].dt.strftime('%m/%d/%Y')"
   ]
  },
  {
   "cell_type": "code",
   "execution_count": 9,
   "metadata": {},
   "outputs": [
    {
     "data": {
      "text/html": [
       "<div>\n",
       "<style scoped>\n",
       "    .dataframe tbody tr th:only-of-type {\n",
       "        vertical-align: middle;\n",
       "    }\n",
       "\n",
       "    .dataframe tbody tr th {\n",
       "        vertical-align: top;\n",
       "    }\n",
       "\n",
       "    .dataframe thead th {\n",
       "        text-align: right;\n",
       "    }\n",
       "</style>\n",
       "<table border=\"1\" class=\"dataframe\">\n",
       "  <thead>\n",
       "    <tr style=\"text-align: right;\">\n",
       "      <th></th>\n",
       "      <th>COD_DISTRI</th>\n",
       "      <th>COD_CLIENTE</th>\n",
       "      <th>Registrado</th>\n",
       "      <th>Fecha registro</th>\n",
       "      <th>Adherible</th>\n",
       "      <th>Adherido</th>\n",
       "      <th>Fecha adhesion</th>\n",
       "      <th>CanjeL3M</th>\n",
       "      <th>Puntos Disponibles</th>\n",
       "    </tr>\n",
       "  </thead>\n",
       "  <tbody>\n",
       "    <tr>\n",
       "      <th>6617</th>\n",
       "      <td>369846</td>\n",
       "      <td>7047</td>\n",
       "      <td>1</td>\n",
       "      <td>2022-05-20</td>\n",
       "      <td>1</td>\n",
       "      <td>1</td>\n",
       "      <td>2022-05-20</td>\n",
       "      <td>NO</td>\n",
       "      <td>1715.0</td>\n",
       "    </tr>\n",
       "    <tr>\n",
       "      <th>865</th>\n",
       "      <td>328660</td>\n",
       "      <td>1078</td>\n",
       "      <td>1</td>\n",
       "      <td>2021-12-07</td>\n",
       "      <td>1</td>\n",
       "      <td>1</td>\n",
       "      <td>2021-12-07</td>\n",
       "      <td>SI</td>\n",
       "      <td>2756.0</td>\n",
       "    </tr>\n",
       "    <tr>\n",
       "      <th>4241</th>\n",
       "      <td>369117</td>\n",
       "      <td>14071</td>\n",
       "      <td>1</td>\n",
       "      <td>2022-01-14</td>\n",
       "      <td>1</td>\n",
       "      <td>1</td>\n",
       "      <td>2022-01-14</td>\n",
       "      <td>NO</td>\n",
       "      <td>1915.0</td>\n",
       "    </tr>\n",
       "  </tbody>\n",
       "</table>\n",
       "</div>"
      ],
      "text/plain": [
       "     COD_DISTRI  COD_CLIENTE  Registrado Fecha registro  Adherible  Adherido  \\\n",
       "6617     369846         7047           1     2022-05-20          1         1   \n",
       "865      328660         1078           1     2021-12-07          1         1   \n",
       "4241     369117        14071           1     2022-01-14          1         1   \n",
       "\n",
       "     Fecha adhesion CanjeL3M  Puntos Disponibles  \n",
       "6617     2022-05-20       NO              1715.0  \n",
       "865      2021-12-07       SI              2756.0  \n",
       "4241     2022-01-14       NO              1915.0  "
      ]
     },
     "execution_count": 9,
     "metadata": {},
     "output_type": "execute_result"
    }
   ],
   "source": [
    "# df['COD_CLIENTE'] = df.POC.str[-5:]\n",
    "df['COD_CLIENTE'] = df.POC.str.extract('(0{2,}\\d+)')\n",
    "df.rename({'Código Distribuidor':'COD_DISTRI'}, axis=1, inplace=True)\n",
    "# df['COD_DISTRI'] = df.POC.str.extract('(\\d{6,6}(?:\\.\\d+)?)')\n",
    "df[['COD_CLIENTE','Registrado', 'Adherible', 'Adherido']] = df[['COD_CLIENTE','Registrado', 'Adherible', 'Adherido']].astype('Int64')\n",
    "try:\n",
    "    df.drop(columns=['POC', 'Distribuidor', 'Clientes'], inplace=True)\n",
    "except:\n",
    "    pass\n",
    "df = df[['COD_DISTRI', 'COD_CLIENTE', 'Registrado', 'Fecha registro', 'Adherible', 'Adherido', 'Fecha adhesion', 'CanjeL3M', 'Puntos Disponibles']]\n",
    "df.sample(3)"
   ]
  },
  {
   "cell_type": "code",
   "execution_count": 10,
   "metadata": {},
   "outputs": [
    {
     "name": "stdout",
     "output_type": "stream",
     "text": [
      "Carga Exitosa\n"
     ]
    }
   ],
   "source": [
    "\n",
    "try:\n",
    "    df.to_sql('BEES_Cartera_Registros', con=enginex, if_exists='replace', index=False)\n",
    "    df.to_excel('z://PLANEAMIENTO/02-VENTAS/30-BEES/Cartera Registros.xlsx')\n",
    "    print('Carga Exitosa')\n",
    "except Exception as ex:\n",
    "    print(ex)\n",
    "    "
   ]
  }
 ],
 "metadata": {
  "kernelspec": {
   "display_name": "Python 3.10.4 64-bit (system)",
   "language": "python",
   "name": "python3"
  },
  "language_info": {
   "codemirror_mode": {
    "name": "ipython",
    "version": 3
   },
   "file_extension": ".py",
   "mimetype": "text/x-python",
   "name": "python",
   "nbconvert_exporter": "python",
   "pygments_lexer": "ipython3",
   "version": "3.10.4"
  },
  "orig_nbformat": 4,
  "vscode": {
   "interpreter": {
    "hash": "897a6d9ead6ccb62961cfc597fe4d29a42b1d13c4cae0e68e38a104014edbaf7"
   }
  }
 },
 "nbformat": 4,
 "nbformat_minor": 2
}
