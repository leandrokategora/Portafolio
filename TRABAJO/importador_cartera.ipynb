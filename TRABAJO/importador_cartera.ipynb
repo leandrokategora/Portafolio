{
 "cells": [
  {
   "cell_type": "code",
   "execution_count": 155,
   "metadata": {},
   "outputs": [],
   "source": [
    "import pandas as pd\n",
    "import numpy as np\n",
    "import sqlalchemy as sa\n",
    "from conct_db import enginex\n",
    "from datetime import date"
   ]
  },
  {
   "cell_type": "markdown",
   "metadata": {},
   "source": [
    "**LEER LOS DATOS DE ORIGIEN //CARTERA DE REGISTROS//**"
   ]
  },
  {
   "cell_type": "code",
   "execution_count": 160,
   "metadata": {},
   "outputs": [
    {
     "data": {
      "text/html": [
       "<div>\n",
       "<style scoped>\n",
       "    .dataframe tbody tr th:only-of-type {\n",
       "        vertical-align: middle;\n",
       "    }\n",
       "\n",
       "    .dataframe tbody tr th {\n",
       "        vertical-align: top;\n",
       "    }\n",
       "\n",
       "    .dataframe thead th {\n",
       "        text-align: right;\n",
       "    }\n",
       "</style>\n",
       "<table border=\"1\" class=\"dataframe\">\n",
       "  <thead>\n",
       "    <tr style=\"text-align: right;\">\n",
       "      <th></th>\n",
       "      <th>Código Distribuidor</th>\n",
       "      <th>Distribuidor</th>\n",
       "      <th>POC</th>\n",
       "      <th>Clientes</th>\n",
       "      <th>Registrado</th>\n",
       "      <th>Fecha registro</th>\n",
       "      <th>Adherible</th>\n",
       "      <th>Adherido</th>\n",
       "      <th>Fecha adhesion</th>\n",
       "      <th>CanjeL3M</th>\n",
       "      <th>Puntos Disponibles</th>\n",
       "      <th>COD_CLIENTE</th>\n",
       "    </tr>\n",
       "  </thead>\n",
       "  <tbody>\n",
       "    <tr>\n",
       "      <th>3215</th>\n",
       "      <td>369117</td>\n",
       "      <td>1994 SRL</td>\n",
       "      <td>36911700010174.0</td>\n",
       "      <td>1.0</td>\n",
       "      <td>1.0</td>\n",
       "      <td>18/1/2022</td>\n",
       "      <td>1.0</td>\n",
       "      <td>1.0</td>\n",
       "      <td>18/1/2022</td>\n",
       "      <td>SI</td>\n",
       "      <td>1258.0</td>\n",
       "      <td>10174.0</td>\n",
       "    </tr>\n",
       "    <tr>\n",
       "      <th>2837</th>\n",
       "      <td>369117</td>\n",
       "      <td>1994 SRL</td>\n",
       "      <td>36911700009118.0</td>\n",
       "      <td>1.0</td>\n",
       "      <td>1.0</td>\n",
       "      <td>1/2/2022</td>\n",
       "      <td>1.0</td>\n",
       "      <td>1.0</td>\n",
       "      <td>1/2/2022</td>\n",
       "      <td>NO</td>\n",
       "      <td>614.0</td>\n",
       "      <td>09118.0</td>\n",
       "    </tr>\n",
       "    <tr>\n",
       "      <th>6583</th>\n",
       "      <td>369846</td>\n",
       "      <td>TOTAL CENTER S.R.L.</td>\n",
       "      <td>36984600006988.0</td>\n",
       "      <td>1.0</td>\n",
       "      <td>1.0</td>\n",
       "      <td>18/1/2022</td>\n",
       "      <td>1.0</td>\n",
       "      <td>1.0</td>\n",
       "      <td>28/1/2022</td>\n",
       "      <td>NO</td>\n",
       "      <td>853.0</td>\n",
       "      <td>06988.0</td>\n",
       "    </tr>\n",
       "  </tbody>\n",
       "</table>\n",
       "</div>"
      ],
      "text/plain": [
       "     Código Distribuidor         Distribuidor               POC  Clientes  \\\n",
       "3215              369117             1994 SRL  36911700010174.0       1.0   \n",
       "2837              369117             1994 SRL  36911700009118.0       1.0   \n",
       "6583              369846  TOTAL CENTER S.R.L.  36984600006988.0       1.0   \n",
       "\n",
       "      Registrado Fecha registro  Adherible  Adherido Fecha adhesion CanjeL3M  \\\n",
       "3215         1.0      18/1/2022        1.0       1.0      18/1/2022       SI   \n",
       "2837         1.0       1/2/2022        1.0       1.0       1/2/2022       NO   \n",
       "6583         1.0      18/1/2022        1.0       1.0      28/1/2022       NO   \n",
       "\n",
       "      Puntos Disponibles COD_CLIENTE  \n",
       "3215              1258.0     10174.0  \n",
       "2837               614.0     09118.0  \n",
       "6583               853.0     06988.0  "
      ]
     },
     "execution_count": 160,
     "metadata": {},
     "output_type": "execute_result"
    }
   ],
   "source": [
    "data1 = pd.read_csv('z://PLANEAMIENTO/02-VENTAS/30-BEES/Cartera Registros.csv', encoding='UTF-8')\n",
    "df = pd.DataFrame(data1)\n",
    "# df.loc[[2134]]\n",
    "# df.sample(3)"
   ]
  },
  {
   "cell_type": "markdown",
   "metadata": {},
   "source": [
    "**TRANSFORMAR LOS DATOS PARA PODER CARGARLOS A LA BASE**"
   ]
  },
  {
   "cell_type": "code",
   "execution_count": 148,
   "metadata": {},
   "outputs": [],
   "source": [
    "df['POC'] = df['POC'].astype(str)\n",
    "# df['Fecha adhesion'] = df['Fecha adhesion'].convert_dtypes(int)\n",
    "df['Fecha adhesion'] = pd.to_datetime(df['Fecha adhesion'],  format='%d/%m/%Y', errors='coerce')\n",
    "df['Fecha registro'] = pd.to_datetime(df['Fecha registro'], format='%d/%m/%Y', errors='coerce', )\n",
    "# df['Fecha adhesion'] = df['Fecha adhesion'].dt.strftime('%m/%d/%Y')"
   ]
  },
  {
   "cell_type": "code",
   "execution_count": 149,
   "metadata": {},
   "outputs": [
    {
     "data": {
      "text/html": [
       "<div>\n",
       "<style scoped>\n",
       "    .dataframe tbody tr th:only-of-type {\n",
       "        vertical-align: middle;\n",
       "    }\n",
       "\n",
       "    .dataframe tbody tr th {\n",
       "        vertical-align: top;\n",
       "    }\n",
       "\n",
       "    .dataframe thead th {\n",
       "        text-align: right;\n",
       "    }\n",
       "</style>\n",
       "<table border=\"1\" class=\"dataframe\">\n",
       "  <thead>\n",
       "    <tr style=\"text-align: right;\">\n",
       "      <th></th>\n",
       "      <th>COD_DISTRI</th>\n",
       "      <th>COD_CLIENTE</th>\n",
       "      <th>Registrado</th>\n",
       "      <th>Fecha registro</th>\n",
       "      <th>Adherible</th>\n",
       "      <th>Adherido</th>\n",
       "      <th>Fecha adhesion</th>\n",
       "      <th>CanjeL3M</th>\n",
       "      <th>Puntos Disponibles</th>\n",
       "    </tr>\n",
       "  </thead>\n",
       "  <tbody>\n",
       "    <tr>\n",
       "      <th>2418</th>\n",
       "      <td>369117</td>\n",
       "      <td>7036</td>\n",
       "      <td>1</td>\n",
       "      <td>2022-02-02</td>\n",
       "      <td>1</td>\n",
       "      <td>1</td>\n",
       "      <td>2022-02-02</td>\n",
       "      <td>SI</td>\n",
       "      <td>801.0</td>\n",
       "    </tr>\n",
       "    <tr>\n",
       "      <th>3555</th>\n",
       "      <td>369117</td>\n",
       "      <td>11040</td>\n",
       "      <td>1</td>\n",
       "      <td>2021-12-22</td>\n",
       "      <td>1</td>\n",
       "      <td>1</td>\n",
       "      <td>2022-03-23</td>\n",
       "      <td>NO</td>\n",
       "      <td>1298.0</td>\n",
       "    </tr>\n",
       "    <tr>\n",
       "      <th>5378</th>\n",
       "      <td>369846</td>\n",
       "      <td>3191</td>\n",
       "      <td>1</td>\n",
       "      <td>2021-11-01</td>\n",
       "      <td>1</td>\n",
       "      <td>1</td>\n",
       "      <td>2021-11-01</td>\n",
       "      <td>SI</td>\n",
       "      <td>4698.0</td>\n",
       "    </tr>\n",
       "  </tbody>\n",
       "</table>\n",
       "</div>"
      ],
      "text/plain": [
       "     COD_DISTRI  COD_CLIENTE  Registrado Fecha registro  Adherible  Adherido  \\\n",
       "2418     369117         7036           1     2022-02-02          1         1   \n",
       "3555     369117        11040           1     2021-12-22          1         1   \n",
       "5378     369846         3191           1     2021-11-01          1         1   \n",
       "\n",
       "     Fecha adhesion CanjeL3M  Puntos Disponibles  \n",
       "2418     2022-02-02       SI               801.0  \n",
       "3555     2022-03-23       NO              1298.0  \n",
       "5378     2021-11-01       SI              4698.0  "
      ]
     },
     "execution_count": 149,
     "metadata": {},
     "output_type": "execute_result"
    }
   ],
   "source": [
    "# df['COD_CLIENTE'] = df.POC.str[-5:]\n",
    "df['COD_CLIENTE'] = df.POC.str.extract('(0{2,}\\d+)')\n",
    "df.rename({'Código Distribuidor':'COD_DISTRI'}, axis=1, inplace=True)\n",
    "# df['COD_DISTRI'] = df.POC.str.extract('(\\d{6,6}(?:\\.\\d+)?)')\n",
    "df[['COD_CLIENTE','Registrado', 'Adherible', 'Adherido']] = df[['COD_CLIENTE','Registrado', 'Adherible', 'Adherido']].astype('Int64')\n",
    "try:\n",
    "    df.drop(columns=['POC', 'Distribuidor', 'Clientes'], inplace=True)\n",
    "except:\n",
    "    pass\n",
    "df = df[['COD_DISTRI', 'COD_CLIENTE', 'Registrado', 'Fecha registro', 'Adherible', 'Adherido', 'Fecha adhesion', 'CanjeL3M', 'Puntos Disponibles']]\n",
    "df.sample(3)"
   ]
  },
  {
   "cell_type": "code",
   "execution_count": 153,
   "metadata": {},
   "outputs": [
    {
     "name": "stdout",
     "output_type": "stream",
     "text": [
      "No engine for filetype: 'xlsb'\n"
     ]
    }
   ],
   "source": [
    "\n",
    "try:\n",
    "    df.to_excel('z://PLANEAMIENTO/02-VENTAS/30-BEES/Cartera Registros.xlsx')\n",
    "    df.to_sql('BEES_Cartera_Registros', con=enginex, if_exists='replace', index=False)\n",
    "    print('Carga Exitosa')\n",
    "except Exception as ex:\n",
    "    print(ex)\n",
    "    "
   ]
  }
 ],
 "metadata": {
  "kernelspec": {
   "display_name": "Python 3.10.4 64-bit (system)",
   "language": "python",
   "name": "python3"
  },
  "language_info": {
   "codemirror_mode": {
    "name": "ipython",
    "version": 3
   },
   "file_extension": ".py",
   "mimetype": "text/x-python",
   "name": "python",
   "nbconvert_exporter": "python",
   "pygments_lexer": "ipython3",
   "version": "3.10.4"
  },
  "orig_nbformat": 4,
  "vscode": {
   "interpreter": {
    "hash": "897a6d9ead6ccb62961cfc597fe4d29a42b1d13c4cae0e68e38a104014edbaf7"
   }
  }
 },
 "nbformat": 4,
 "nbformat_minor": 2
}
