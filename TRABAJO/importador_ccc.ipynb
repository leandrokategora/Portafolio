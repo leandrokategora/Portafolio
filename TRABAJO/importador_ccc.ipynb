{
 "cells": [
  {
   "cell_type": "code",
   "execution_count": 31,
   "metadata": {},
   "outputs": [],
   "source": [
    "import pandas as pd\n",
    "import numpy as np\n",
    "from conct_db import enginex\n",
    "from os import getcwd\n",
    "import pyodbc\n",
    "from sqlalchemy.types import INTEGER\n",
    "from sqlalchemy.types import DATE\n"
   ]
  },
  {
   "cell_type": "code",
   "execution_count": 3,
   "metadata": {},
   "outputs": [
    {
     "name": "stdout",
     "output_type": "stream",
     "text": [
      "MS-Access Drivers : ['Microsoft Access Driver (*.mdb, *.accdb)', 'Microsoft Access Text Driver (*.txt, *.csv)', 'Microsoft Access dBASE Driver (*.dbf, *.ndx, *.mdx)']\n"
     ]
    }
   ],
   "source": [
    "msa_drivers = [x for x in pyodbc.drivers() if 'ACCESS' in x.upper()]\n",
    "print(f'MS-Access Drivers : {msa_drivers}')"
   ]
  },
  {
   "cell_type": "code",
   "execution_count": 4,
   "metadata": {},
   "outputs": [
    {
     "name": "stdout",
     "output_type": "stream",
     "text": [
      "Connected To Database\n"
     ]
    }
   ],
   "source": [
    "try:\n",
    "    con_string = r'DRIVER={Microsoft Access Driver (*.mdb, *.accdb)};DBQ=./BASE DE CCC.accdb;'\n",
    "    conn = pyodbc.connect(con_string)\n",
    "    print(\"Connected To Database\")\n",
    " \n",
    " \n",
    "except pyodbc.Error as e:\n",
    "    print(\"Error in Connection\", e)\n"
   ]
  },
  {
   "cell_type": "code",
   "execution_count": 5,
   "metadata": {},
   "outputs": [],
   "source": [
    "\n",
    "con_string = r'DRIVER={Microsoft Access Driver (*.mdb, *.accdb)};' \\\n",
    "                r'DBQ=./BASE DE CCC.accdb;'\n",
    "\n",
    "conn2 = pyodbc.connect(con_string)                "
   ]
  },
  {
   "cell_type": "code",
   "execution_count": 6,
   "metadata": {},
   "outputs": [
    {
     "name": "stderr",
     "output_type": "stream",
     "text": [
      "c:\\Users\\Usuario\\Portafolio\\venv\\lib\\site-packages\\pandas\\io\\sql.py:761: UserWarning: pandas only support SQLAlchemy connectable(engine/connection) ordatabase string URI or sqlite3 DBAPI2 connectionother DBAPI2 objects are not tested, please consider using SQLAlchemy\n",
      "  warnings.warn(\n"
     ]
    }
   ],
   "source": [
    "df = pd.read_sql(\"\"\"SELECT * FROM `BASE CCC`\"\"\", con=conn2)\n"
   ]
  },
  {
   "cell_type": "code",
   "execution_count": 22,
   "metadata": {},
   "outputs": [
    {
     "data": {
      "text/html": [
       "<div>\n",
       "<style scoped>\n",
       "    .dataframe tbody tr th:only-of-type {\n",
       "        vertical-align: middle;\n",
       "    }\n",
       "\n",
       "    .dataframe tbody tr th {\n",
       "        vertical-align: top;\n",
       "    }\n",
       "\n",
       "    .dataframe thead th {\n",
       "        text-align: right;\n",
       "    }\n",
       "</style>\n",
       "<table border=\"1\" class=\"dataframe\">\n",
       "  <thead>\n",
       "    <tr style=\"text-align: right;\">\n",
       "      <th></th>\n",
       "      <th>COD DISTRI</th>\n",
       "      <th>COD PDV</th>\n",
       "      <th>ARTICULO</th>\n",
       "      <th>PERIODO</th>\n",
       "      <th>CCC</th>\n",
       "    </tr>\n",
       "  </thead>\n",
       "  <tbody>\n",
       "    <tr>\n",
       "      <th>0</th>\n",
       "      <td>False</td>\n",
       "      <td>False</td>\n",
       "      <td>False</td>\n",
       "      <td>False</td>\n",
       "      <td>False</td>\n",
       "    </tr>\n",
       "    <tr>\n",
       "      <th>1</th>\n",
       "      <td>False</td>\n",
       "      <td>False</td>\n",
       "      <td>False</td>\n",
       "      <td>False</td>\n",
       "      <td>False</td>\n",
       "    </tr>\n",
       "    <tr>\n",
       "      <th>2</th>\n",
       "      <td>False</td>\n",
       "      <td>False</td>\n",
       "      <td>False</td>\n",
       "      <td>False</td>\n",
       "      <td>False</td>\n",
       "    </tr>\n",
       "    <tr>\n",
       "      <th>3</th>\n",
       "      <td>False</td>\n",
       "      <td>False</td>\n",
       "      <td>False</td>\n",
       "      <td>False</td>\n",
       "      <td>False</td>\n",
       "    </tr>\n",
       "    <tr>\n",
       "      <th>4</th>\n",
       "      <td>False</td>\n",
       "      <td>False</td>\n",
       "      <td>False</td>\n",
       "      <td>False</td>\n",
       "      <td>False</td>\n",
       "    </tr>\n",
       "    <tr>\n",
       "      <th>...</th>\n",
       "      <td>...</td>\n",
       "      <td>...</td>\n",
       "      <td>...</td>\n",
       "      <td>...</td>\n",
       "      <td>...</td>\n",
       "    </tr>\n",
       "    <tr>\n",
       "      <th>5748452</th>\n",
       "      <td>False</td>\n",
       "      <td>False</td>\n",
       "      <td>False</td>\n",
       "      <td>False</td>\n",
       "      <td>False</td>\n",
       "    </tr>\n",
       "    <tr>\n",
       "      <th>5748453</th>\n",
       "      <td>False</td>\n",
       "      <td>False</td>\n",
       "      <td>False</td>\n",
       "      <td>False</td>\n",
       "      <td>False</td>\n",
       "    </tr>\n",
       "    <tr>\n",
       "      <th>5748454</th>\n",
       "      <td>False</td>\n",
       "      <td>False</td>\n",
       "      <td>False</td>\n",
       "      <td>False</td>\n",
       "      <td>False</td>\n",
       "    </tr>\n",
       "    <tr>\n",
       "      <th>5748455</th>\n",
       "      <td>False</td>\n",
       "      <td>False</td>\n",
       "      <td>False</td>\n",
       "      <td>False</td>\n",
       "      <td>False</td>\n",
       "    </tr>\n",
       "    <tr>\n",
       "      <th>5748456</th>\n",
       "      <td>False</td>\n",
       "      <td>False</td>\n",
       "      <td>False</td>\n",
       "      <td>False</td>\n",
       "      <td>False</td>\n",
       "    </tr>\n",
       "  </tbody>\n",
       "</table>\n",
       "<p>5748457 rows × 5 columns</p>\n",
       "</div>"
      ],
      "text/plain": [
       "         COD DISTRI  COD PDV  ARTICULO  PERIODO    CCC\n",
       "0             False    False     False    False  False\n",
       "1             False    False     False    False  False\n",
       "2             False    False     False    False  False\n",
       "3             False    False     False    False  False\n",
       "4             False    False     False    False  False\n",
       "...             ...      ...       ...      ...    ...\n",
       "5748452       False    False     False    False  False\n",
       "5748453       False    False     False    False  False\n",
       "5748454       False    False     False    False  False\n",
       "5748455       False    False     False    False  False\n",
       "5748456       False    False     False    False  False\n",
       "\n",
       "[5748457 rows x 5 columns]"
      ]
     },
     "execution_count": 22,
     "metadata": {},
     "output_type": "execute_result"
    }
   ],
   "source": [
    "df.isna()"
   ]
  },
  {
   "cell_type": "code",
   "execution_count": 48,
   "metadata": {},
   "outputs": [
    {
     "ename": "Error",
     "evalue": "('HY000', \"[HY000] [Microsoft][Controlador ODBC Microsoft Access]Error general No se puede abrir la clave 'Temporary (volatile) Ace DSN for process 0x38c0 Thread 0x9780 DBC 0x8c7d00b8                                                              Jet' del Registro. (63) (SQLDriverConnect); [HY000] [Microsoft][Controlador ODBC Microsoft Access]Error general No se puede abrir la clave 'Temporary (volatile) Ace DSN for process 0x38c0 Thread 0x9780 DBC 0x8c7d00b8                                                              Jet' del Registro. (63); [HY000] [Microsoft][Controlador ODBC Microsoft Access] No es un nombre de archivo válido. (-1044); [HY000] [Microsoft][Controlador ODBC Microsoft Access]Error general No se puede abrir la clave 'Temporary (volatile) Ace DSN for process 0x38c0 Thread 0x9780 DBC 0x8c7d00b8                                                              Jet' del Registro. (63); [HY000] [Microsoft][Controlador ODBC Microsoft Access]Error general No se puede abrir la clave 'Temporary (volatile) Ace DSN for process 0x38c0 Thread 0x9780 DBC 0x8c7d00b8                                                              Jet' del Registro. (63); [HY000] [Microsoft][Controlador ODBC Microsoft Access] No es un nombre de archivo válido. (-1044)\")",
     "output_type": "error",
     "traceback": [
      "\u001b[1;31m---------------------------------------------------------------------------\u001b[0m",
      "\u001b[1;31mError\u001b[0m                                     Traceback (most recent call last)",
      "\u001b[1;32mc:\\Users\\Usuario\\Portafolio\\TRABAJO\\importador_ccc.ipynb Celda 2\u001b[0m in \u001b[0;36m<cell line: 7>\u001b[1;34m()\u001b[0m\n\u001b[0;32m      <a href='vscode-notebook-cell:/c%3A/Users/Usuario/Portafolio/TRABAJO/importador_ccc.ipynb#ch0000001?line=4'>5</a>\u001b[0m DB_PATH \u001b[39m=\u001b[39m getcwd() \u001b[39m+\u001b[39m \u001b[39m\"\u001b[39m\u001b[39m/BASE CCC.accdb\u001b[39m\u001b[39m\"\u001b[39m\n\u001b[0;32m      <a href='vscode-notebook-cell:/c%3A/Users/Usuario/Portafolio/TRABAJO/importador_ccc.ipynb#ch0000001?line=5'>6</a>\u001b[0m \u001b[39m# Establecer la conexión.\u001b[39;00m\n\u001b[1;32m----> <a href='vscode-notebook-cell:/c%3A/Users/Usuario/Portafolio/TRABAJO/importador_ccc.ipynb#ch0000001?line=6'>7</a>\u001b[0m conn \u001b[39m=\u001b[39m pyodbc\u001b[39m.\u001b[39;49mconnect(\u001b[39m\"\u001b[39;49m\u001b[39mDriver=\u001b[39;49m\u001b[39m{\u001b[39;49m\u001b[39m%s\u001b[39;49;00m\u001b[39m};DBQ=\u001b[39;49m\u001b[39m{}\u001b[39;49;00m\u001b[39m;\u001b[39;49m\u001b[39m\"\u001b[39;49m \u001b[39m%\u001b[39;49m (DRIVER_NAME)\u001b[39m.\u001b[39;49mformat(DB_PATH))\n",
      "\u001b[1;31mError\u001b[0m: ('HY000', \"[HY000] [Microsoft][Controlador ODBC Microsoft Access]Error general No se puede abrir la clave 'Temporary (volatile) Ace DSN for process 0x38c0 Thread 0x9780 DBC 0x8c7d00b8                                                              Jet' del Registro. (63) (SQLDriverConnect); [HY000] [Microsoft][Controlador ODBC Microsoft Access]Error general No se puede abrir la clave 'Temporary (volatile) Ace DSN for process 0x38c0 Thread 0x9780 DBC 0x8c7d00b8                                                              Jet' del Registro. (63); [HY000] [Microsoft][Controlador ODBC Microsoft Access] No es un nombre de archivo válido. (-1044); [HY000] [Microsoft][Controlador ODBC Microsoft Access]Error general No se puede abrir la clave 'Temporary (volatile) Ace DSN for process 0x38c0 Thread 0x9780 DBC 0x8c7d00b8                                                              Jet' del Registro. (63); [HY000] [Microsoft][Controlador ODBC Microsoft Access]Error general No se puede abrir la clave 'Temporary (volatile) Ace DSN for process 0x38c0 Thread 0x9780 DBC 0x8c7d00b8                                                              Jet' del Registro. (63); [HY000] [Microsoft][Controlador ODBC Microsoft Access] No es un nombre de archivo válido. (-1044)\")"
     ]
    }
   ],
   "source": [
    "# import  sys\n",
    "# !{sys.executable} -m pip install pyodbc\n",
    "DRIVER_NAME = \"Microsoft Access Driver (*.mdb, *.accdb)\"\n",
    "# Ruta completa del archivo.\n",
    "DB_PATH = getcwd() + \"/BASE CCC.accdb\"\n",
    "# Establecer la conexión.\n",
    "conn = pyodbc.connect(\"Driver={%s};DBQ={};\" % (DRIVER_NAME).format(DB_PATH))"
   ]
  },
  {
   "cell_type": "code",
   "execution_count": 51,
   "metadata": {},
   "outputs": [
    {
     "ename": "InterfaceError",
     "evalue": "('IM002', '[IM002] [Microsoft][Administrador de controladores ODBC] No se encuentra el nombre del origen de datos y no se especificó ningún controlador predeterminado (0) (SQLDriverConnect)')",
     "output_type": "error",
     "traceback": [
      "\u001b[1;31m---------------------------------------------------------------------------\u001b[0m",
      "\u001b[1;31mInterfaceError\u001b[0m                            Traceback (most recent call last)",
      "\u001b[1;32mc:\\Users\\Usuario\\Portafolio\\TRABAJO\\importador_ccc.ipynb Celda 4\u001b[0m in \u001b[0;36m<cell line: 1>\u001b[1;34m()\u001b[0m\n\u001b[1;32m----> <a href='vscode-notebook-cell:/c%3A/Users/Usuario/Portafolio/TRABAJO/importador_ccc.ipynb#ch0000002?line=0'>1</a>\u001b[0m conn \u001b[39m=\u001b[39m pyodbc\u001b[39m.\u001b[39;49mconnect(\u001b[39m\"\u001b[39;49m\u001b[39mDriver=\u001b[39;49m\u001b[39m{\u001b[39;49m\u001b[39m'\u001b[39;49m\u001b[39mMicrosoft Access Driver (*.mdb, *.accdb)\u001b[39;49m\u001b[39m'\u001b[39;49m\u001b[39m};DBQ=./BASE DE CCC1.accdb\u001b[39;49m\u001b[39m\"\u001b[39;49m)\n",
      "\u001b[1;31mInterfaceError\u001b[0m: ('IM002', '[IM002] [Microsoft][Administrador de controladores ODBC] No se encuentra el nombre del origen de datos y no se especificó ningún controlador predeterminado (0) (SQLDriverConnect)')"
     ]
    }
   ],
   "source": [
    "conn = pyodbc.connect(\"Driver={'Microsoft Access Driver (*.mdb, *.accdb)'};DBQ=./BASE DE CCC1.accdb\")"
   ]
  },
  {
   "cell_type": "code",
   "execution_count": 53,
   "metadata": {},
   "outputs": [
    {
     "ename": "ProgrammingError",
     "evalue": "('42000', '[42000] [Microsoft][Controlador ODBC Microsoft Access] Error de sintaxis en la cláusula FROM. (-3506) (SQLExecDirectW)')",
     "output_type": "error",
     "traceback": [
      "\u001b[1;31m---------------------------------------------------------------------------\u001b[0m",
      "\u001b[1;31mProgrammingError\u001b[0m                          Traceback (most recent call last)",
      "\u001b[1;32mc:\\Users\\Usuario\\Portafolio\\TRABAJO\\importador_ccc.ipynb Celda 6\u001b[0m in \u001b[0;36m<cell line: 2>\u001b[1;34m()\u001b[0m\n\u001b[0;32m      <a href='vscode-notebook-cell:/c%3A/Users/Usuario/Portafolio/TRABAJO/importador_ccc.ipynb#ch0000005?line=0'>1</a>\u001b[0m cursor \u001b[39m=\u001b[39m conn\u001b[39m.\u001b[39mcursor()\n\u001b[1;32m----> <a href='vscode-notebook-cell:/c%3A/Users/Usuario/Portafolio/TRABAJO/importador_ccc.ipynb#ch0000005?line=1'>2</a>\u001b[0m cursor\u001b[39m.\u001b[39;49mexecute(\u001b[39m'\u001b[39;49m\u001b[39mselect * from \u001b[39;49m\u001b[39m'\u001b[39;49m)\n",
      "\u001b[1;31mProgrammingError\u001b[0m: ('42000', '[42000] [Microsoft][Controlador ODBC Microsoft Access] Error de sintaxis en la cláusula FROM. (-3506) (SQLExecDirectW)')"
     ]
    }
   ],
   "source": [
    "cursor = conn.cursor()\n",
    "cursor.execute('select * from ')"
   ]
  },
  {
   "cell_type": "code",
   "execution_count": 43,
   "metadata": {},
   "outputs": [
    {
     "ename": "XMLSyntaxError",
     "evalue": "xmlSAX2StartElementNs, line 21667538, column 18 (<string>, line 21667538)",
     "output_type": "error",
     "traceback": [
      "Traceback \u001b[1;36m(most recent call last)\u001b[0m:\n",
      "  File \u001b[0;32mc:\\Users\\Usuario\\Portafolio\\venv\\lib\\site-packages\\IPython\\core\\interactiveshell.py:3397\u001b[0m in \u001b[0;35mrun_code\u001b[0m\n    exec(code_obj, self.user_global_ns, self.user_ns)\n",
      "  Input \u001b[0;32mIn [43]\u001b[0m in \u001b[0;35m<cell line: 1>\u001b[0m\n    df = pd.read_xml('./BASE CCC.xml')\n",
      "  File \u001b[0;32mc:\\Users\\Usuario\\Portafolio\\venv\\lib\\site-packages\\pandas\\util\\_decorators.py:311\u001b[0m in \u001b[0;35mwrapper\u001b[0m\n    return func(*args, **kwargs)\n",
      "  File \u001b[0;32mc:\\Users\\Usuario\\Portafolio\\venv\\lib\\site-packages\\pandas\\io\\xml.py:938\u001b[0m in \u001b[0;35mread_xml\u001b[0m\n    return _parse(\n",
      "  File \u001b[0;32mc:\\Users\\Usuario\\Portafolio\\venv\\lib\\site-packages\\pandas\\io\\xml.py:733\u001b[0m in \u001b[0;35m_parse\u001b[0m\n    data_dicts = p.parse_data()\n",
      "  File \u001b[0;32mc:\\Users\\Usuario\\Portafolio\\venv\\lib\\site-packages\\pandas\\io\\xml.py:389\u001b[0m in \u001b[0;35mparse_data\u001b[0m\n    self.xml_doc = XML(self._parse_doc(self.path_or_buffer))\n",
      "  File \u001b[0;32mc:\\Users\\Usuario\\Portafolio\\venv\\lib\\site-packages\\pandas\\io\\xml.py:554\u001b[0m in \u001b[0;35m_parse_doc\u001b[0m\n    doc = fromstring(\n",
      "  File \u001b[0;32msrc\\lxml\\etree.pyx:3254\u001b[0m in \u001b[0;35mlxml.etree.fromstring\u001b[0m\n",
      "  File \u001b[0;32msrc\\lxml\\parser.pxi:1913\u001b[0m in \u001b[0;35mlxml.etree._parseMemoryDocument\u001b[0m\n",
      "  File \u001b[0;32msrc\\lxml\\parser.pxi:1800\u001b[0m in \u001b[0;35mlxml.etree._parseDoc\u001b[0m\n",
      "  File \u001b[0;32msrc\\lxml\\parser.pxi:1141\u001b[0m in \u001b[0;35mlxml.etree._BaseParser._parseDoc\u001b[0m\n",
      "  File \u001b[0;32msrc\\lxml\\parser.pxi:615\u001b[0m in \u001b[0;35mlxml.etree._ParserContext._handleParseResultDoc\u001b[0m\n",
      "  File \u001b[0;32msrc\\lxml\\parser.pxi:725\u001b[0m in \u001b[0;35mlxml.etree._handleParseResult\u001b[0m\n",
      "\u001b[1;36m  File \u001b[1;32msrc\\lxml\\parser.pxi:654\u001b[1;36m in \u001b[1;35mlxml.etree._raiseParseError\u001b[1;36m\u001b[0m\n",
      "\u001b[1;36m  File \u001b[1;32m<string>:21667538\u001b[1;36m\u001b[0m\n\u001b[1;31mXMLSyntaxError\u001b[0m\u001b[1;31m:\u001b[0m xmlSAX2StartElementNs, line 21667538, column 18\n"
     ]
    }
   ],
   "source": [
    "df = pd.read_xml('./BASE CCC.xml')\n",
    "df"
   ]
  },
  {
   "cell_type": "code",
   "execution_count": 30,
   "metadata": {},
   "outputs": [
    {
     "data": {
      "text/html": [
       "<div>\n",
       "<style scoped>\n",
       "    .dataframe tbody tr th:only-of-type {\n",
       "        vertical-align: middle;\n",
       "    }\n",
       "\n",
       "    .dataframe tbody tr th {\n",
       "        vertical-align: top;\n",
       "    }\n",
       "\n",
       "    .dataframe thead th {\n",
       "        text-align: right;\n",
       "    }\n",
       "</style>\n",
       "<table border=\"1\" class=\"dataframe\">\n",
       "  <thead>\n",
       "    <tr style=\"text-align: right;\">\n",
       "      <th></th>\n",
       "      <th>COD DISTRI</th>\n",
       "      <th>COD PDV</th>\n",
       "      <th>ARTICULO</th>\n",
       "      <th>PERIODO</th>\n",
       "      <th>CCC</th>\n",
       "      <th>COD _DISTRI</th>\n",
       "    </tr>\n",
       "  </thead>\n",
       "  <tbody>\n",
       "    <tr>\n",
       "      <th>4477841</th>\n",
       "      <td>369117.0</td>\n",
       "      <td>7584</td>\n",
       "      <td>7478</td>\n",
       "      <td>2021-09-01</td>\n",
       "      <td>1</td>\n",
       "      <td>369117</td>\n",
       "    </tr>\n",
       "    <tr>\n",
       "      <th>3320743</th>\n",
       "      <td>369846.0</td>\n",
       "      <td>5280</td>\n",
       "      <td>7038</td>\n",
       "      <td>2020-09-01</td>\n",
       "      <td>1</td>\n",
       "      <td>369846</td>\n",
       "    </tr>\n",
       "    <tr>\n",
       "      <th>5577434</th>\n",
       "      <td>445625.0</td>\n",
       "      <td>13620</td>\n",
       "      <td>24596</td>\n",
       "      <td>2022-06-01</td>\n",
       "      <td>1</td>\n",
       "      <td>445625</td>\n",
       "    </tr>\n",
       "  </tbody>\n",
       "</table>\n",
       "</div>"
      ],
      "text/plain": [
       "         COD DISTRI  COD PDV  ARTICULO    PERIODO  CCC  COD _DISTRI\n",
       "4477841    369117.0     7584      7478 2021-09-01    1       369117\n",
       "3320743    369846.0     5280      7038 2020-09-01    1       369846\n",
       "5577434    445625.0    13620     24596 2022-06-01    1       445625"
      ]
     },
     "execution_count": 30,
     "metadata": {},
     "output_type": "execute_result"
    }
   ],
   "source": [
    "df[['COD _DISTRI', 'COD PDV', 'ARTICULO', 'CCC']] = df[['COD DISTRI','COD PDV', 'ARTICULO','CCC']].astype(float)\n",
    "df[['COD _DISTRI', 'COD PDV', 'ARTICULO', 'CCC']] = df[['COD DISTRI','COD PDV', 'ARTICULO','CCC']].astype('Int64')\n",
    "df.sample(3)"
   ]
  },
  {
   "cell_type": "code",
   "execution_count": 33,
   "metadata": {},
   "outputs": [
    {
     "data": {
      "text/plain": [
       "-1"
      ]
     },
     "execution_count": 33,
     "metadata": {},
     "output_type": "execute_result"
    }
   ],
   "source": [
    "df.to_sql('BASE_CCC', if_exists='append', con=enginex, index=False, dtype={'COD DISTRI':INTEGER, 'COD PDV':INTEGER, 'ARTICULO':INTEGER,\t'PERIODO':DATE,\t'CCC':INTEGER})"
   ]
  }
 ],
 "metadata": {
  "kernelspec": {
   "display_name": "Python 3.10.4 64-bit (system)",
   "language": "python",
   "name": "python3"
  },
  "language_info": {
   "codemirror_mode": {
    "name": "ipython",
    "version": 3
   },
   "file_extension": ".py",
   "mimetype": "text/x-python",
   "name": "python",
   "nbconvert_exporter": "python",
   "pygments_lexer": "ipython3",
   "version": "3.10.4"
  },
  "orig_nbformat": 4,
  "vscode": {
   "interpreter": {
    "hash": "897a6d9ead6ccb62961cfc597fe4d29a42b1d13c4cae0e68e38a104014edbaf7"
   }
  }
 },
 "nbformat": 4,
 "nbformat_minor": 2
}
