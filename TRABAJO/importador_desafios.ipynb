{
 "cells": [
  {
   "cell_type": "code",
   "execution_count": 22,
   "metadata": {},
   "outputs": [],
   "source": [
    "import pandas as pd\n",
    "import numpy as np\n",
    "from conct_db import enginex\n",
    "import calendar, datetime\n",
    "from datetime import date, datetime\n",
    "from sqlalchemy.types import DATE"
   ]
  },
  {
   "cell_type": "code",
   "execution_count": 23,
   "metadata": {},
   "outputs": [
    {
     "data": {
      "text/plain": [
       "'October'"
      ]
     },
     "execution_count": 23,
     "metadata": {},
     "output_type": "execute_result"
    }
   ],
   "source": [
    "periodo = datetime.now()\n",
    "mes = periodo.month\n",
    "# \n",
    "periodo_real = date(periodo.year, periodo.month,1)\n",
    "diccionario = {'Periodo':[periodo_real]}\n",
    "df_periodo = pd.DataFrame(diccionario)\n",
    "df_periodo['mes'] = pd.DatetimeIndex(df_periodo['Periodo']).month\n",
    "df_periodo['Month'] = pd.to_datetime(df_periodo['mes'], format='%m').dt.month_name()\n",
    "nombre_mes = str(df_periodo['Month'].values[0])\n",
    "periodo_query = str(df_periodo.Periodo.values[0])[:10]\n",
    "periodo_query\n",
    "nombre_mes\n"
   ]
  },
  {
   "cell_type": "code",
   "execution_count": 24,
   "metadata": {},
   "outputs": [],
   "source": [
    "df1 = pd.read_excel('y:/19-POWER BI/01-Total Bebidas/TACO GQ/Desafios_{}.xlsx'.format(nombre_mes), skipfooter=3)\n",
    "df1 = df1[(df1['Distribuidor'] != 'Total') & (df1['ACCOUNT_ID'] != 'Total')]\n",
    "df1['Periodo'] = pd.to_datetime(date(periodo.year,mes,1))\n",
    "df1['COD_CLIENTE'] = df1.ACCOUNT_ID.str.extract('(0{2,}\\d+)')\n",
    "df1['COD_CLIENTE'] = df1['COD_CLIENTE'].astype('Int64')\n",
    "df1.rename({'Código Distribuidor':'COD_DISTRI'}, axis=1, inplace=True)\n",
    "df1.drop(['Cartera','ACCOUNT_ID', 'Distribuidor'], axis=1, inplace=True)\n",
    "df1 = df1[['Periodo','COD_DISTRI', 'COD_CLIENTE', 'Visualizaron', 'Aceptaron', '%Aceptaron', 'Completaron', '%Completaron']]"
   ]
  },
  {
   "cell_type": "markdown",
   "metadata": {},
   "source": [
    "El siguiente codigo extrae los ultimos numeros despues del agregado de ceros intermedio. falta pulirlo  \n",
    "    \n",
    "    df1['COD_CLIENTE'] = df1.ACCOUNT_ID.str.extract('(0{2,}\\d+)')\n",
    "    \n",
    "    df1['COD_CLIENTE'] = df1.COD_CLIENTE.str.extract('([^0{,}]\\d+(?:.\\d+)?)') \n",
    "\n",
    "Para extraer numeros de un texto/numero utilizar la expresion regular \n",
    "    \n",
    "    ('(\\d+(?:\\.\\d+)?)')\n",
    "    \n",
    "\n"
   ]
  },
  {
   "cell_type": "code",
   "execution_count": 25,
   "metadata": {},
   "outputs": [],
   "source": [
    "# df1[pd.isna(df1['Código Distribuidor'])].head"
   ]
  },
  {
   "cell_type": "code",
   "execution_count": 26,
   "metadata": {},
   "outputs": [
    {
     "data": {
      "text/html": [
       "<div>\n",
       "<style scoped>\n",
       "    .dataframe tbody tr th:only-of-type {\n",
       "        vertical-align: middle;\n",
       "    }\n",
       "\n",
       "    .dataframe tbody tr th {\n",
       "        vertical-align: top;\n",
       "    }\n",
       "\n",
       "    .dataframe thead th {\n",
       "        text-align: right;\n",
       "    }\n",
       "</style>\n",
       "<table border=\"1\" class=\"dataframe\">\n",
       "  <thead>\n",
       "    <tr style=\"text-align: right;\">\n",
       "      <th></th>\n",
       "      <th>Periodo</th>\n",
       "      <th>COD_DISTRI</th>\n",
       "      <th>COD_CLIENTE</th>\n",
       "      <th>Visualizaron</th>\n",
       "      <th>Aceptaron</th>\n",
       "      <th>%Aceptaron</th>\n",
       "      <th>Completaron</th>\n",
       "      <th>%Completaron</th>\n",
       "    </tr>\n",
       "  </thead>\n",
       "  <tbody>\n",
       "    <tr>\n",
       "      <th>2196</th>\n",
       "      <td>2022-10-01</td>\n",
       "      <td>369846</td>\n",
       "      <td>1206</td>\n",
       "      <td>0</td>\n",
       "      <td>0</td>\n",
       "      <td>0.0</td>\n",
       "      <td>0</td>\n",
       "      <td>0.0</td>\n",
       "    </tr>\n",
       "    <tr>\n",
       "      <th>3971</th>\n",
       "      <td>2022-10-01</td>\n",
       "      <td>369117</td>\n",
       "      <td>1786</td>\n",
       "      <td>1</td>\n",
       "      <td>1</td>\n",
       "      <td>1.0</td>\n",
       "      <td>1</td>\n",
       "      <td>1.0</td>\n",
       "    </tr>\n",
       "    <tr>\n",
       "      <th>2142</th>\n",
       "      <td>2022-10-01</td>\n",
       "      <td>369846</td>\n",
       "      <td>1018</td>\n",
       "      <td>1</td>\n",
       "      <td>1</td>\n",
       "      <td>1.0</td>\n",
       "      <td>0</td>\n",
       "      <td>0.0</td>\n",
       "    </tr>\n",
       "  </tbody>\n",
       "</table>\n",
       "</div>"
      ],
      "text/plain": [
       "        Periodo  COD_DISTRI  COD_CLIENTE  Visualizaron  Aceptaron  %Aceptaron  \\\n",
       "2196 2022-10-01      369846         1206             0          0         0.0   \n",
       "3971 2022-10-01      369117         1786             1          1         1.0   \n",
       "2142 2022-10-01      369846         1018             1          1         1.0   \n",
       "\n",
       "      Completaron  %Completaron  \n",
       "2196            0           0.0  \n",
       "3971            1           1.0  \n",
       "2142            0           0.0  "
      ]
     },
     "execution_count": 26,
     "metadata": {},
     "output_type": "execute_result"
    }
   ],
   "source": [
    "df1.sample(3)"
   ]
  },
  {
   "cell_type": "code",
   "execution_count": 27,
   "metadata": {},
   "outputs": [
    {
     "name": "stdout",
     "output_type": "stream",
     "text": [
      "DELETE FROM BEES_Desafios\n",
      "    WHERE Periodo = '2022-10-01'\n"
     ]
    }
   ],
   "source": [
    "print(\"\"\"DELETE FROM BEES_Desafios\n",
    "    WHERE Periodo = {}\"\"\".format(\"'\"+periodo_query+\"'\"))"
   ]
  },
  {
   "cell_type": "code",
   "execution_count": 28,
   "metadata": {},
   "outputs": [
    {
     "name": "stdout",
     "output_type": "stream",
     "text": [
      "Carga Exitosa Thursday, 27 of October 2022 a las 08:40:10\n"
     ]
    }
   ],
   "source": [
    "# parameters = urllib.parse.quote_plus(\"DRIVER={SQL Server Native Client 11.0};\"\n",
    "#                                      \"Server=WIN-SERVIDOR-BD\\DWGRUPOTOTAL;\"\n",
    "#                                      \"DATABASE=DW_Central;\"\n",
    "#                                      \"UID=sa;\"\n",
    "#                                      \"PWD=DWpln21\")\n",
    "\n",
    "def run():\n",
    "        # try:\n",
    "        #         engine = sa.create_engine(\"mssql+pyodbc:///?odbc_connect={}\".format(parameters))\n",
    "        #         print(\"Conect succesfull\")\n",
    "        # except Exception:\n",
    "        #         print(\"Errora in DataBase conection\")\n",
    "        try:\n",
    "                df1.to_excel('y:/19-POWER BI/01-Total Bebidas/TACO GQ/Desafios_{}_procesado.xlsx'.format(nombre_mes), index=False)\n",
    "                df1.to_sql('BEES_Desafios', con=enginex, index=False, if_exists='append', dtype={'Periodo': DATE})\n",
    "                print('Carga Exitosa ' + datetime.now().strftime('%A, %d of %B %Y a las %I:%M:%S'))\n",
    "        except Exception:\n",
    "                print(\"Error al cargar los datos\")\n",
    "text=(\"\"\"DELETE FROM BEES_Desafios\n",
    "    WHERE Periodo = {}\"\"\".format(\"'\"+periodo_query+\"'\"))\n",
    "enginex.execute(text)\n",
    "run()\n"
   ]
  }
 ],
 "metadata": {
  "kernelspec": {
   "display_name": "Python 3.10.4 64-bit (system)",
   "language": "python",
   "name": "python3"
  },
  "language_info": {
   "codemirror_mode": {
    "name": "ipython",
    "version": 3
   },
   "file_extension": ".py",
   "mimetype": "text/x-python",
   "name": "python",
   "nbconvert_exporter": "python",
   "pygments_lexer": "ipython3",
   "version": "3.10.4"
  },
  "orig_nbformat": 4,
  "vscode": {
   "interpreter": {
    "hash": "897a6d9ead6ccb62961cfc597fe4d29a42b1d13c4cae0e68e38a104014edbaf7"
   }
  }
 },
 "nbformat": 4,
 "nbformat_minor": 2
}
