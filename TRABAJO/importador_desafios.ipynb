{
 "cells": [
  {
   "cell_type": "code",
   "execution_count": 351,
   "metadata": {},
   "outputs": [],
   "source": [
    "import pandas as pd\n",
    "import numpy as np\n",
    "import urllib\n",
    "import sqlalchemy as sa\n",
    "import calendar, datetime\n",
    "from datetime import date\n",
    "\n",
    "\n"
   ]
  },
  {
   "cell_type": "code",
   "execution_count": 352,
   "metadata": {},
   "outputs": [],
   "source": [
    "periodo = datetime.datetime.now()\n",
    "mes = periodo.month\n"
   ]
  },
  {
   "cell_type": "code",
   "execution_count": null,
   "metadata": {},
   "outputs": [],
   "source": [
    "df1 = pd.read_excel('y:/19-POWER BI/01-Total Bebidas/TACO GQ/Desafios Mayo.xlsb', skipfooter=3)\n",
    "df1 = df1[(df1['Distribuidor'] != 'Total') & (df1['ACCOUNT_ID'] != 'Total')]\n",
    "df1['Periodo'] = pd.to_datetime(date(periodo.year,mes-1,1))\n",
    "df1['COD_CLIENTE'] = df1.ACCOUNT_ID.str.extract('(0{2,}\\d+)')\n",
    "df1['COD_CLIENTE'] = df1['COD_CLIENTE'].astype('Int64')\n",
    "df1.drop(['Cartera','ACCOUNT_ID', 'Distribuidor'], axis=1, inplace=True)"
   ]
  },
  {
   "cell_type": "markdown",
   "metadata": {},
   "source": [
    "El siguiente codigo extrae los ultimos numeros despues del agregado de ceros intermedio. falta pulirlo  \n",
    "    \n",
    "    df1['COD_CLIENTE'] = df1.ACCOUNT_ID.str.extract('(0{2,}\\d+)')\n",
    "    \n",
    "    df1['COD_CLIENTE'] = df1.COD_CLIENTE.str.extract('([^0{,}]\\d+(?:.\\d+)?)') \n",
    "\n",
    "Para extraer numeros de un texto/numero utilizar la expresion regular \n",
    "    \n",
    "    ('(\\d+(?:\\.\\d+)?)')\n",
    "    \n",
    "\n"
   ]
  },
  {
   "cell_type": "code",
   "execution_count": 360,
   "metadata": {},
   "outputs": [],
   "source": [
    "# df1[pd.isna(df1['Código Distribuidor'])].head\n",
    "df1.to_excel('y:/19-POWER BI/01-Total Bebidas/TACO GQ/Desafios Mayo_procesado.xlsx', index=False)\n"
   ]
  },
  {
   "cell_type": "code",
   "execution_count": 361,
   "metadata": {},
   "outputs": [
    {
     "name": "stdout",
     "output_type": "stream",
     "text": [
      "Conect succesfull\n",
      "Carga exitosa\n"
     ]
    }
   ],
   "source": [
    "parameters = urllib.parse.quote_plus(\"DRIVER={SQL Server Native Client 11.0};\"\n",
    "                                     \"Server=WIN-SERVIDOR-BD\\DWGRUPOTOTAL;\"\n",
    "                                     \"DATABASE=DW_Central;\"\n",
    "                                     \"UID=sa;\"\n",
    "                                     \"PWD=DWpln21\")\n",
    "def conct():\n",
    "        try:\n",
    "                engine = sa.create_engine(\"mssql+pyodbc:///?odbc_connect={}\".format(parameters))\n",
    "                print(\"Conect succesfull\")\n",
    "        except Exception:\n",
    "                print(\"Errora in DataBase conection\")\n",
    "        try:\n",
    "                df1.to_sql('Desafios_BEES', con=engine, index=False, if_exists='append')\n",
    "                print(\"Carga exitosa\")\n",
    "        except Exception:\n",
    "                print(\"Error al cargar los datos\")\n",
    "conct()\n"
   ]
  }
 ],
 "metadata": {
  "kernelspec": {
   "display_name": "Python 3.10.4 ('venv': venv)",
   "language": "python",
   "name": "python3"
  },
  "language_info": {
   "codemirror_mode": {
    "name": "ipython",
    "version": 3
   },
   "file_extension": ".py",
   "mimetype": "text/x-python",
   "name": "python",
   "nbconvert_exporter": "python",
   "pygments_lexer": "ipython3",
   "version": "3.10.4"
  },
  "orig_nbformat": 4,
  "vscode": {
   "interpreter": {
    "hash": "897a6d9ead6ccb62961cfc597fe4d29a42b1d13c4cae0e68e38a104014edbaf7"
   }
  }
 },
 "nbformat": 4,
 "nbformat_minor": 2
}
