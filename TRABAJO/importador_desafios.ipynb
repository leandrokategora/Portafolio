{
 "cells": [
  {
   "cell_type": "code",
   "execution_count": 135,
   "metadata": {},
   "outputs": [],
   "source": [
    "import pandas as pd\n",
    "import numpy as np\n",
    "import urllib\n",
    "import sqlalchemy as Sa\n"
   ]
  },
  {
   "cell_type": "code",
   "execution_count": 173,
   "metadata": {},
   "outputs": [
    {
     "data": {
      "text/plain": [
       "array([nan])"
      ]
     },
     "execution_count": 173,
     "metadata": {},
     "output_type": "execute_result"
    }
   ],
   "source": [
    "df1 = pd.read_excel('y:/19-POWER BI/01-Total Bebidas/TACO GQ/Desafios Mayo.xlsb', skipfooter=3)\n",
    "df1 = df1[(df1['Distribuidor'] != 'Total') & (df1['ACCOUNT_ID'] != 'Total')]\n",
    "df1['Periodo'] = pd.to_datetime(\"6/1/2022\")\n",
    "df1['COD_CLIENTE'] = df1.ACCOUNT_ID.str.slice('[:9]')\n",
    "# df1['COD_CLIENTE'] = [str(line[7:]) for line in df1['ACCOUNT_ID']]\n",
    "# df1.drop(5990, axis=0, inplace=True)\n",
    "# df1['Código Distribuidor'].unique\n",
    "# df1['Código Distribuidor'].unique()\n",
    "df1.COD_CLIENTE.unique()"
   ]
  },
  {
   "cell_type": "code",
   "execution_count": 130,
   "metadata": {},
   "outputs": [],
   "source": [
    "# df1[pd.isna(df1['Código Distribuidor'])].head\n",
    "df1.to_excel('y:/19-POWER BI/01-Total Bebidas/TACO GQ/Desafios Mayo_procesado.xlsx', index=False)"
   ]
  }
 ],
 "metadata": {
  "kernelspec": {
   "display_name": "Python 3.10.4 ('venv': venv)",
   "language": "python",
   "name": "python3"
  },
  "language_info": {
   "codemirror_mode": {
    "name": "ipython",
    "version": 3
   },
   "file_extension": ".py",
   "mimetype": "text/x-python",
   "name": "python",
   "nbconvert_exporter": "python",
   "pygments_lexer": "ipython3",
   "version": "3.10.4"
  },
  "orig_nbformat": 4,
  "vscode": {
   "interpreter": {
    "hash": "897a6d9ead6ccb62961cfc597fe4d29a42b1d13c4cae0e68e38a104014edbaf7"
   }
  }
 },
 "nbformat": 4,
 "nbformat_minor": 2
}
