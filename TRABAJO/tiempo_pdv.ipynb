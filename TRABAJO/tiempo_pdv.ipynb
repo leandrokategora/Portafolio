{
 "cells": [
  {
   "cell_type": "code",
   "execution_count": 109,
   "metadata": {},
   "outputs": [],
   "source": [
    "import sqlalchemy as sa\n",
    "import pandas as pd\n",
    "import numpy as np\n",
    "from conct_db import enginex\n"
   ]
  },
  {
   "cell_type": "markdown",
   "metadata": {},
   "source": [
    "**LEEMOS LOS DATOS DESDE LA BD**"
   ]
  },
  {
   "cell_type": "code",
   "execution_count": 110,
   "metadata": {},
   "outputs": [
    {
     "data": {
      "text/html": [
       "<div>\n",
       "<style scoped>\n",
       "    .dataframe tbody tr th:only-of-type {\n",
       "        vertical-align: middle;\n",
       "    }\n",
       "\n",
       "    .dataframe tbody tr th {\n",
       "        vertical-align: top;\n",
       "    }\n",
       "\n",
       "    .dataframe thead th {\n",
       "        text-align: right;\n",
       "    }\n",
       "</style>\n",
       "<table border=\"1\" class=\"dataframe\">\n",
       "  <thead>\n",
       "    <tr style=\"text-align: right;\">\n",
       "      <th></th>\n",
       "      <th>CodigoDistribuidor</th>\n",
       "      <th>CodigoVendedor</th>\n",
       "      <th>Fecha</th>\n",
       "      <th>VisitId</th>\n",
       "      <th>CheckinStart</th>\n",
       "      <th>CheckinEnd</th>\n",
       "      <th>IsVisitValid</th>\n",
       "      <th>VisitDuration</th>\n",
       "      <th>Cliente</th>\n",
       "      <th>HasBuyed</th>\n",
       "      <th>AtWorkingHours</th>\n",
       "      <th>IsInRoute</th>\n",
       "    </tr>\n",
       "  </thead>\n",
       "  <tbody>\n",
       "    <tr>\n",
       "      <th>316124</th>\n",
       "      <td>369117</td>\n",
       "      <td>24.0</td>\n",
       "      <td>2022-07-06</td>\n",
       "      <td>320722750.0</td>\n",
       "      <td>2022-07-06 13:28:45</td>\n",
       "      <td>2022-07-06 13:32:33</td>\n",
       "      <td>True</td>\n",
       "      <td>228.0</td>\n",
       "      <td>1410.0</td>\n",
       "      <td>False</td>\n",
       "      <td>True</td>\n",
       "      <td>True</td>\n",
       "    </tr>\n",
       "    <tr>\n",
       "      <th>261303</th>\n",
       "      <td>445625</td>\n",
       "      <td>6.0</td>\n",
       "      <td>2022-07-05</td>\n",
       "      <td>319213418.0</td>\n",
       "      <td>2022-07-05 09:03:37</td>\n",
       "      <td>2022-07-05 09:45:24</td>\n",
       "      <td>True</td>\n",
       "      <td>2506.0</td>\n",
       "      <td>12673.0</td>\n",
       "      <td>False</td>\n",
       "      <td>True</td>\n",
       "      <td>True</td>\n",
       "    </tr>\n",
       "    <tr>\n",
       "      <th>69074</th>\n",
       "      <td>445625</td>\n",
       "      <td>12.0</td>\n",
       "      <td>2022-02-03</td>\n",
       "      <td>223043035.0</td>\n",
       "      <td>2022-02-03 09:32:38</td>\n",
       "      <td>2022-02-03 09:38:26</td>\n",
       "      <td>True</td>\n",
       "      <td>348.0</td>\n",
       "      <td>4124.0</td>\n",
       "      <td>False</td>\n",
       "      <td>True</td>\n",
       "      <td>True</td>\n",
       "    </tr>\n",
       "  </tbody>\n",
       "</table>\n",
       "</div>"
      ],
      "text/plain": [
       "       CodigoDistribuidor  CodigoVendedor      Fecha      VisitId  \\\n",
       "316124             369117            24.0 2022-07-06  320722750.0   \n",
       "261303             445625             6.0 2022-07-05  319213418.0   \n",
       "69074              445625            12.0 2022-02-03  223043035.0   \n",
       "\n",
       "              CheckinStart          CheckinEnd IsVisitValid  VisitDuration  \\\n",
       "316124 2022-07-06 13:28:45 2022-07-06 13:32:33         True          228.0   \n",
       "261303 2022-07-05 09:03:37 2022-07-05 09:45:24         True         2506.0   \n",
       "69074  2022-02-03 09:32:38 2022-02-03 09:38:26         True          348.0   \n",
       "\n",
       "        Cliente HasBuyed AtWorkingHours IsInRoute  \n",
       "316124   1410.0    False           True      True  \n",
       "261303  12673.0    False           True      True  \n",
       "69074    4124.0    False           True      True  "
      ]
     },
     "execution_count": 110,
     "metadata": {},
     "output_type": "execute_result"
    }
   ],
   "source": [
    "datos = pd.read_sql(\"\"\"SELECT * FROM VisitasMasuno WHERE Fecha>'2022-07-01'\"\"\", con=enginex)\n",
    "df_time = pd.DataFrame(datos)\n",
    "df_time.sample(3)"
   ]
  },
  {
   "cell_type": "markdown",
   "metadata": {},
   "source": [
    "**PROCESAMOS LOS DATOS PARA ADECUARLOS AL TRABAJO QUE VAMOS A REALIZAR**"
   ]
  },
  {
   "cell_type": "code",
   "execution_count": 111,
   "metadata": {},
   "outputs": [
    {
     "data": {
      "text/plain": [
       "<bound method NDFrame.sample of 0         23\n",
       "1         25\n",
       "2          1\n",
       "3         35\n",
       "4          2\n",
       "          ..\n",
       "401400     5\n",
       "401401     5\n",
       "401402     5\n",
       "401403     5\n",
       "401404     5\n",
       "Name: CodigoVendedor, Length: 401405, dtype: object>"
      ]
     },
     "execution_count": 111,
     "metadata": {},
     "output_type": "execute_result"
    }
   ],
   "source": [
    "# from sqlalchemy.types import INT\n",
    "df_time['CodigoVendedor']=df_time['CodigoVendedor'].astype(int)\n",
    "df_time['CodigoVendedor']=df_time['CodigoVendedor'].astype(str)\n",
    "df_time['CodigoDistribuidor']=df_time['CodigoDistribuidor'].astype(str)\n",
    "df_time['CodigoVendedor'].sample"
   ]
  },
  {
   "cell_type": "markdown",
   "metadata": {},
   "source": [
    "*CREAR EL CODIGO DE VENDEDOR CONCATENADO*"
   ]
  },
  {
   "cell_type": "code",
   "execution_count": 112,
   "metadata": {},
   "outputs": [
    {
     "data": {
      "text/plain": [
       "CodigoDistribuidor            object\n",
       "CodigoVendedor                object\n",
       "Fecha                 datetime64[ns]\n",
       "VisitId                      float64\n",
       "CheckinStart          datetime64[ns]\n",
       "CheckinEnd            datetime64[ns]\n",
       "IsVisitValid                  object\n",
       "VisitDuration                float64\n",
       "Cliente                      float64\n",
       "HasBuyed                      object\n",
       "AtWorkingHours                object\n",
       "IsInRoute                     object\n",
       "Cod_concat                    object\n",
       "dtype: object"
      ]
     },
     "execution_count": 112,
     "metadata": {},
     "output_type": "execute_result"
    }
   ],
   "source": [
    "df_time['Cod_concat']=df_time.CodigoDistribuidor.str.cat(df_time['CodigoVendedor'])\n",
    "# df_time['Cod_concat']=df_time.CodigoDistribuidor.astype(str)+df_time.CodigoVendedor.astype(str)\n",
    "df_time.dtypes"
   ]
  },
  {
   "cell_type": "code",
   "execution_count": 113,
   "metadata": {},
   "outputs": [
    {
     "data": {
      "text/html": [
       "<div>\n",
       "<style scoped>\n",
       "    .dataframe tbody tr th:only-of-type {\n",
       "        vertical-align: middle;\n",
       "    }\n",
       "\n",
       "    .dataframe tbody tr th {\n",
       "        vertical-align: top;\n",
       "    }\n",
       "\n",
       "    .dataframe thead th {\n",
       "        text-align: right;\n",
       "    }\n",
       "</style>\n",
       "<table border=\"1\" class=\"dataframe\">\n",
       "  <thead>\n",
       "    <tr style=\"text-align: right;\">\n",
       "      <th></th>\n",
       "      <th>CodigoDistribuidor</th>\n",
       "      <th>CodigoVendedor</th>\n",
       "      <th>Fecha</th>\n",
       "      <th>VisitId</th>\n",
       "      <th>CheckinStart</th>\n",
       "      <th>CheckinEnd</th>\n",
       "      <th>IsVisitValid</th>\n",
       "      <th>VisitDuration</th>\n",
       "      <th>Cliente</th>\n",
       "      <th>HasBuyed</th>\n",
       "      <th>AtWorkingHours</th>\n",
       "      <th>IsInRoute</th>\n",
       "      <th>Cod_concat</th>\n",
       "    </tr>\n",
       "  </thead>\n",
       "  <tbody>\n",
       "    <tr>\n",
       "      <th>28139</th>\n",
       "      <td>328660</td>\n",
       "      <td>4</td>\n",
       "      <td>2022-01-11</td>\n",
       "      <td>206960850.0</td>\n",
       "      <td>2022-01-11 09:18:19</td>\n",
       "      <td>2022-01-11 09:22:38</td>\n",
       "      <td>True</td>\n",
       "      <td>259.0</td>\n",
       "      <td>878.0</td>\n",
       "      <td>False</td>\n",
       "      <td>True</td>\n",
       "      <td>True</td>\n",
       "      <td>3286604</td>\n",
       "    </tr>\n",
       "    <tr>\n",
       "      <th>285270</th>\n",
       "      <td>445625</td>\n",
       "      <td>17</td>\n",
       "      <td>2022-05-16</td>\n",
       "      <td>281985610.0</td>\n",
       "      <td>2022-05-16 12:33:47</td>\n",
       "      <td>2022-05-16 12:44:13</td>\n",
       "      <td>True</td>\n",
       "      <td>626.0</td>\n",
       "      <td>339.0</td>\n",
       "      <td>False</td>\n",
       "      <td>True</td>\n",
       "      <td>True</td>\n",
       "      <td>44562517</td>\n",
       "    </tr>\n",
       "    <tr>\n",
       "      <th>117840</th>\n",
       "      <td>70425</td>\n",
       "      <td>4</td>\n",
       "      <td>2022-04-26</td>\n",
       "      <td>270090684.0</td>\n",
       "      <td>2022-04-26 12:20:04</td>\n",
       "      <td>2022-04-26 12:20:39</td>\n",
       "      <td>False</td>\n",
       "      <td>35.0</td>\n",
       "      <td>2028.0</td>\n",
       "      <td>False</td>\n",
       "      <td>True</td>\n",
       "      <td>True</td>\n",
       "      <td>704254</td>\n",
       "    </tr>\n",
       "  </tbody>\n",
       "</table>\n",
       "</div>"
      ],
      "text/plain": [
       "        CodigoDistribuidor  CodigoVendedor      Fecha      VisitId  \\\n",
       "28139               328660               4 2022-01-11  206960850.0   \n",
       "285270              445625              17 2022-05-16  281985610.0   \n",
       "117840               70425               4 2022-04-26  270090684.0   \n",
       "\n",
       "              CheckinStart          CheckinEnd IsVisitValid  VisitDuration  \\\n",
       "28139  2022-01-11 09:18:19 2022-01-11 09:22:38         True          259.0   \n",
       "285270 2022-05-16 12:33:47 2022-05-16 12:44:13         True          626.0   \n",
       "117840 2022-04-26 12:20:04 2022-04-26 12:20:39        False           35.0   \n",
       "\n",
       "        Cliente HasBuyed AtWorkingHours IsInRoute  Cod_concat  \n",
       "28139     878.0    False           True      True     3286604  \n",
       "285270    339.0    False           True      True    44562517  \n",
       "117840   2028.0    False           True      True      704254  "
      ]
     },
     "execution_count": 113,
     "metadata": {},
     "output_type": "execute_result"
    }
   ],
   "source": [
    "df_time[['CodigoDistribuidor', 'CodigoVendedor','Cod_concat']]=df_time[['CodigoDistribuidor', 'CodigoVendedor','Cod_concat']].astype(int)\n",
    "df_time.sample(3)"
   ]
  },
  {
   "cell_type": "markdown",
   "metadata": {},
   "source": [
    "**COMENZAMOS CON EL ANALISIS PROPIAMENTE DICHO**"
   ]
  },
  {
   "cell_type": "code",
   "execution_count": 114,
   "metadata": {},
   "outputs": [
    {
     "data": {
      "text/plain": [
       "Cod_concat  Fecha     \n",
       "704251      2022-01-08     3.711702\n",
       "            2022-01-10     4.875926\n",
       "            2022-01-11     3.796599\n",
       "            2022-01-12     3.948148\n",
       "            2022-01-13     2.826075\n",
       "                            ...    \n",
       "44562520    2022-07-18     4.138889\n",
       "            2022-07-19     1.326667\n",
       "            2022-07-21     4.431250\n",
       "            2022-07-22     1.083333\n",
       "            2022-07-25    23.566667\n",
       "Name: VisitDuration, Length: 11663, dtype: float64"
      ]
     },
     "execution_count": 114,
     "metadata": {},
     "output_type": "execute_result"
    }
   ],
   "source": [
    "df_time.groupby(['Cod_concat','Fecha'])['VisitDuration'].mean()/60"
   ]
  },
  {
   "cell_type": "code",
   "execution_count": 115,
   "metadata": {},
   "outputs": [],
   "source": [
    "df_promedioxdia= df_time.groupby(['Cod_concat', 'Fecha'])['VisitDuration'].aggregate(['min', 'mean', 'max'])"
   ]
  },
  {
   "cell_type": "code",
   "execution_count": 116,
   "metadata": {},
   "outputs": [
    {
     "data": {
      "text/html": [
       "<div>\n",
       "<style scoped>\n",
       "    .dataframe tbody tr th:only-of-type {\n",
       "        vertical-align: middle;\n",
       "    }\n",
       "\n",
       "    .dataframe tbody tr th {\n",
       "        vertical-align: top;\n",
       "    }\n",
       "\n",
       "    .dataframe thead th {\n",
       "        text-align: right;\n",
       "    }\n",
       "</style>\n",
       "<table border=\"1\" class=\"dataframe\">\n",
       "  <thead>\n",
       "    <tr style=\"text-align: right;\">\n",
       "      <th></th>\n",
       "      <th></th>\n",
       "      <th>min</th>\n",
       "      <th>mean</th>\n",
       "      <th>max</th>\n",
       "    </tr>\n",
       "    <tr>\n",
       "      <th>Cod_concat</th>\n",
       "      <th>Fecha</th>\n",
       "      <th></th>\n",
       "      <th></th>\n",
       "      <th></th>\n",
       "    </tr>\n",
       "  </thead>\n",
       "  <tbody>\n",
       "    <tr>\n",
       "      <th>36911723</th>\n",
       "      <th>2022-04-11</th>\n",
       "      <td>22.0</td>\n",
       "      <td>392.210526</td>\n",
       "      <td>1469.0</td>\n",
       "    </tr>\n",
       "    <tr>\n",
       "      <th>36911733</th>\n",
       "      <th>2022-07-20</th>\n",
       "      <td>19.0</td>\n",
       "      <td>306.914286</td>\n",
       "      <td>2216.0</td>\n",
       "    </tr>\n",
       "    <tr>\n",
       "      <th>36911737</th>\n",
       "      <th>2022-04-04</th>\n",
       "      <td>472.0</td>\n",
       "      <td>1666.500000</td>\n",
       "      <td>4456.0</td>\n",
       "    </tr>\n",
       "    <tr>\n",
       "      <th>3691174</th>\n",
       "      <th>2022-02-24</th>\n",
       "      <td>2.0</td>\n",
       "      <td>238.333333</td>\n",
       "      <td>1279.0</td>\n",
       "    </tr>\n",
       "    <tr>\n",
       "      <th>36911733</th>\n",
       "      <th>2022-01-26</th>\n",
       "      <td>3.0</td>\n",
       "      <td>210.808511</td>\n",
       "      <td>1370.0</td>\n",
       "    </tr>\n",
       "    <tr>\n",
       "      <th>36911717</th>\n",
       "      <th>2022-03-31</th>\n",
       "      <td>2.0</td>\n",
       "      <td>186.121951</td>\n",
       "      <td>1213.0</td>\n",
       "    </tr>\n",
       "    <tr>\n",
       "      <th>44562511</th>\n",
       "      <th>2022-07-11</th>\n",
       "      <td>3.0</td>\n",
       "      <td>278.571429</td>\n",
       "      <td>3573.0</td>\n",
       "    </tr>\n",
       "    <tr>\n",
       "      <th>36911725</th>\n",
       "      <th>2022-03-21</th>\n",
       "      <td>2.0</td>\n",
       "      <td>194.309524</td>\n",
       "      <td>763.0</td>\n",
       "    </tr>\n",
       "    <tr>\n",
       "      <th>4456254</th>\n",
       "      <th>2022-05-14</th>\n",
       "      <td>2.0</td>\n",
       "      <td>100.102041</td>\n",
       "      <td>967.0</td>\n",
       "    </tr>\n",
       "    <tr>\n",
       "      <th>3286607</th>\n",
       "      <th>2022-06-21</th>\n",
       "      <td>2.0</td>\n",
       "      <td>168.030303</td>\n",
       "      <td>894.0</td>\n",
       "    </tr>\n",
       "    <tr>\n",
       "      <th>44562518</th>\n",
       "      <th>2022-07-12</th>\n",
       "      <td>150.0</td>\n",
       "      <td>1746.875000</td>\n",
       "      <td>3204.0</td>\n",
       "    </tr>\n",
       "    <tr>\n",
       "      <th>3286601</th>\n",
       "      <th>2022-04-30</th>\n",
       "      <td>66.0</td>\n",
       "      <td>66.000000</td>\n",
       "      <td>66.0</td>\n",
       "    </tr>\n",
       "    <tr>\n",
       "      <th>3286606</th>\n",
       "      <th>2022-01-22</th>\n",
       "      <td>3.0</td>\n",
       "      <td>391.000000</td>\n",
       "      <td>1441.0</td>\n",
       "    </tr>\n",
       "    <tr>\n",
       "      <th>36911727</th>\n",
       "      <th>2022-05-19</th>\n",
       "      <td>6.0</td>\n",
       "      <td>1481.000000</td>\n",
       "      <td>3658.0</td>\n",
       "    </tr>\n",
       "    <tr>\n",
       "      <th>3698464</th>\n",
       "      <th>2022-06-25</th>\n",
       "      <td>4.0</td>\n",
       "      <td>256.142857</td>\n",
       "      <td>3142.0</td>\n",
       "    </tr>\n",
       "  </tbody>\n",
       "</table>\n",
       "</div>"
      ],
      "text/plain": [
       "                         min         mean     max\n",
       "Cod_concat Fecha                                 \n",
       "36911723   2022-04-11   22.0   392.210526  1469.0\n",
       "36911733   2022-07-20   19.0   306.914286  2216.0\n",
       "36911737   2022-04-04  472.0  1666.500000  4456.0\n",
       "3691174    2022-02-24    2.0   238.333333  1279.0\n",
       "36911733   2022-01-26    3.0   210.808511  1370.0\n",
       "36911717   2022-03-31    2.0   186.121951  1213.0\n",
       "44562511   2022-07-11    3.0   278.571429  3573.0\n",
       "36911725   2022-03-21    2.0   194.309524   763.0\n",
       "4456254    2022-05-14    2.0   100.102041   967.0\n",
       "3286607    2022-06-21    2.0   168.030303   894.0\n",
       "44562518   2022-07-12  150.0  1746.875000  3204.0\n",
       "3286601    2022-04-30   66.0    66.000000    66.0\n",
       "3286606    2022-01-22    3.0   391.000000  1441.0\n",
       "36911727   2022-05-19    6.0  1481.000000  3658.0\n",
       "3698464    2022-06-25    4.0   256.142857  3142.0"
      ]
     },
     "execution_count": 116,
     "metadata": {},
     "output_type": "execute_result"
    }
   ],
   "source": [
    "df_promedioxdia.sort_values('mean')\n",
    "df_promedioxdia.sample(15)"
   ]
  },
  {
   "cell_type": "code",
   "execution_count": 117,
   "metadata": {},
   "outputs": [],
   "source": [
    "# df_time['id']=df_time.index\n",
    "# df_time['id']=df_time['id'].astype(str)\n",
    "# df_time['id']=df_time['id']+'b'\n",
    "# df_time.sample()"
   ]
  }
 ],
 "metadata": {
  "kernelspec": {
   "display_name": "Python 3.10.4 64-bit (system)",
   "language": "python",
   "name": "python3"
  },
  "language_info": {
   "codemirror_mode": {
    "name": "ipython",
    "version": 3
   },
   "file_extension": ".py",
   "mimetype": "text/x-python",
   "name": "python",
   "nbconvert_exporter": "python",
   "pygments_lexer": "ipython3",
   "version": "3.10.4"
  },
  "orig_nbformat": 4,
  "vscode": {
   "interpreter": {
    "hash": "897a6d9ead6ccb62961cfc597fe4d29a42b1d13c4cae0e68e38a104014edbaf7"
   }
  }
 },
 "nbformat": 4,
 "nbformat_minor": 2
}
