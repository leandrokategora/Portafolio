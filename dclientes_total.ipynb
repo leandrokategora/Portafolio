{
 "cells": [
  {
   "cell_type": "code",
   "execution_count": 2,
   "metadata": {},
   "outputs": [
    {
     "name": "stdout",
     "output_type": "stream",
     "text": [
      "hello\n"
     ]
    }
   ],
   "source": [
    "print(\"hello\")\n",
    "import pandas as pd\n",
    "import numpy as np\n",
    "import sqlalchemy as sql"
   ]
  },
  {
   "cell_type": "code",
   "execution_count": 3,
   "metadata": {},
   "outputs": [
    {
     "name": "stdout",
     "output_type": "stream",
     "text": [
      "['codigo', 'razon_social', 'direccion', 'cp', 'localidad', 'provincia', 'cond_iva', 'cuit', 'zona', 'vendedor', 'ramo', 'estado', 'orden', 'lista', 'repartidor', 'cond_pago', 'cobraib', 'entrega_fac', 'fecha_baja', 'fecha_alta', 'telefono', 'horario', 'zonabis', 'vendbis', 'grupo', 'ordencam', 'motivonocomp_id', 'calle', 'altura', 'piso', 'depto', 'partido_id', 'geox', 'geoy', 'Fantasia', 'impuestoib', 'Comentario', 'NroIngresosBrutos', 'entreCalle1', 'entreCalle2', 'ObjetivoDeCompra', 'NroHabVtaAlcohol', 'VencimientoHabilitacion', 'Categoria', 'ZonaRep', 'Lunes', 'Martes', 'Miercoles', 'Jueves', 'Viernes', 'Sabado', 'Domingo', 'TopeSaldo', 'fecha_modificacion', 'deposito_id', 'sede_id', 'PartidoAbasto_id', 'Orden_Lunes', 'Orden_Martes', 'Orden_Miercoles', 'Orden_Jueves', 'Orden_Viernes', 'Orden_Sabado', 'Orden_Domingo', 'TopeBoletasCC', 'ordenbis', 'codigomadre', 'lunesbis', 'martesbis', 'miercolesbis', 'juevesbis', 'viernesbis', 'sabadobis', 'domingobis', 'TipoDoc', 'TipoEmpleado', 'email', 'Fax', 'Entrega_Calle', 'Entrega_Altura', 'Entrega_Piso', 'Entrega_Depto', 'Entrega_Partido_Id', 'Entrega_Localidad', 'Entrega_CP', 'Entrega_Provincia', 'recargoflete', 'centrocostos_id', 'NoTieneBaseIB', 'baseib', 'sueldo', 'SaldoAnt', 'Barrio', 'noalcohol', 'Contacto', 'descuentoglobal', 'recargofinanciero', 'distincionGEO', 'tipopdv', 'tieneheladera', 'impuestoibespecial', 'impuestoibespecialfechavenc', 'TipoFoco', 'localidadcot', 'codigodeproveedor', 'Bidones', 'Sifones', 'Canastas', 'recorrido', 'creditoanticipado', 'TopeDias', 'AdheridoaFidelizacion', 'Compartido', 'ClienteSegunProveedor', 'fecha_aniversario', 'EsFoco', 'Tiene_Heladera', 'Tiene_Punteras', 'EsTr', 'situacionib_id', 'grupocontrolca', 'empresa_id', 'codigonegociacion', 'cuitcontrolado', 'tipopuntera_id', 'TopePorFactura', 'codigoalias', 'porcuentayorden', 'fococluster', 'motivoConflictoCerveza_id', 'motivoConflictoUNG_id', 'motivoConflictoAguas_id', 'subsegmento_id', 'programamercado_codigo', 'expreso_codigo', 'deposito_codigo', 'impuestoabasto', 'Frecuencia', 'Segmento', 'rentabilidad', 'MinimoDeVenta', 'ComproPortafolio', 'TipoTiendaPerfecta_Codigo', 'comproportafolioporc', 'TiempoDeEntrega_Codigo', 'fechaAnclaje', 'semanaInicial', 'HorarioApertura', 'HorarioCierre', 'HorarioVentaApertura1', 'HorarioVentaCierre1', 'HorarioVentaApertura2', 'HorarioVentaCierre2', 'HorarioEntregaApertura1', 'HorarioEntregaCierre1', 'HorarioEntregaApertura2', 'HorarioEntregaCierre2', 'fechaModificado', 'fechaEnviado', 'LocalidadNueva_ID', 'alicuotaespecialiva', 'segmentocalculado', 'subsegmentopep_id', 'codigo.1', 'Descripcion', 'ramo_subramo', 'ramoq_id', 'RamoProv_Id', 'Reservado', 'nro_lista', 'canalp_id', 'descripcion']\n",
      "\n",
      "\n",
      "['Sucursal', 'Cliente', 'Razon social', 'Nombre de fantasia', 'Telefonos', 'Movil', 'e-Mail', 'Domicilio', 'Calle', 'Altura', 'Depto', 'Calle 1', 'Calle 2', 'Comentario', 'Coord X', 'Coord Y', 'Lugar de Entrega', 'Calle de entrega', 'Altura de entrega', 'Depto de entrega', 'Calle 1 de entrega', 'Calle 2 de entrega', 'Comentario de entrega', 'Horario de entrega', 'Flete de entrega', 'Coord X de entrega', 'Coord Y de entrega', 'Localidad', 'Descripcion localidad', 'Provincia', 'Descripcion provincia', 'Departamento', 'Descripcion departamento', 'Agrupacion', 'Descripcion agrupacion', 'Area', 'Descripcion area', 'Subcanal', 'Descripcion subcanal', 'Ramo', 'Descripcion ramo', 'Lista de precios', 'Descripcion lista de precios', 'Hereda', 'Lista de bonificaciones', 'Descripcion lista de bonificaciones', 'Forma de pago', 'Descripcion forma de pago', 'Plazo de pago', 'Limite Cr articulo', 'Descripcion limite Cr articulo', 'Limite Cr cantidad', 'Limite Cr importe', 'Categoria', 'Apellido paterno', 'Apellido materno', 'Nombres', 'Categoría', 'Descripcion categoría', 'Tipo Identif.', 'Descripcion Tipo Identif.', 'Identificador', 'Vencimiento CUIT', 'Exento IB', 'Inscripto IB', 'IB', 'Convenio multilateral', 'Agente de percepcion', 'Documento! por Defecto', 'Licencia alcohol', 'Vencimiento licencia alcohol', 'Alta fecha', 'Anulado', 'Anulado fecha', 'Modificacion fecha', 'Modificacion hora', 'Modificacion usuario', 'Cliente Asociado', 'Razón Social Cliente Asociado', 'Potencial', 'Cta. y Orden', 'Fuerza de venta 1 Ruta de venta', 'Fuerza de venta 1 Descripcion ruta de venta', 'Fuerza de venta 1 Personal comercial', 'Fuerza de venta 1 Descripcion personal comercial', 'Fuerza de venta 1 Dias de visita', 'Fuerza de venta 1 Orden de visita', 'Fuerza de venta 1 Rango Horario', 'Fuerza de venta 1 Horario', 'Fuerza de venta 1 Ruta de distribucion', 'Fuerza de venta 1 Descripcion ruta de distribucion', 'Fuerza de venta 1 Dias de entrega', 'Fuerza de venta 1 Orden de entrega', 'Fuerza de venta 1 Dominio', 'Fuerza de venta 1 Descripcion dominio', 'Fuerza de venta 1 Dominado', 'Fuerza de venta 1 Enfocado', 'Fuerza de venta 1 Descripcion Cluster', 'Fuerza de venta 1 Conflictivo', 'Fuerza de venta 1 Forma de pago', 'Fuerza de venta 1 Descripcion forma de pago', 'Fuerza de venta 1 Plazo de pago', 'Fuerza de venta 1 Fecha de alta', 'Fuerza de venta 1 Anulado', 'Fuerza de venta 1 Fecha de anulacion', 'Programa DON ALMACEN', 'Programa CREDITO ANTICIPADO', 'Programa REFERENTES REGULAR', 'Programa REFERENTES CHOPP', 'Programa REFERENTES HIGH END', 'Programa REFERENTES CANCHITAS', 'Programa MERCADO IDEAL', 'Programa PLAN UNIVERSIDADES', 'Programa FLAG PREMIUM', 'Programa FLAG INFLUENCER', 'Programa FLAG HE', 'Programa CONNECTED POC', 'Programa MERCADO IDEAL UNNA', 'Programa KAT', 'Programa COMPORTAMIENTO MAYORISTA', 'Programa POLO GASTRONÓMICO', 'Programa WE CHAT', 'Programa COMUNIDAD ALMACENERA', 'Programa CHOPP IN HOME', 'Programa PRÉSTAMO CERVECERO COVID-19', 'Programa POTENCIALES REF', 'Programa PLAN K+T MZA C 20', 'Programa AS BC']\n"
     ]
    }
   ],
   "source": [
    "df2 = pd.read_excel('C:/Users/Usuario/portafolio/TRABAJO/dClientes_KG_Chess.xlsb')\n",
    "df1 = pd.read_excel('C:/Users/Usuario/portafolio/TRABAJO/dClientes_TRC_gescom.xlsb')\n",
    "df = df1.copy(deep=True)\n",
    "list2 = list(df2.columns)\n",
    "list1 = list(df.columns)\n",
    "print(list1)\n",
    "print(\"\\n\")\n",
    "print(list2)"
   ]
  },
  {
   "cell_type": "code",
   "execution_count": null,
   "metadata": {},
   "outputs": [],
   "source": []
  }
 ],
 "metadata": {
  "kernelspec": {
   "display_name": "Python 3.10.2 ('venv': venv)",
   "language": "python",
   "name": "python3"
  },
  "language_info": {
   "codemirror_mode": {
    "name": "ipython",
    "version": 3
   },
   "file_extension": ".py",
   "mimetype": "text/x-python",
   "name": "python",
   "nbconvert_exporter": "python",
   "pygments_lexer": "ipython3",
   "version": "3.10.2"
  },
  "orig_nbformat": 4,
  "vscode": {
   "interpreter": {
    "hash": "287a66a52f405e2b7081530c5306b32f0ad20edbfea51e6d1e125b62da4a702b"
   }
  }
 },
 "nbformat": 4,
 "nbformat_minor": 2
}
